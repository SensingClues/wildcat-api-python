{
 "cells": [
  {
   "cell_type": "markdown",
   "id": "9e81d26a",
   "metadata": {},
   "source": [
    "# Example\n"
   ]
  },
  {
   "cell_type": "code",
   "execution_count": 14,
   "id": "217773bd",
   "metadata": {},
   "outputs": [
    {
     "name": "stdout",
     "output_type": "stream",
     "text": [
      "Collecting wildcatpy\n",
      "  Cloning https://****@github.com/SensingClues/wildcat-api-python.git (to revision main) to /private/var/folders/ym/vg2hn__n4h55zb6g8m66zg7w0000gn/T/pip-install-j5aqsvy_/wildcatpy_f04371b81d8e493cbf0531b8c335e1f2\n",
      "  Running command git clone --filter=blob:none --quiet 'https://****@github.com/SensingClues/wildcat-api-python.git' /private/var/folders/ym/vg2hn__n4h55zb6g8m66zg7w0000gn/T/pip-install-j5aqsvy_/wildcatpy_f04371b81d8e493cbf0531b8c335e1f2\n",
      "  Resolved https://****@github.com/SensingClues/wildcat-api-python.git to commit 34db6ce35d7b6f96894bcc02f995f39ada95d2ce\n",
      "  Preparing metadata (setup.py) ... \u001b[?25ldone\n",
      "\u001b[?25hCollecting pandas\n",
      "  Using cached pandas-1.5.1-cp310-cp310-macosx_10_9_x86_64.whl (12.0 MB)\n",
      "Collecting requests\n",
      "  Using cached requests-2.28.1-py3-none-any.whl (62 kB)\n",
      "Collecting geopandas\n",
      "  Using cached geopandas-0.12.0-py3-none-any.whl (1.1 MB)\n",
      "Collecting geojson\n",
      "  Using cached geojson-2.5.0-py2.py3-none-any.whl (14 kB)\n",
      "Collecting fiona>=1.8\n",
      "  Using cached Fiona-1.8.22-cp310-cp310-macosx_10_10_x86_64.whl (26.5 MB)\n",
      "Collecting shapely<2,>=1.7\n",
      "  Using cached Shapely-1.8.5.post1-cp310-cp310-macosx_10_9_x86_64.whl (1.2 MB)\n",
      "Collecting pyproj>=2.6.1.post1\n",
      "  Using cached pyproj-3.4.0-cp310-cp310-macosx_10_9_x86_64.whl (8.0 MB)\n",
      "Collecting packaging\n",
      "  Using cached packaging-21.3-py3-none-any.whl (40 kB)\n",
      "Collecting python-dateutil>=2.8.1\n",
      "  Using cached python_dateutil-2.8.2-py2.py3-none-any.whl (247 kB)\n",
      "Collecting numpy>=1.21.0\n",
      "  Using cached numpy-1.23.4-cp310-cp310-macosx_10_9_x86_64.whl (18.1 MB)\n",
      "Collecting pytz>=2020.1\n",
      "  Using cached pytz-2022.5-py2.py3-none-any.whl (500 kB)\n",
      "Collecting urllib3<1.27,>=1.21.1\n",
      "  Using cached urllib3-1.26.12-py2.py3-none-any.whl (140 kB)\n",
      "Collecting idna<4,>=2.5\n",
      "  Using cached idna-3.4-py3-none-any.whl (61 kB)\n",
      "Collecting certifi>=2017.4.17\n",
      "  Using cached certifi-2022.9.24-py3-none-any.whl (161 kB)\n",
      "Collecting charset-normalizer<3,>=2\n",
      "  Using cached charset_normalizer-2.1.1-py3-none-any.whl (39 kB)\n",
      "Collecting six>=1.7\n",
      "  Using cached six-1.16.0-py2.py3-none-any.whl (11 kB)\n",
      "Collecting cligj>=0.5\n",
      "  Using cached cligj-0.7.2-py3-none-any.whl (7.1 kB)\n",
      "Collecting munch\n",
      "  Using cached munch-2.5.0-py2.py3-none-any.whl (10 kB)\n",
      "Collecting setuptools\n",
      "  Using cached setuptools-65.5.0-py3-none-any.whl (1.2 MB)\n",
      "Collecting click>=4.0\n",
      "  Using cached click-8.1.3-py3-none-any.whl (96 kB)\n",
      "Collecting attrs>=17\n",
      "  Using cached attrs-22.1.0-py2.py3-none-any.whl (58 kB)\n",
      "Collecting click-plugins>=1.0\n",
      "  Using cached click_plugins-1.1.1-py2.py3-none-any.whl (7.5 kB)\n",
      "Collecting pyparsing!=3.0.5,>=2.0.2\n",
      "  Using cached pyparsing-3.0.9-py3-none-any.whl (98 kB)\n",
      "Building wheels for collected packages: wildcatpy\n",
      "  Building wheel for wildcatpy (setup.py) ... \u001b[?25ldone\n",
      "\u001b[?25h  Created wheel for wildcatpy: filename=wildcatpy-0.0.5-py3-none-any.whl size=9124 sha256=3205894944417d39edf90581beda99a08773d27c9871354e357433a0cab39ac9\n",
      "  Stored in directory: /private/var/folders/ym/vg2hn__n4h55zb6g8m66zg7w0000gn/T/pip-ephem-wheel-cache-nq3dqypi/wheels/e1/6b/ca/af6ddf3091372467e26b4bbf4a34fc55347a83f3cdbacc9199\n",
      "Successfully built wildcatpy\n",
      "Installing collected packages: pytz, geojson, urllib3, six, shapely, setuptools, pyparsing, numpy, idna, click, charset-normalizer, certifi, attrs, requests, python-dateutil, pyproj, packaging, munch, cligj, click-plugins, pandas, fiona, geopandas, wildcatpy\n",
      "\u001b[33m  WARNING: The scripts f2py, f2py3 and f2py3.10 are installed in '/Users/jobvancreij/Library/Python/3.10/bin' which is not on PATH.\n",
      "  Consider adding this directory to PATH or, if you prefer to suppress this warning, use --no-warn-script-location.\n",
      "  NOTE: The current PATH contains path(s) starting with `~`, which may not be expanded by all applications.\u001b[0m\u001b[33m\n",
      "\u001b[0m\u001b[33m  WARNING: The script normalizer is installed in '/Users/jobvancreij/Library/Python/3.10/bin' which is not on PATH.\n",
      "  Consider adding this directory to PATH or, if you prefer to suppress this warning, use --no-warn-script-location.\n",
      "  NOTE: The current PATH contains path(s) starting with `~`, which may not be expanded by all applications.\u001b[0m\u001b[33m\n",
      "\u001b[0m\u001b[33m  WARNING: The script pyproj is installed in '/Users/jobvancreij/Library/Python/3.10/bin' which is not on PATH.\n",
      "  Consider adding this directory to PATH or, if you prefer to suppress this warning, use --no-warn-script-location.\n",
      "  NOTE: The current PATH contains path(s) starting with `~`, which may not be expanded by all applications.\u001b[0m\u001b[33m\n",
      "\u001b[0m\u001b[33m  WARNING: The script fio is installed in '/Users/jobvancreij/Library/Python/3.10/bin' which is not on PATH.\n",
      "  Consider adding this directory to PATH or, if you prefer to suppress this warning, use --no-warn-script-location.\n",
      "  NOTE: The current PATH contains path(s) starting with `~`, which may not be expanded by all applications.\u001b[0m\u001b[33m\n",
      "\u001b[0mSuccessfully installed attrs-22.1.0 certifi-2022.9.24 charset-normalizer-2.1.1 click-8.1.3 click-plugins-1.1.1 cligj-0.7.2 fiona-1.8.22 geojson-2.5.0 geopandas-0.12.0 idna-3.4 munch-2.5.0 numpy-1.23.4 packaging-21.3 pandas-1.5.1 pyparsing-3.0.9 pyproj-3.4.0 python-dateutil-2.8.2 pytz-2022.5 requests-2.28.1 setuptools-65.5.0 shapely-1.8.5.post1 six-1.16.0 urllib3-1.26.12 wildcatpy-0.0.5\n",
      "\n",
      "\u001b[1m[\u001b[0m\u001b[34;49mnotice\u001b[0m\u001b[1;39;49m]\u001b[0m\u001b[39;49m A new release of pip available: \u001b[0m\u001b[31;49m22.2.2\u001b[0m\u001b[39;49m -> \u001b[0m\u001b[32;49m22.3\u001b[0m\n",
      "\u001b[1m[\u001b[0m\u001b[34;49mnotice\u001b[0m\u001b[1;39;49m]\u001b[0m\u001b[39;49m To update, run: \u001b[0m\u001b[32;49mpython3.10 -m pip install --upgrade pip\u001b[0m\n"
     ]
    }
   ],
   "source": [
    "!python3 -m pip install --force-reinstall git+https://<token>@github.com/SensingClues/wildcat-api-python.git@main#\"egg=wildcatpy\" --user"
   ]
  },
  {
   "cell_type": "code",
   "execution_count": 15,
   "id": "30eb978e",
   "metadata": {},
   "outputs": [],
   "source": [
    "#import the functions\n",
    "from wildcatpy.api_calls import WildcatApi\n",
    "from wildcatpy.src.helper_functions import *\n",
    "import json"
   ]
  },
  {
   "cell_type": "code",
   "execution_count": 16,
   "id": "27bce41c",
   "metadata": {},
   "outputs": [
    {
     "name": "stdout",
     "output_type": "stream",
     "text": [
      "Help on class WildcatApi in module wildcatpy.api_calls:\n",
      "\n",
      "class WildcatApi(builtins.object)\n",
      " |  WildcatApi(user_name, password)\n",
      " |  \n",
      " |  Methods defined here:\n",
      " |  \n",
      " |  __init__(self, user_name, password)\n",
      " |      Autoamtically login when initiate class\n",
      " |      :param user_name: Username for focus\n",
      " |      :param password: Password for focus\n",
      " |  \n",
      " |  add_geojson_to_track(self, metadata_input: pandas.core.frame.DataFrame) -> pandas.core.frame.DataFrame\n",
      " |      Takes track metadata and adds geojson to it\n",
      " |      \n",
      " |      :param track_metadata:\n",
      " |      :return: geo data\n",
      " |  \n",
      " |  api_call(self, action, url_addition, payload={})\n",
      " |      One function for a requests made so we only need to program logic once (catching errors etc)\n",
      " |      \n",
      " |      :param action: Type of request, currently post or get\n",
      " |      :param url_addition: what to add to the base url\n",
      " |      :param payload: the payload that has to be send\n",
      " |      :return:\n",
      " |  \n",
      " |  close_session(self)\n",
      " |  \n",
      " |  general_api_test(self, groups, type_analysis, extractor_name, bounds={'north': 90, 'east': 180, 'west': -179, 'south': -89}, from_date='1900-01-01', to_date='9999-12-31', _page_length=10, **kwargs)\n",
      " |  \n",
      " |  get_groups(self)\n",
      " |  \n",
      " |  login(self, username, password)\n",
      " |      Have to login before making requests\n",
      " |      \n",
      " |      :param username: Username for focus\n",
      " |      :param password: Passowrd for focus\n",
      " |      :return:\n",
      " |  \n",
      " |  logout(self)\n",
      " |  \n",
      " |  observation_extractor(self, groups, **kwargs)\n",
      " |  \n",
      " |  track_extractor(self, groups, **kwargs)\n",
      " |  \n",
      " |  ----------------------------------------------------------------------\n",
      " |  Data descriptors defined here:\n",
      " |  \n",
      " |  __dict__\n",
      " |      dictionary for instance variables (if defined)\n",
      " |  \n",
      " |  __weakref__\n",
      " |      list of weak references to the object (if defined)\n",
      "\n"
     ]
    }
   ],
   "source": [
    "help(WildcatApi)"
   ]
  },
  {
   "cell_type": "markdown",
   "id": "ed86738d",
   "metadata": {},
   "source": [
    "### 1.0 Login  (done)\n",
    "\n",
    "Needed before this step\n",
    "* \n",
    "  \n"
   ]
  },
  {
   "cell_type": "code",
   "execution_count": 17,
   "id": "cd450583",
   "metadata": {},
   "outputs": [],
   "source": [
    "username = \"jobvancreij\"\n",
    "password = \"\"\n"
   ]
  },
  {
   "cell_type": "code",
   "execution_count": 18,
   "id": "46471406",
   "metadata": {},
   "outputs": [
    {
     "name": "stdout",
     "output_type": "stream",
     "text": [
      "req to https://focus.sensingclues.org/api/auth/login success\n"
     ]
    }
   ],
   "source": [
    "#store this api_call object\n",
    "#This is needed for future calls\n",
    "api_call = WildcatApi(username,password)"
   ]
  },
  {
   "cell_type": "markdown",
   "id": "e2e3cf0e",
   "metadata": {},
   "source": [
    "# 1.1: Get groups (done)\n"
   ]
  },
  {
   "cell_type": "markdown",
   "id": "29815e9e",
   "metadata": {},
   "source": [
    "\n",
    "Needed before this step\n",
    "* 1.1 Login\n"
   ]
  },
  {
   "cell_type": "code",
   "execution_count": 19,
   "id": "786cb8e2",
   "metadata": {},
   "outputs": [
    {
     "name": "stdout",
     "output_type": "stream",
     "text": [
      "{'filters': {'dateTimeRange': {'from': '1900-01-01T00:00:00-00:00', 'to': '9999-12-31T23:59:59-00:00'}, 'entities': ['Observation', 'track']}, 'options': {'start': 1, 'pageLength': 0}}\n",
      "req to https://focus.sensingclues.org/api/search/all/facets success\n"
     ]
    }
   ],
   "source": [
    "info = api_call.get_groups()"
   ]
  },
  {
   "cell_type": "code",
   "execution_count": 20,
   "id": "f26792ca",
   "metadata": {},
   "outputs": [],
   "source": [
    "groups = \"focus-project-9045965\""
   ]
  },
  {
   "cell_type": "markdown",
   "id": "d85d1698",
   "metadata": {},
   "source": [
    "# 1.2: get-observations\n"
   ]
  },
  {
   "cell_type": "markdown",
   "id": "8fd16aeb",
   "metadata": {},
   "source": [
    "Needed before this step\n",
    "* 1.1 Login\n",
    "* 1.2 Get groups\n",
    "\n",
    "Todo\n",
    "- Fix ontology \n",
    "- Filter based on this "
   ]
  },
  {
   "cell_type": "code",
   "execution_count": 27,
   "id": "d98e5dcd",
   "metadata": {},
   "outputs": [
    {
     "name": "stdout",
     "output_type": "stream",
     "text": [
      "a\n"
     ]
    }
   ],
   "source": [
    "def test(x, **params):\n",
    "    bound = params.get(\"bounds\", None)\n",
    "    if bound is not None:\n",
    "        print(bound)\n",
    "        \n",
    "    \n",
    "test(1, bounds=\"a\", other=\"c\")"
   ]
  },
  {
   "cell_type": "code",
   "execution_count": 21,
   "id": "a1591781",
   "metadata": {},
   "outputs": [
    {
     "name": "stdout",
     "output_type": "stream",
     "text": [
      "{'filters': {'geoQuery': {'mapBounds': {'north': -3, 'east': 41, 'south': -6, 'west': 38}, 'operator': ['intersects']}, 'dateTimeRange': {'from': '2022-10-01T00:00:00-00:00', 'to': '2022-10-12T23:59:59-00:00'}, 'entities': ['observation'], 'concepts': 'https://sensingclues.poolparty.biz/SCCSSOntology/97', 'dataSources': 'focus-project-9045965'}, 'options': {'start': 1, 'pageLength': 10}}\n",
      "{'filters': {'geoQuery': {'mapBounds': {'north': -3, 'east': 41, 'south': -6, 'west': 38}, 'operator': ['intersects']}, 'dateTimeRange': {'from': '2022-10-01T00:00:00-00:00', 'to': '2022-10-12T23:59:59-00:00'}, 'entities': ['observation'], 'concepts': 'https://sensingclues.poolparty.biz/SCCSSOntology/97', 'dataSources': 'focus-project-9045965'}, 'options': {'start': 1, 'pageLength': 10}}\n",
      "req to https://focus.sensingclues.org/api/search/all/results success\n",
      "{'filters': {'geoQuery': {'mapBounds': {'north': -3, 'east': 41, 'south': -6, 'west': 38}, 'operator': ['intersects']}, 'dateTimeRange': {'from': '2022-10-01T00:00:00-00:00', 'to': '2022-10-12T23:59:59-00:00'}, 'entities': ['observation'], 'concepts': 'https://sensingclues.poolparty.biz/SCCSSOntology/97', 'dataSources': 'focus-project-9045965'}, 'options': {'start': 11, 'pageLength': 10}}\n",
      "{'filters': {'geoQuery': {'mapBounds': {'north': -3, 'east': 41, 'south': -6, 'west': 38}, 'operator': ['intersects']}, 'dateTimeRange': {'from': '2022-10-01T00:00:00-00:00', 'to': '2022-10-12T23:59:59-00:00'}, 'entities': ['observation'], 'concepts': 'https://sensingclues.poolparty.biz/SCCSSOntology/97', 'dataSources': 'focus-project-9045965'}, 'options': {'start': 11, 'pageLength': 10}}\n",
      "req to https://focus.sensingclues.org/api/search/all/results success\n",
      "['operator', 'to_date', 'bounds', 'concepts', 'from_date']\n"
     ]
    }
   ],
   "source": [
    "observations = api_call.observation_extractor(groups=groups,\n",
    "                                              operator = [\"intersects\"],\n",
    "                                              to_date = '2022-10-12',\n",
    "                                              bounds = {\"north\":-3,\"east\":41,\"south\":-6,\"west\":38},\n",
    "                                              concepts = \"https://sensingclues.poolparty.biz/SCCSSOntology/97\",\n",
    "                                              from_date = \"2022-10-01\"\n",
    "                                             )"
   ]
  },
  {
   "cell_type": "code",
   "execution_count": 22,
   "id": "80cee935",
   "metadata": {},
   "outputs": [
    {
     "data": {
      "text/html": [
       "<div>\n",
       "<style scoped>\n",
       "    .dataframe tbody tr th:only-of-type {\n",
       "        vertical-align: middle;\n",
       "    }\n",
       "\n",
       "    .dataframe tbody tr th {\n",
       "        vertical-align: top;\n",
       "    }\n",
       "\n",
       "    .dataframe thead th {\n",
       "        text-align: right;\n",
       "    }\n",
       "</style>\n",
       "<table border=\"1\" class=\"dataframe\">\n",
       "  <thead>\n",
       "    <tr style=\"text-align: right;\">\n",
       "      <th></th>\n",
       "      <th>entityId</th>\n",
       "      <th>entityType</th>\n",
       "      <th>projectId</th>\n",
       "      <th>projectName</th>\n",
       "      <th>observationType</th>\n",
       "      <th>when</th>\n",
       "      <th>where</th>\n",
       "      <th>agentName</th>\n",
       "      <th>label</th>\n",
       "      <th>conceptId</th>\n",
       "    </tr>\n",
       "  </thead>\n",
       "  <tbody>\n",
       "    <tr>\n",
       "      <th>2</th>\n",
       "      <td>O9045965-n7a3989f59836240e</td>\n",
       "      <td>offence</td>\n",
       "      <td>9045965</td>\n",
       "      <td>KCRP 2022</td>\n",
       "      <td>offence</td>\n",
       "      <td>2022-10-08T09:22:39+0300</td>\n",
       "      <td>{'coordinates': [38.6229618, -3.69157859999999...</td>\n",
       "      <td>5Y-CBW</td>\n",
       "      <td>Charcoaling</td>\n",
       "      <td>https://sensingclues.poolparty.biz/SCCSSOntolo...</td>\n",
       "    </tr>\n",
       "    <tr>\n",
       "      <th>7</th>\n",
       "      <td>O9045965-n8f8f14bb2a58be58</td>\n",
       "      <td>offence</td>\n",
       "      <td>9045965</td>\n",
       "      <td>KCRP 2022</td>\n",
       "      <td>offence</td>\n",
       "      <td>2022-10-07T15:22:13+0300</td>\n",
       "      <td>{'coordinates': [38.6875453, -4.06054860000003...</td>\n",
       "      <td>TRU20</td>\n",
       "      <td>Charcoaling</td>\n",
       "      <td>https://sensingclues.poolparty.biz/SCCSSOntolo...</td>\n",
       "    </tr>\n",
       "    <tr>\n",
       "      <th>10</th>\n",
       "      <td>O9045965-n5e38bfa1cb09218c</td>\n",
       "      <td>offence</td>\n",
       "      <td>9045965</td>\n",
       "      <td>KCRP 2022</td>\n",
       "      <td>offence</td>\n",
       "      <td>2022-10-07T07:33:34+0300</td>\n",
       "      <td>{'coordinates': [38.978372, -3.89590380000003]...</td>\n",
       "      <td>5Y-CBW</td>\n",
       "      <td>Charcoaling</td>\n",
       "      <td>https://sensingclues.poolparty.biz/SCCSSOntolo...</td>\n",
       "    </tr>\n",
       "    <tr>\n",
       "      <th>13</th>\n",
       "      <td>O9045965-n69c248944d4801cd</td>\n",
       "      <td>offence</td>\n",
       "      <td>9045965</td>\n",
       "      <td>KCRP 2022</td>\n",
       "      <td>offence</td>\n",
       "      <td>2022-10-07T07:04:53+0300</td>\n",
       "      <td>{'coordinates': [38.9330931, -3.94565910000001...</td>\n",
       "      <td>5Y-CBW</td>\n",
       "      <td>Charcoaling</td>\n",
       "      <td>https://sensingclues.poolparty.biz/SCCSSOntolo...</td>\n",
       "    </tr>\n",
       "    <tr>\n",
       "      <th>15</th>\n",
       "      <td>O9045965-n464d06bdd78e77f9</td>\n",
       "      <td>offence</td>\n",
       "      <td>9045965</td>\n",
       "      <td>KCRP 2022</td>\n",
       "      <td>offence</td>\n",
       "      <td>2022-10-06T09:42:53+0300</td>\n",
       "      <td>{'coordinates': [38.4485828, -3.7599067], 'typ...</td>\n",
       "      <td>5Y-CBW</td>\n",
       "      <td>Charcoaling</td>\n",
       "      <td>https://sensingclues.poolparty.biz/SCCSSOntolo...</td>\n",
       "    </tr>\n",
       "    <tr>\n",
       "      <th>19</th>\n",
       "      <td>O9045965-n6b49e3defce454dd</td>\n",
       "      <td>offence</td>\n",
       "      <td>9045965</td>\n",
       "      <td>KCRP 2022</td>\n",
       "      <td>offence</td>\n",
       "      <td>2022-10-06T09:26:33+0300</td>\n",
       "      <td>{'coordinates': [38.6385054, -4.0480808], 'typ...</td>\n",
       "      <td>5YBRD</td>\n",
       "      <td>Charcoaling</td>\n",
       "      <td>https://sensingclues.poolparty.biz/SCCSSOntolo...</td>\n",
       "    </tr>\n",
       "    <tr>\n",
       "      <th>25</th>\n",
       "      <td>O9045965-n74a6b3095c0fd599</td>\n",
       "      <td>offence</td>\n",
       "      <td>9045965</td>\n",
       "      <td>KCRP 2022</td>\n",
       "      <td>offence</td>\n",
       "      <td>2022-10-02T11:49:42+0300</td>\n",
       "      <td>{'coordinates': [38.630195, -3.65132500000001]...</td>\n",
       "      <td>KSW80</td>\n",
       "      <td>Charcoaling</td>\n",
       "      <td>https://sensingclues.poolparty.biz/SCCSSOntolo...</td>\n",
       "    </tr>\n",
       "    <tr>\n",
       "      <th>32</th>\n",
       "      <td>O9045965-n25e7ef9d2baddac7</td>\n",
       "      <td>offence</td>\n",
       "      <td>9045965</td>\n",
       "      <td>KCRP 2022</td>\n",
       "      <td>offence</td>\n",
       "      <td>2022-10-02T11:25:09+0300</td>\n",
       "      <td>{'coordinates': [38.6295747, -3.64903560000002...</td>\n",
       "      <td>KSW80</td>\n",
       "      <td>Charcoaling</td>\n",
       "      <td>https://sensingclues.poolparty.biz/SCCSSOntolo...</td>\n",
       "    </tr>\n",
       "    <tr>\n",
       "      <th>39</th>\n",
       "      <td>O9045965-n11fbededd548338c</td>\n",
       "      <td>offence</td>\n",
       "      <td>9045965</td>\n",
       "      <td>KCRP 2022</td>\n",
       "      <td>offence</td>\n",
       "      <td>2022-10-01T09:31:37+0300</td>\n",
       "      <td>{'coordinates': [38.6182746, -3.6684147], 'typ...</td>\n",
       "      <td>5YBRD</td>\n",
       "      <td>Charcoaling</td>\n",
       "      <td>https://sensingclues.poolparty.biz/SCCSSOntolo...</td>\n",
       "    </tr>\n",
       "  </tbody>\n",
       "</table>\n",
       "</div>"
      ],
      "text/plain": [
       "                      entityId entityType projectId projectName  \\\n",
       "2   O9045965-n7a3989f59836240e    offence   9045965   KCRP 2022   \n",
       "7   O9045965-n8f8f14bb2a58be58    offence   9045965   KCRP 2022   \n",
       "10  O9045965-n5e38bfa1cb09218c    offence   9045965   KCRP 2022   \n",
       "13  O9045965-n69c248944d4801cd    offence   9045965   KCRP 2022   \n",
       "15  O9045965-n464d06bdd78e77f9    offence   9045965   KCRP 2022   \n",
       "19  O9045965-n6b49e3defce454dd    offence   9045965   KCRP 2022   \n",
       "25  O9045965-n74a6b3095c0fd599    offence   9045965   KCRP 2022   \n",
       "32  O9045965-n25e7ef9d2baddac7    offence   9045965   KCRP 2022   \n",
       "39  O9045965-n11fbededd548338c    offence   9045965   KCRP 2022   \n",
       "\n",
       "   observationType                      when  \\\n",
       "2          offence  2022-10-08T09:22:39+0300   \n",
       "7          offence  2022-10-07T15:22:13+0300   \n",
       "10         offence  2022-10-07T07:33:34+0300   \n",
       "13         offence  2022-10-07T07:04:53+0300   \n",
       "15         offence  2022-10-06T09:42:53+0300   \n",
       "19         offence  2022-10-06T09:26:33+0300   \n",
       "25         offence  2022-10-02T11:49:42+0300   \n",
       "32         offence  2022-10-02T11:25:09+0300   \n",
       "39         offence  2022-10-01T09:31:37+0300   \n",
       "\n",
       "                                                where agentName        label  \\\n",
       "2   {'coordinates': [38.6229618, -3.69157859999999...    5Y-CBW  Charcoaling   \n",
       "7   {'coordinates': [38.6875453, -4.06054860000003...     TRU20  Charcoaling   \n",
       "10  {'coordinates': [38.978372, -3.89590380000003]...    5Y-CBW  Charcoaling   \n",
       "13  {'coordinates': [38.9330931, -3.94565910000001...    5Y-CBW  Charcoaling   \n",
       "15  {'coordinates': [38.4485828, -3.7599067], 'typ...    5Y-CBW  Charcoaling   \n",
       "19  {'coordinates': [38.6385054, -4.0480808], 'typ...     5YBRD  Charcoaling   \n",
       "25  {'coordinates': [38.630195, -3.65132500000001]...     KSW80  Charcoaling   \n",
       "32  {'coordinates': [38.6295747, -3.64903560000002...     KSW80  Charcoaling   \n",
       "39  {'coordinates': [38.6182746, -3.6684147], 'typ...     5YBRD  Charcoaling   \n",
       "\n",
       "                                            conceptId  \n",
       "2   https://sensingclues.poolparty.biz/SCCSSOntolo...  \n",
       "7   https://sensingclues.poolparty.biz/SCCSSOntolo...  \n",
       "10  https://sensingclues.poolparty.biz/SCCSSOntolo...  \n",
       "13  https://sensingclues.poolparty.biz/SCCSSOntolo...  \n",
       "15  https://sensingclues.poolparty.biz/SCCSSOntolo...  \n",
       "19  https://sensingclues.poolparty.biz/SCCSSOntolo...  \n",
       "25  https://sensingclues.poolparty.biz/SCCSSOntolo...  \n",
       "32  https://sensingclues.poolparty.biz/SCCSSOntolo...  \n",
       "39  https://sensingclues.poolparty.biz/SCCSSOntolo...  "
      ]
     },
     "execution_count": 22,
     "metadata": {},
     "output_type": "execute_result"
    }
   ],
   "source": [
    "observations.loc[observations[\"conceptId\"] == \"https://sensingclues.poolparty.biz/SCCSSOntology/97\"]"
   ]
  },
  {
   "cell_type": "code",
   "execution_count": 36,
   "id": "321bba49",
   "metadata": {},
   "outputs": [
    {
     "data": {
      "text/plain": [
       "{'O9045965-n11fbededd548338c',\n",
       " 'O9045965-n25e7ef9d2baddac7',\n",
       " 'O9045965-n464d06bdd78e77f9',\n",
       " 'O9045965-n5e38bfa1cb09218c',\n",
       " 'O9045965-n69c248944d4801cd',\n",
       " 'O9045965-n6b49e3defce454dd',\n",
       " 'O9045965-n74a6b3095c0fd599',\n",
       " 'O9045965-n7a3989f59836240e',\n",
       " 'O9045965-n8f8f14bb2a58be58'}"
      ]
     },
     "execution_count": 36,
     "metadata": {},
     "output_type": "execute_result"
    }
   ],
   "source": [
    "set(_ for _ in observations[\"entityId\"].to_numpy())"
   ]
  },
  {
   "cell_type": "markdown",
   "id": "4bd59d43",
   "metadata": {},
   "source": [
    "# 1.3: get-track-metadata\n"
   ]
  },
  {
   "cell_type": "markdown",
   "id": "ce3706c8",
   "metadata": {},
   "source": [
    "Needed before this step\n",
    "* 1.1 Login\n",
    "* 1.2 Get groups"
   ]
  },
  {
   "cell_type": "code",
   "execution_count": null,
   "id": "c6f61b9b",
   "metadata": {},
   "outputs": [],
   "source": [
    "output = api_call.track_extractor(groups=groups,end_time=\"T23:59:54-00:00\")"
   ]
  },
  {
   "cell_type": "code",
   "execution_count": null,
   "id": "f1743e2a",
   "metadata": {},
   "outputs": [],
   "source": [
    "import pandas as pd\n",
    "output.head()"
   ]
  },
  {
   "cell_type": "code",
   "execution_count": null,
   "id": "dc4c4775",
   "metadata": {},
   "outputs": [],
   "source": [
    "incl_geo = api_call.add_geojson_to_track(output)"
   ]
  },
  {
   "cell_type": "code",
   "execution_count": null,
   "id": "3acb418c",
   "metadata": {},
   "outputs": [],
   "source": [
    "incl_geo.head()"
   ]
  },
  {
   "cell_type": "code",
   "execution_count": null,
   "id": "12860fab",
   "metadata": {},
   "outputs": [],
   "source": [
    "incl_geo[\"geometry\"][1]"
   ]
  },
  {
   "cell_type": "code",
   "execution_count": null,
   "id": "6a236790",
   "metadata": {},
   "outputs": [],
   "source": [
    "incl_geo[\"geometry\"][1]"
   ]
  },
  {
   "cell_type": "code",
   "execution_count": null,
   "id": "9f733c60",
   "metadata": {},
   "outputs": [],
   "source": []
  }
 ],
 "metadata": {
  "kernelspec": {
   "display_name": "Python 3 (ipykernel)",
   "language": "python",
   "name": "python3"
  },
  "language_info": {
   "codemirror_mode": {
    "name": "ipython",
    "version": 3
   },
   "file_extension": ".py",
   "mimetype": "text/x-python",
   "name": "python",
   "nbconvert_exporter": "python",
   "pygments_lexer": "ipython3",
   "version": "3.10.6"
  }
 },
 "nbformat": 4,
 "nbformat_minor": 5
}
