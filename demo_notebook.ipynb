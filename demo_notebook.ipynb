{
 "cells": [
  {
   "cell_type": "markdown",
   "id": "9e81d26a",
   "metadata": {},
   "source": [
    "# Example\n"
   ]
  },
  {
   "cell_type": "code",
   "execution_count": 1,
   "id": "30eb978e",
   "metadata": {},
   "outputs": [],
   "source": [
    "#import the functions\n",
    "from wildcatpy.api_calls import WildcatApi\n",
    "from wildcatpy.src.helper_functions import *\n",
    "import json"
   ]
  },
  {
   "cell_type": "code",
   "execution_count": null,
   "id": "a800613e",
   "metadata": {},
   "outputs": [],
   "source": [
    "!python3 -m pip uninstall wildcatpy --y\n",
    "!python3 -m pip install geopandas\n",
    "!python3 -m pip install geojson\n",
    "!python3 -m pip install BytesIO"
   ]
  },
  {
   "cell_type": "code",
   "execution_count": 2,
   "id": "27bce41c",
   "metadata": {},
   "outputs": [
    {
     "name": "stdout",
     "output_type": "stream",
     "text": [
      "Help on class WildcatApi in module wildcatpy.api_calls:\n",
      "\n",
      "class WildcatApi(builtins.object)\n",
      " |  WildcatApi(user_name, password)\n",
      " |  \n",
      " |  Methods defined here:\n",
      " |  \n",
      " |  __init__(self, user_name, password)\n",
      " |      Autoamtically login when initiate class\n",
      " |      :param user_name: Username for focus\n",
      " |      :param password: Password for focus\n",
      " |  \n",
      " |  add_geojson_to_track(self, metadata_input: pandas.core.frame.DataFrame) -> pandas.core.frame.DataFrame\n",
      " |      Takes track metadata and adds geojson to it\n",
      " |      \n",
      " |      :param track_metadata:\n",
      " |      :return: geo data\n",
      " |  \n",
      " |  api_call(self, action, url_addition, payload={})\n",
      " |      One function for a requests made so we only need to program logic once (catching errors etc)\n",
      " |      \n",
      " |      :param action: Type of request, currently post or get\n",
      " |      :param url_addition: what to add to the base url\n",
      " |      :param payload: the payload that has to be send\n",
      " |      :return:\n",
      " |  \n",
      " |  close_session(self)\n",
      " |  \n",
      " |  general_api_test(self, groups, type_analysis, extractor_name, bounds={'north': 90, 'east': 180, 'west': -179, 'south': -89}, from_date='1900-01-01', to_date='9999-12-31', _page_length=10, **kwargs)\n",
      " |  \n",
      " |  get_groups(self)\n",
      " |  \n",
      " |  login(self, username, password)\n",
      " |      Have to login before making requests\n",
      " |      \n",
      " |      :param username: Username for focus\n",
      " |      :param password: Passowrd for focus\n",
      " |      :return:\n",
      " |  \n",
      " |  logout(self)\n",
      " |  \n",
      " |  observation_extractor(self, groups, **kwargs)\n",
      " |  \n",
      " |  track_extractor(self, groups, **kwargs)\n",
      " |  \n",
      " |  ----------------------------------------------------------------------\n",
      " |  Data descriptors defined here:\n",
      " |  \n",
      " |  __dict__\n",
      " |      dictionary for instance variables (if defined)\n",
      " |  \n",
      " |  __weakref__\n",
      " |      list of weak references to the object (if defined)\n",
      "\n"
     ]
    }
   ],
   "source": [
    "help(WildcatApi)"
   ]
  },
  {
   "cell_type": "markdown",
   "id": "ed86738d",
   "metadata": {},
   "source": [
    "### 1.0 Login  (done)\n",
    "\n",
    "Needed before this step\n",
    "* \n",
    "  \n"
   ]
  },
  {
   "cell_type": "code",
   "execution_count": 17,
   "id": "cd450583",
   "metadata": {},
   "outputs": [],
   "source": [
    "username = \"jobvancreij\"\n",
    "password = \"\""
   ]
  },
  {
   "cell_type": "code",
   "execution_count": 4,
   "id": "46471406",
   "metadata": {},
   "outputs": [
    {
     "name": "stdout",
     "output_type": "stream",
     "text": [
      "req to https://focus.sensingclues.org/api/auth/login success\n"
     ]
    }
   ],
   "source": [
    "#store this api_call object\n",
    "#This is needed for future calls\n",
    "api_call = WildcatApi(username,password)"
   ]
  },
  {
   "cell_type": "markdown",
   "id": "e2e3cf0e",
   "metadata": {},
   "source": [
    "# 1.1: Get groups (done)\n"
   ]
  },
  {
   "cell_type": "markdown",
   "id": "29815e9e",
   "metadata": {},
   "source": [
    "\n",
    "Needed before this step\n",
    "* 1.1 Login\n"
   ]
  },
  {
   "cell_type": "code",
   "execution_count": 5,
   "id": "786cb8e2",
   "metadata": {},
   "outputs": [
    {
     "name": "stdout",
     "output_type": "stream",
     "text": [
      "req to https://focus.sensingclues.org/api/search/all/facets success\n"
     ]
    }
   ],
   "source": [
    "info = api_call.get_groups()"
   ]
  },
  {
   "cell_type": "code",
   "execution_count": 6,
   "id": "d2164880",
   "metadata": {},
   "outputs": [
    {
     "data": {
      "text/html": [
       "<div>\n",
       "<style scoped>\n",
       "    .dataframe tbody tr th:only-of-type {\n",
       "        vertical-align: middle;\n",
       "    }\n",
       "\n",
       "    .dataframe tbody tr th {\n",
       "        vertical-align: top;\n",
       "    }\n",
       "\n",
       "    .dataframe thead th {\n",
       "        text-align: right;\n",
       "    }\n",
       "</style>\n",
       "<table border=\"1\" class=\"dataframe\">\n",
       "  <thead>\n",
       "    <tr style=\"text-align: right;\">\n",
       "      <th></th>\n",
       "      <th>name</th>\n",
       "      <th>count</th>\n",
       "      <th>value</th>\n",
       "    </tr>\n",
       "  </thead>\n",
       "  <tbody>\n",
       "    <tr>\n",
       "      <th>0</th>\n",
       "      <td>focus-project-7136973</td>\n",
       "      <td>477</td>\n",
       "      <td>Cluey Data Collector</td>\n",
       "    </tr>\n",
       "  </tbody>\n",
       "</table>\n",
       "</div>"
      ],
      "text/plain": [
       "                    name  count                 value\n",
       "0  focus-project-7136973    477  Cluey Data Collector"
      ]
     },
     "execution_count": 6,
     "metadata": {},
     "output_type": "execute_result"
    }
   ],
   "source": [
    "info.head()"
   ]
  },
  {
   "cell_type": "code",
   "execution_count": 7,
   "id": "f26792ca",
   "metadata": {},
   "outputs": [],
   "source": [
    "groups = \"focus-project-7136973\""
   ]
  },
  {
   "cell_type": "markdown",
   "id": "d85d1698",
   "metadata": {},
   "source": [
    "# 1.2: get-observations\n"
   ]
  },
  {
   "cell_type": "markdown",
   "id": "8fd16aeb",
   "metadata": {},
   "source": [
    "Needed before this step\n",
    "* 1.1 Login\n",
    "* 1.2 Get groups\n",
    "\n",
    "Todo\n",
    "- Fix ontology \n",
    "- Filter based on this "
   ]
  },
  {
   "cell_type": "code",
   "execution_count": 15,
   "id": "a1591781",
   "metadata": {},
   "outputs": [
    {
     "name": "stdout",
     "output_type": "stream",
     "text": [
      "{'filters': {'geoQuery': {'mapBounds': {'north': 90, 'east': 180, 'west': -179, 'south': -89}, 'operator': ['intersects']}, 'dateTimeRange': {'from': '1900-01-01T00:00:00-00:00', 'to': '9999-12-31T23:59:59-00:00'}, 'entities': ['observation'], 'dataSources': 'focus-project-7136973'}, 'options': {'start': 1, 'pageLength': 10}}\n",
      "req to https://focus.sensingclues.org/api/search/all/results success\n",
      "{'filters': {'geoQuery': {'mapBounds': {'north': 90, 'east': 180, 'west': -179, 'south': -89}, 'operator': ['intersects']}, 'dateTimeRange': {'from': '1900-01-01T00:00:00-00:00', 'to': '9999-12-31T23:59:59-00:00'}, 'entities': ['observation'], 'dataSources': 'focus-project-7136973'}, 'options': {'start': 11, 'pageLength': 10}}\n",
      "req to https://focus.sensingclues.org/api/search/all/results success\n",
      "{'filters': {'geoQuery': {'mapBounds': {'north': 90, 'east': 180, 'west': -179, 'south': -89}, 'operator': ['intersects']}, 'dateTimeRange': {'from': '1900-01-01T00:00:00-00:00', 'to': '9999-12-31T23:59:59-00:00'}, 'entities': ['observation'], 'dataSources': 'focus-project-7136973'}, 'options': {'start': 21, 'pageLength': 10}}\n",
      "req to https://focus.sensingclues.org/api/search/all/results success\n",
      "{'filters': {'geoQuery': {'mapBounds': {'north': 90, 'east': 180, 'west': -179, 'south': -89}, 'operator': ['intersects']}, 'dateTimeRange': {'from': '1900-01-01T00:00:00-00:00', 'to': '9999-12-31T23:59:59-00:00'}, 'entities': ['observation'], 'dataSources': 'focus-project-7136973'}, 'options': {'start': 31, 'pageLength': 10}}\n",
      "req to https://focus.sensingclues.org/api/search/all/results success\n",
      "{'filters': {'geoQuery': {'mapBounds': {'north': 90, 'east': 180, 'west': -179, 'south': -89}, 'operator': ['intersects']}, 'dateTimeRange': {'from': '1900-01-01T00:00:00-00:00', 'to': '9999-12-31T23:59:59-00:00'}, 'entities': ['observation'], 'dataSources': 'focus-project-7136973'}, 'options': {'start': 41, 'pageLength': 10}}\n",
      "req to https://focus.sensingclues.org/api/search/all/results success\n",
      "{'filters': {'geoQuery': {'mapBounds': {'north': 90, 'east': 180, 'west': -179, 'south': -89}, 'operator': ['intersects']}, 'dateTimeRange': {'from': '1900-01-01T00:00:00-00:00', 'to': '9999-12-31T23:59:59-00:00'}, 'entities': ['observation'], 'dataSources': 'focus-project-7136973'}, 'options': {'start': 51, 'pageLength': 10}}\n",
      "req to https://focus.sensingclues.org/api/search/all/results success\n",
      "{'filters': {'geoQuery': {'mapBounds': {'north': 90, 'east': 180, 'west': -179, 'south': -89}, 'operator': ['intersects']}, 'dateTimeRange': {'from': '1900-01-01T00:00:00-00:00', 'to': '9999-12-31T23:59:59-00:00'}, 'entities': ['observation'], 'dataSources': 'focus-project-7136973'}, 'options': {'start': 61, 'pageLength': 10}}\n",
      "req to https://focus.sensingclues.org/api/search/all/results success\n",
      "{'filters': {'geoQuery': {'mapBounds': {'north': 90, 'east': 180, 'west': -179, 'south': -89}, 'operator': ['intersects']}, 'dateTimeRange': {'from': '1900-01-01T00:00:00-00:00', 'to': '9999-12-31T23:59:59-00:00'}, 'entities': ['observation'], 'dataSources': 'focus-project-7136973'}, 'options': {'start': 71, 'pageLength': 10}}\n",
      "req to https://focus.sensingclues.org/api/search/all/results success\n",
      "{'filters': {'geoQuery': {'mapBounds': {'north': 90, 'east': 180, 'west': -179, 'south': -89}, 'operator': ['intersects']}, 'dateTimeRange': {'from': '1900-01-01T00:00:00-00:00', 'to': '9999-12-31T23:59:59-00:00'}, 'entities': ['observation'], 'dataSources': 'focus-project-7136973'}, 'options': {'start': 81, 'pageLength': 10}}\n",
      "req to https://focus.sensingclues.org/api/search/all/results success\n",
      "{'filters': {'geoQuery': {'mapBounds': {'north': 90, 'east': 180, 'west': -179, 'south': -89}, 'operator': ['intersects']}, 'dateTimeRange': {'from': '1900-01-01T00:00:00-00:00', 'to': '9999-12-31T23:59:59-00:00'}, 'entities': ['observation'], 'dataSources': 'focus-project-7136973'}, 'options': {'start': 91, 'pageLength': 10}}\n",
      "req to https://focus.sensingclues.org/api/search/all/results success\n",
      "{'filters': {'geoQuery': {'mapBounds': {'north': 90, 'east': 180, 'west': -179, 'south': -89}, 'operator': ['intersects']}, 'dateTimeRange': {'from': '1900-01-01T00:00:00-00:00', 'to': '9999-12-31T23:59:59-00:00'}, 'entities': ['observation'], 'dataSources': 'focus-project-7136973'}, 'options': {'start': 101, 'pageLength': 10}}\n",
      "req to https://focus.sensingclues.org/api/search/all/results success\n",
      "{'filters': {'geoQuery': {'mapBounds': {'north': 90, 'east': 180, 'west': -179, 'south': -89}, 'operator': ['intersects']}, 'dateTimeRange': {'from': '1900-01-01T00:00:00-00:00', 'to': '9999-12-31T23:59:59-00:00'}, 'entities': ['observation'], 'dataSources': 'focus-project-7136973'}, 'options': {'start': 111, 'pageLength': 10}}\n",
      "req to https://focus.sensingclues.org/api/search/all/results success\n",
      "{'filters': {'geoQuery': {'mapBounds': {'north': 90, 'east': 180, 'west': -179, 'south': -89}, 'operator': ['intersects']}, 'dateTimeRange': {'from': '1900-01-01T00:00:00-00:00', 'to': '9999-12-31T23:59:59-00:00'}, 'entities': ['observation'], 'dataSources': 'focus-project-7136973'}, 'options': {'start': 121, 'pageLength': 10}}\n",
      "req to https://focus.sensingclues.org/api/search/all/results success\n",
      "{'filters': {'geoQuery': {'mapBounds': {'north': 90, 'east': 180, 'west': -179, 'south': -89}, 'operator': ['intersects']}, 'dateTimeRange': {'from': '1900-01-01T00:00:00-00:00', 'to': '9999-12-31T23:59:59-00:00'}, 'entities': ['observation'], 'dataSources': 'focus-project-7136973'}, 'options': {'start': 131, 'pageLength': 10}}\n",
      "req to https://focus.sensingclues.org/api/search/all/results success\n",
      "{'filters': {'geoQuery': {'mapBounds': {'north': 90, 'east': 180, 'west': -179, 'south': -89}, 'operator': ['intersects']}, 'dateTimeRange': {'from': '1900-01-01T00:00:00-00:00', 'to': '9999-12-31T23:59:59-00:00'}, 'entities': ['observation'], 'dataSources': 'focus-project-7136973'}, 'options': {'start': 141, 'pageLength': 10}}\n",
      "req to https://focus.sensingclues.org/api/search/all/results success\n",
      "{'filters': {'geoQuery': {'mapBounds': {'north': 90, 'east': 180, 'west': -179, 'south': -89}, 'operator': ['intersects']}, 'dateTimeRange': {'from': '1900-01-01T00:00:00-00:00', 'to': '9999-12-31T23:59:59-00:00'}, 'entities': ['observation'], 'dataSources': 'focus-project-7136973'}, 'options': {'start': 151, 'pageLength': 10}}\n",
      "req to https://focus.sensingclues.org/api/search/all/results success\n",
      "{'filters': {'geoQuery': {'mapBounds': {'north': 90, 'east': 180, 'west': -179, 'south': -89}, 'operator': ['intersects']}, 'dateTimeRange': {'from': '1900-01-01T00:00:00-00:00', 'to': '9999-12-31T23:59:59-00:00'}, 'entities': ['observation'], 'dataSources': 'focus-project-7136973'}, 'options': {'start': 161, 'pageLength': 10}}\n",
      "req to https://focus.sensingclues.org/api/search/all/results success\n",
      "{'filters': {'geoQuery': {'mapBounds': {'north': 90, 'east': 180, 'west': -179, 'south': -89}, 'operator': ['intersects']}, 'dateTimeRange': {'from': '1900-01-01T00:00:00-00:00', 'to': '9999-12-31T23:59:59-00:00'}, 'entities': ['observation'], 'dataSources': 'focus-project-7136973'}, 'options': {'start': 171, 'pageLength': 10}}\n",
      "req to https://focus.sensingclues.org/api/search/all/results success\n",
      "{'filters': {'geoQuery': {'mapBounds': {'north': 90, 'east': 180, 'west': -179, 'south': -89}, 'operator': ['intersects']}, 'dateTimeRange': {'from': '1900-01-01T00:00:00-00:00', 'to': '9999-12-31T23:59:59-00:00'}, 'entities': ['observation'], 'dataSources': 'focus-project-7136973'}, 'options': {'start': 181, 'pageLength': 10}}\n",
      "req to https://focus.sensingclues.org/api/search/all/results success\n",
      "{'filters': {'geoQuery': {'mapBounds': {'north': 90, 'east': 180, 'west': -179, 'south': -89}, 'operator': ['intersects']}, 'dateTimeRange': {'from': '1900-01-01T00:00:00-00:00', 'to': '9999-12-31T23:59:59-00:00'}, 'entities': ['observation'], 'dataSources': 'focus-project-7136973'}, 'options': {'start': 191, 'pageLength': 10}}\n",
      "req to https://focus.sensingclues.org/api/search/all/results success\n",
      "{'filters': {'geoQuery': {'mapBounds': {'north': 90, 'east': 180, 'west': -179, 'south': -89}, 'operator': ['intersects']}, 'dateTimeRange': {'from': '1900-01-01T00:00:00-00:00', 'to': '9999-12-31T23:59:59-00:00'}, 'entities': ['observation'], 'dataSources': 'focus-project-7136973'}, 'options': {'start': 201, 'pageLength': 10}}\n"
     ]
    },
    {
     "name": "stdout",
     "output_type": "stream",
     "text": [
      "req to https://focus.sensingclues.org/api/search/all/results success\n",
      "{'filters': {'geoQuery': {'mapBounds': {'north': 90, 'east': 180, 'west': -179, 'south': -89}, 'operator': ['intersects']}, 'dateTimeRange': {'from': '1900-01-01T00:00:00-00:00', 'to': '9999-12-31T23:59:59-00:00'}, 'entities': ['observation'], 'dataSources': 'focus-project-7136973'}, 'options': {'start': 211, 'pageLength': 10}}\n",
      "req to https://focus.sensingclues.org/api/search/all/results success\n",
      "{'filters': {'geoQuery': {'mapBounds': {'north': 90, 'east': 180, 'west': -179, 'south': -89}, 'operator': ['intersects']}, 'dateTimeRange': {'from': '1900-01-01T00:00:00-00:00', 'to': '9999-12-31T23:59:59-00:00'}, 'entities': ['observation'], 'dataSources': 'focus-project-7136973'}, 'options': {'start': 221, 'pageLength': 10}}\n",
      "req to https://focus.sensingclues.org/api/search/all/results success\n",
      "{'filters': {'geoQuery': {'mapBounds': {'north': 90, 'east': 180, 'west': -179, 'south': -89}, 'operator': ['intersects']}, 'dateTimeRange': {'from': '1900-01-01T00:00:00-00:00', 'to': '9999-12-31T23:59:59-00:00'}, 'entities': ['observation'], 'dataSources': 'focus-project-7136973'}, 'options': {'start': 231, 'pageLength': 10}}\n",
      "req to https://focus.sensingclues.org/api/search/all/results success\n",
      "{'filters': {'geoQuery': {'mapBounds': {'north': 90, 'east': 180, 'west': -179, 'south': -89}, 'operator': ['intersects']}, 'dateTimeRange': {'from': '1900-01-01T00:00:00-00:00', 'to': '9999-12-31T23:59:59-00:00'}, 'entities': ['observation'], 'dataSources': 'focus-project-7136973'}, 'options': {'start': 241, 'pageLength': 10}}\n",
      "req to https://focus.sensingclues.org/api/search/all/results success\n",
      "{'filters': {'geoQuery': {'mapBounds': {'north': 90, 'east': 180, 'west': -179, 'south': -89}, 'operator': ['intersects']}, 'dateTimeRange': {'from': '1900-01-01T00:00:00-00:00', 'to': '9999-12-31T23:59:59-00:00'}, 'entities': ['observation'], 'dataSources': 'focus-project-7136973'}, 'options': {'start': 251, 'pageLength': 10}}\n",
      "req to https://focus.sensingclues.org/api/search/all/results success\n",
      "{'filters': {'geoQuery': {'mapBounds': {'north': 90, 'east': 180, 'west': -179, 'south': -89}, 'operator': ['intersects']}, 'dateTimeRange': {'from': '1900-01-01T00:00:00-00:00', 'to': '9999-12-31T23:59:59-00:00'}, 'entities': ['observation'], 'dataSources': 'focus-project-7136973'}, 'options': {'start': 261, 'pageLength': 10}}\n",
      "req to https://focus.sensingclues.org/api/search/all/results success\n",
      "{'filters': {'geoQuery': {'mapBounds': {'north': 90, 'east': 180, 'west': -179, 'south': -89}, 'operator': ['intersects']}, 'dateTimeRange': {'from': '1900-01-01T00:00:00-00:00', 'to': '9999-12-31T23:59:59-00:00'}, 'entities': ['observation'], 'dataSources': 'focus-project-7136973'}, 'options': {'start': 271, 'pageLength': 10}}\n",
      "req to https://focus.sensingclues.org/api/search/all/results success\n",
      "{'filters': {'geoQuery': {'mapBounds': {'north': 90, 'east': 180, 'west': -179, 'south': -89}, 'operator': ['intersects']}, 'dateTimeRange': {'from': '1900-01-01T00:00:00-00:00', 'to': '9999-12-31T23:59:59-00:00'}, 'entities': ['observation'], 'dataSources': 'focus-project-7136973'}, 'options': {'start': 281, 'pageLength': 10}}\n",
      "req to https://focus.sensingclues.org/api/search/all/results success\n",
      "{'filters': {'geoQuery': {'mapBounds': {'north': 90, 'east': 180, 'west': -179, 'south': -89}, 'operator': ['intersects']}, 'dateTimeRange': {'from': '1900-01-01T00:00:00-00:00', 'to': '9999-12-31T23:59:59-00:00'}, 'entities': ['observation'], 'dataSources': 'focus-project-7136973'}, 'options': {'start': 291, 'pageLength': 10}}\n",
      "req to https://focus.sensingclues.org/api/search/all/results success\n",
      "{'filters': {'geoQuery': {'mapBounds': {'north': 90, 'east': 180, 'west': -179, 'south': -89}, 'operator': ['intersects']}, 'dateTimeRange': {'from': '1900-01-01T00:00:00-00:00', 'to': '9999-12-31T23:59:59-00:00'}, 'entities': ['observation'], 'dataSources': 'focus-project-7136973'}, 'options': {'start': 301, 'pageLength': 10}}\n",
      "req to https://focus.sensingclues.org/api/search/all/results success\n",
      "{'filters': {'geoQuery': {'mapBounds': {'north': 90, 'east': 180, 'west': -179, 'south': -89}, 'operator': ['intersects']}, 'dateTimeRange': {'from': '1900-01-01T00:00:00-00:00', 'to': '9999-12-31T23:59:59-00:00'}, 'entities': ['observation'], 'dataSources': 'focus-project-7136973'}, 'options': {'start': 311, 'pageLength': 10}}\n",
      "req to https://focus.sensingclues.org/api/search/all/results success\n",
      "{'filters': {'geoQuery': {'mapBounds': {'north': 90, 'east': 180, 'west': -179, 'south': -89}, 'operator': ['intersects']}, 'dateTimeRange': {'from': '1900-01-01T00:00:00-00:00', 'to': '9999-12-31T23:59:59-00:00'}, 'entities': ['observation'], 'dataSources': 'focus-project-7136973'}, 'options': {'start': 321, 'pageLength': 10}}\n",
      "req to https://focus.sensingclues.org/api/search/all/results success\n"
     ]
    }
   ],
   "source": [
    "observations = api_call.observation_extractor(groups=groups,operator = [\"intersects\"])"
   ]
  },
  {
   "cell_type": "code",
   "execution_count": 16,
   "id": "321bba49",
   "metadata": {},
   "outputs": [
    {
     "data": {
      "text/html": [
       "<div>\n",
       "<style scoped>\n",
       "    .dataframe tbody tr th:only-of-type {\n",
       "        vertical-align: middle;\n",
       "    }\n",
       "\n",
       "    .dataframe tbody tr th {\n",
       "        vertical-align: top;\n",
       "    }\n",
       "\n",
       "    .dataframe thead th {\n",
       "        text-align: right;\n",
       "    }\n",
       "</style>\n",
       "<table border=\"1\" class=\"dataframe\">\n",
       "  <thead>\n",
       "    <tr style=\"text-align: right;\">\n",
       "      <th></th>\n",
       "      <th>entityId</th>\n",
       "      <th>entityType</th>\n",
       "      <th>projectId</th>\n",
       "      <th>projectName</th>\n",
       "      <th>observationType</th>\n",
       "      <th>when</th>\n",
       "      <th>where</th>\n",
       "      <th>agentName</th>\n",
       "      <th>label</th>\n",
       "      <th>conceptId</th>\n",
       "    </tr>\n",
       "  </thead>\n",
       "  <tbody>\n",
       "    <tr>\n",
       "      <th>0</th>\n",
       "      <td>O7136973-ne22cab58d7f5cc21</td>\n",
       "      <td>offence</td>\n",
       "      <td>7136973</td>\n",
       "      <td>Cluey Data Collector</td>\n",
       "      <td>offence</td>\n",
       "      <td>2022-09-22T19:18:58+0300</td>\n",
       "      <td>{'coordinates': [36.6677721947188, -3.35052108...</td>\n",
       "      <td>Ethan</td>\n",
       "      <td>Debarking</td>\n",
       "      <td>https://sensingclues.poolparty.biz/SCCSSOntolo...</td>\n",
       "    </tr>\n",
       "    <tr>\n",
       "      <th>1</th>\n",
       "      <td>O7136973-n75347eef9082510d</td>\n",
       "      <td>offence</td>\n",
       "      <td>7136973</td>\n",
       "      <td>Cluey Data Collector</td>\n",
       "      <td>offence</td>\n",
       "      <td>2022-09-22T19:17:00+0300</td>\n",
       "      <td>{'coordinates': [36.6660495632527, -3.35083304...</td>\n",
       "      <td>Ethan</td>\n",
       "      <td>Legal</td>\n",
       "      <td>https://sensingclues.poolparty.biz/SCCSSOntolo...</td>\n",
       "    </tr>\n",
       "    <tr>\n",
       "      <th>2</th>\n",
       "      <td>O7136973-n75347eef9082510d</td>\n",
       "      <td>offence</td>\n",
       "      <td>7136973</td>\n",
       "      <td>Cluey Data Collector</td>\n",
       "      <td>offence</td>\n",
       "      <td>2022-09-22T19:17:00+0300</td>\n",
       "      <td>{'coordinates': [36.6660495632527, -3.35083304...</td>\n",
       "      <td>Ethan</td>\n",
       "      <td>Grazing</td>\n",
       "      <td>https://sensingclues.poolparty.biz/SCCSSOntolo...</td>\n",
       "    </tr>\n",
       "    <tr>\n",
       "      <th>3</th>\n",
       "      <td>O7136973-na274779d9960367c</td>\n",
       "      <td>offence</td>\n",
       "      <td>7136973</td>\n",
       "      <td>Cluey Data Collector</td>\n",
       "      <td>offence</td>\n",
       "      <td>2022-09-18T11:47:13+0200</td>\n",
       "      <td>{'coordinates': [6.55659810953469, 52.92446160...</td>\n",
       "      <td>jankees</td>\n",
       "      <td>Charcoaling</td>\n",
       "      <td>https://sensingclues.poolparty.biz/SCCSSOntolo...</td>\n",
       "    </tr>\n",
       "    <tr>\n",
       "      <th>4</th>\n",
       "      <td>O7136973-nfc90a45308a4082a</td>\n",
       "      <td>animal</td>\n",
       "      <td>7136973</td>\n",
       "      <td>Cluey Data Collector</td>\n",
       "      <td>animal</td>\n",
       "      <td>2022-09-15T17:02:41+0200</td>\n",
       "      <td>{'coordinates': [6.55635483883933, 52.92284755...</td>\n",
       "      <td>jankees</td>\n",
       "      <td>Animal sighting</td>\n",
       "      <td>https://sensingclues.poolparty.biz/SCCSSOntolo...</td>\n",
       "    </tr>\n",
       "  </tbody>\n",
       "</table>\n",
       "</div>"
      ],
      "text/plain": [
       "                     entityId entityType projectId           projectName  \\\n",
       "0  O7136973-ne22cab58d7f5cc21    offence   7136973  Cluey Data Collector   \n",
       "1  O7136973-n75347eef9082510d    offence   7136973  Cluey Data Collector   \n",
       "2  O7136973-n75347eef9082510d    offence   7136973  Cluey Data Collector   \n",
       "3  O7136973-na274779d9960367c    offence   7136973  Cluey Data Collector   \n",
       "4  O7136973-nfc90a45308a4082a     animal   7136973  Cluey Data Collector   \n",
       "\n",
       "  observationType                      when  \\\n",
       "0         offence  2022-09-22T19:18:58+0300   \n",
       "1         offence  2022-09-22T19:17:00+0300   \n",
       "2         offence  2022-09-22T19:17:00+0300   \n",
       "3         offence  2022-09-18T11:47:13+0200   \n",
       "4          animal  2022-09-15T17:02:41+0200   \n",
       "\n",
       "                                               where agentName  \\\n",
       "0  {'coordinates': [36.6677721947188, -3.35052108...     Ethan   \n",
       "1  {'coordinates': [36.6660495632527, -3.35083304...     Ethan   \n",
       "2  {'coordinates': [36.6660495632527, -3.35083304...     Ethan   \n",
       "3  {'coordinates': [6.55659810953469, 52.92446160...   jankees   \n",
       "4  {'coordinates': [6.55635483883933, 52.92284755...   jankees   \n",
       "\n",
       "             label                                          conceptId  \n",
       "0        Debarking  https://sensingclues.poolparty.biz/SCCSSOntolo...  \n",
       "1            Legal  https://sensingclues.poolparty.biz/SCCSSOntolo...  \n",
       "2          Grazing  https://sensingclues.poolparty.biz/SCCSSOntolo...  \n",
       "3      Charcoaling  https://sensingclues.poolparty.biz/SCCSSOntolo...  \n",
       "4  Animal sighting  https://sensingclues.poolparty.biz/SCCSSOntolo...  "
      ]
     },
     "execution_count": 16,
     "metadata": {},
     "output_type": "execute_result"
    }
   ],
   "source": [
    "observations.head()"
   ]
  },
  {
   "cell_type": "markdown",
   "id": "4bd59d43",
   "metadata": {},
   "source": [
    "# 1.3: get-track-metadata\n"
   ]
  },
  {
   "cell_type": "markdown",
   "id": "ce3706c8",
   "metadata": {},
   "source": [
    "Needed before this step\n",
    "* 1.1 Login\n",
    "* 1.2 Get groups"
   ]
  },
  {
   "cell_type": "code",
   "execution_count": null,
   "id": "c6f61b9b",
   "metadata": {},
   "outputs": [],
   "source": [
    "output = api_call.track_extractor(groups=groups,end_time=\"T23:59:54-00:00\")"
   ]
  },
  {
   "cell_type": "code",
   "execution_count": null,
   "id": "f1743e2a",
   "metadata": {},
   "outputs": [],
   "source": [
    "import pandas as pd\n",
    "output.head()"
   ]
  },
  {
   "cell_type": "code",
   "execution_count": null,
   "id": "dc4c4775",
   "metadata": {},
   "outputs": [],
   "source": [
    "incl_geo = api_call.add_geojson_to_track(output)"
   ]
  },
  {
   "cell_type": "code",
   "execution_count": null,
   "id": "3acb418c",
   "metadata": {},
   "outputs": [],
   "source": [
    "incl_geo.head()"
   ]
  },
  {
   "cell_type": "code",
   "execution_count": null,
   "id": "12860fab",
   "metadata": {},
   "outputs": [],
   "source": [
    "incl_geo[\"geometry\"][1]"
   ]
  },
  {
   "cell_type": "code",
   "execution_count": null,
   "id": "6a236790",
   "metadata": {},
   "outputs": [],
   "source": [
    "incl_geo[\"geometry\"][1]"
   ]
  },
  {
   "cell_type": "code",
   "execution_count": null,
   "id": "9f733c60",
   "metadata": {},
   "outputs": [],
   "source": []
  }
 ],
 "metadata": {
  "kernelspec": {
   "display_name": "Python 3 (ipykernel)",
   "language": "python",
   "name": "python3"
  },
  "language_info": {
   "codemirror_mode": {
    "name": "ipython",
    "version": 3
   },
   "file_extension": ".py",
   "mimetype": "text/x-python",
   "name": "python",
   "nbconvert_exporter": "python",
   "pygments_lexer": "ipython3",
   "version": "3.10.6"
  }
 },
 "nbformat": 4,
 "nbformat_minor": 5
}
