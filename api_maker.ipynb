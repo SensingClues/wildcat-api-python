{
 "cells": [
  {
   "cell_type": "markdown",
   "id": "1f19cf4f",
   "metadata": {},
   "source": [
    "### How to make api "
   ]
  },
  {
   "cell_type": "code",
   "execution_count": 1,
   "id": "9672e85e",
   "metadata": {},
   "outputs": [],
   "source": [
    "from wildcatpy.api_calls import * "
   ]
  },
  {
   "cell_type": "code",
   "execution_count": 2,
   "id": "e04ad84b",
   "metadata": {},
   "outputs": [
    {
     "name": "stdout",
     "output_type": "stream",
     "text": [
      "Requirement already satisfied: python-dotenv in /usr/local/lib/python3.10/site-packages (0.21.0)\n",
      "\n",
      "\u001b[1m[\u001b[0m\u001b[34;49mnotice\u001b[0m\u001b[1;39;49m]\u001b[0m\u001b[39;49m A new release of pip available: \u001b[0m\u001b[31;49m22.2.2\u001b[0m\u001b[39;49m -> \u001b[0m\u001b[32;49m22.3.1\u001b[0m\n",
      "\u001b[1m[\u001b[0m\u001b[34;49mnotice\u001b[0m\u001b[1;39;49m]\u001b[0m\u001b[39;49m To update, run: \u001b[0m\u001b[32;49mpython3.10 -m pip install --upgrade pip\u001b[0m\n"
     ]
    }
   ],
   "source": [
    "!python3 -m pip install python-dotenv"
   ]
  },
  {
   "cell_type": "code",
   "execution_count": 3,
   "id": "8185d34d",
   "metadata": {},
   "outputs": [],
   "source": [
    "import os\n",
    "from dotenv import load_dotenv\n",
    "load_dotenv()\n",
    "\n",
    "username = os.getenv(\"USERNAME\") # you can also type your password here manually\n",
    "password = os.getenv('PASSWORD') # You can also type your username here manually\n"
   ]
  },
  {
   "cell_type": "code",
   "execution_count": 4,
   "id": "02217b48",
   "metadata": {},
   "outputs": [],
   "source": [
    "api_call = WildcatApi(username,password)"
   ]
  },
  {
   "cell_type": "code",
   "execution_count": 5,
   "id": "c7720139",
   "metadata": {},
   "outputs": [
    {
     "name": "stdout",
     "output_type": "stream",
     "text": [
      "{'$version': '1.3.3-beta', 'models': {'9999': {'id': '9999', 'name': '9999', 'description': 'Creekish mountains Upload', 'layers': [{'id': 0, 'name': 'test_polygon', 'description': 'All Polygon geometries for layer test_polygon', 'geometryType': 'Polygon'}, {'id': 1, 'name': 'test_multipolygon', 'description': 'All MultiPolygon geometries for layer test_multipolygon', 'geometryType': 'MultiPolygon'}]}, 'track': {'id': 'track', 'name': 'track', 'description': 'Track layers', 'layers': [{'id': 0, 'name': 'Tracks', 'description': 'All MultiPoint geometries for Track', 'geometryType': 'MultiPoint'}]}, 'default': {'id': 'default', 'name': 'default', 'description': 'Default Entity layers', 'layers': [{'id': 0, 'name': 'Observations', 'description': 'All Point geometries for Observations', 'geometryType': 'Point'}, {'id': 1, 'name': 'Tracks', 'description': 'All Point geometries for Track', 'geometryType': 'Point'}, {'id': 2, 'name': 'Agents', 'description': 'All Point geometries for Agent', 'geometryType': 'Point'}]}}}\n"
     ]
    }
   ],
   "source": [
    "# with this private func we can make a call so we can test new api's \n",
    "\n",
    "add = \"/map/all/describe\" # this is what has to be added to standard ->https://focus.sensingclues.org/api/\n",
    "output = api_call._api_call(\"get\", add, {}).json()\n",
    "print(output)"
   ]
  },
  {
   "cell_type": "code",
   "execution_count": 6,
   "id": "5de814c1",
   "metadata": {},
   "outputs": [
    {
     "data": {
      "text/plain": [
       "{'cols_to_data': [],\n",
       " 'extractor': {'extract_values': ['pid'],\n",
       "  'layers': {'explode_values': ['id', 'name', 'geometryType']}}}"
      ]
     },
     "execution_count": 6,
     "metadata": {},
     "output_type": "execute_result"
    }
   ],
   "source": [
    "# this is the json file I made to extract the correct values \n",
    "# What it does it it goes deeper in the dict (models) and starts looping if possible\n",
    "# Per row it will extract the values in the extract_values argument\n",
    "# It will explode every row with values that are in the explode_values\n",
    "# What happens now it makes a new row for the default and for the tracks\n",
    "# But both are containing the extract_values \n",
    "# We fix this afterwards by filtering. Normally we don't want seperated rows when exploding muliple times\n",
    "{\n",
    "  \"cols_to_data\": [],\n",
    "  \"extractor\": {\n",
    "    \"extract_values\": [\n",
    "      \"pid\"\n",
    "    ],\n",
    "    \"layers\": {\n",
    "      \"explode_values\": [\n",
    "        \"id\",\n",
    "        \"name\",\n",
    "        \"geometryType\"\n",
    "      ]\n",
    "    }\n",
    "  }\n",
    "}"
   ]
  },
  {
   "cell_type": "code",
   "execution_count": 7,
   "id": "b9e37c99",
   "metadata": {},
   "outputs": [],
   "source": [
    "# small change because the extractor needs a list from which it can start extracting\n",
    "# The input data is a dict from which the key(pid) gives a dict with the info\n",
    "# So we convert the dict to a list of dicts and add the pid as item in the list\n",
    "# Then we can start iterating through this with the extractor beause it is the same strcuture as other calls\n",
    "new_output = [{**{\"pid\": key}, **output[\"models\"][key]} for key in output[\"models\"].keys()]\n"
   ]
  },
  {
   "cell_type": "code",
   "execution_count": 8,
   "id": "84009efe",
   "metadata": {},
   "outputs": [],
   "source": [
    "extr = dataExtractor(\"all_layers\")\n",
    "extr_output = extr.extr(new_output)"
   ]
  },
  {
   "cell_type": "code",
   "execution_count": 9,
   "id": "b1de60cf",
   "metadata": {},
   "outputs": [],
   "source": [
    "col_trans = {\n",
    "    \"id\": \"lid\"\n",
    "}\n",
    "df = pd.DataFrame(extr_output)\\\n",
    "       .rename(columns=col_trans)\\\n",
    "       .query(\"pid != 'track' and pid != 'default'\")\n",
    "#df = df.loc[~df[\"pid\"].isin([\"track\", \"default\"])]\n"
   ]
  },
  {
   "cell_type": "code",
   "execution_count": 10,
   "id": "ab23ee2e",
   "metadata": {},
   "outputs": [
    {
     "data": {
      "text/html": [
       "<div>\n",
       "<style scoped>\n",
       "    .dataframe tbody tr th:only-of-type {\n",
       "        vertical-align: middle;\n",
       "    }\n",
       "\n",
       "    .dataframe tbody tr th {\n",
       "        vertical-align: top;\n",
       "    }\n",
       "\n",
       "    .dataframe thead th {\n",
       "        text-align: right;\n",
       "    }\n",
       "</style>\n",
       "<table border=\"1\" class=\"dataframe\">\n",
       "  <thead>\n",
       "    <tr style=\"text-align: right;\">\n",
       "      <th></th>\n",
       "      <th>pid</th>\n",
       "      <th>lid</th>\n",
       "      <th>name</th>\n",
       "      <th>geometryType</th>\n",
       "    </tr>\n",
       "  </thead>\n",
       "  <tbody>\n",
       "    <tr>\n",
       "      <th>0</th>\n",
       "      <td>9999</td>\n",
       "      <td>0</td>\n",
       "      <td>test_polygon</td>\n",
       "      <td>Polygon</td>\n",
       "    </tr>\n",
       "    <tr>\n",
       "      <th>1</th>\n",
       "      <td>9999</td>\n",
       "      <td>1</td>\n",
       "      <td>test_multipolygon</td>\n",
       "      <td>MultiPolygon</td>\n",
       "    </tr>\n",
       "  </tbody>\n",
       "</table>\n",
       "</div>"
      ],
      "text/plain": [
       "    pid  lid               name  geometryType\n",
       "0  9999    0       test_polygon       Polygon\n",
       "1  9999    1  test_multipolygon  MultiPolygon"
      ]
     },
     "execution_count": 10,
     "metadata": {},
     "output_type": "execute_result"
    }
   ],
   "source": [
    "df.head()"
   ]
  },
  {
   "cell_type": "code",
   "execution_count": 11,
   "id": "dbcc3178",
   "metadata": {},
   "outputs": [],
   "source": [
    "# this is a very simple one so we just make a standard private function in the class\n",
    "# This should be a private function because it is only used by other functions and not by the users\n",
    "# Private means that you start the function with a _  (also not visible in documenation by user then)\n",
    "\n",
    "# To test this new function we extend the WildcatAPi Class \n",
    "# Then we make the variable url_addition\n",
    "# Then use the _api_call function and provide the type request, url_addition and payload if needed\n",
    "# This function returns all the models\n",
    "# Normally we use an extraction but since this function returns almost everything it is not needed.\n",
    "# If the function works here you can implement it in the api_calls.py\n",
    "\n",
    "class testNewAPi(WildcatApi):\n",
    "    def _get_all_layers(self):\n",
    "        col_trans = {\n",
    "            \"id\": \"lid\",\n",
    "            \"name\": \"layerName\"\n",
    "                }\n",
    "        url_addition = \"/map/all/describe\"\n",
    "        r = self._api_call(\"get\", url_addition)\n",
    "        output = r.json()\n",
    "        new_output = [{**{\"pid\": key}, **output[\"models\"][key]} for key in output[\"models\"].keys()]\n",
    "        extr = dataExtractor(\"all_layers\")\n",
    "        extr_output = extr.extr(new_output)\n",
    "        return pd.DataFrame(extr_output)\\\n",
    "                 .rename(columns=col_trans)\\\n",
    "                 .query(\"pid != 'track' and pid != 'default'\")\n",
    "    \n",
    "\n"
   ]
  },
  {
   "cell_type": "code",
   "execution_count": 12,
   "id": "6546cfcd",
   "metadata": {},
   "outputs": [
    {
     "data": {
      "text/html": [
       "<div>\n",
       "<style scoped>\n",
       "    .dataframe tbody tr th:only-of-type {\n",
       "        vertical-align: middle;\n",
       "    }\n",
       "\n",
       "    .dataframe tbody tr th {\n",
       "        vertical-align: top;\n",
       "    }\n",
       "\n",
       "    .dataframe thead th {\n",
       "        text-align: right;\n",
       "    }\n",
       "</style>\n",
       "<table border=\"1\" class=\"dataframe\">\n",
       "  <thead>\n",
       "    <tr style=\"text-align: right;\">\n",
       "      <th></th>\n",
       "      <th>pid</th>\n",
       "      <th>lid</th>\n",
       "      <th>layerName</th>\n",
       "      <th>geometryType</th>\n",
       "    </tr>\n",
       "  </thead>\n",
       "  <tbody>\n",
       "    <tr>\n",
       "      <th>0</th>\n",
       "      <td>9999</td>\n",
       "      <td>0</td>\n",
       "      <td>test_polygon</td>\n",
       "      <td>Polygon</td>\n",
       "    </tr>\n",
       "    <tr>\n",
       "      <th>1</th>\n",
       "      <td>9999</td>\n",
       "      <td>1</td>\n",
       "      <td>test_multipolygon</td>\n",
       "      <td>MultiPolygon</td>\n",
       "    </tr>\n",
       "  </tbody>\n",
       "</table>\n",
       "</div>"
      ],
      "text/plain": [
       "    pid  lid          layerName  geometryType\n",
       "0  9999    0       test_polygon       Polygon\n",
       "1  9999    1  test_multipolygon  MultiPolygon"
      ]
     },
     "execution_count": 12,
     "metadata": {},
     "output_type": "execute_result"
    }
   ],
   "source": [
    "# run test if it works\n",
    "# if so we can implement it \n",
    "test = testNewAPi(username,password)\n",
    "test._get_all_layers()"
   ]
  },
  {
   "cell_type": "code",
   "execution_count": 13,
   "id": "9307b53b",
   "metadata": {},
   "outputs": [
    {
     "data": {
      "text/plain": [
       "{'cols_to_data': ['features'],\n",
       " 'extractor': {'extract_values': ['geometry', 'type', 'id', 'properties']}}"
      ]
     },
     "execution_count": 13,
     "metadata": {},
     "output_type": "execute_result"
    }
   ],
   "source": [
    "{\n",
    "  \"cols_to_data\": [\"features\"],\n",
    "  \"extractor\": {\n",
    "    \"extract_values\": [\n",
    "      \"geometry\",\n",
    "      \"type\",\n",
    "      \"id\",\n",
    "      \"properties\"\n",
    "    ]\n",
    "\n",
    "  }\n",
    "}"
   ]
  },
  {
   "cell_type": "markdown",
   "id": "05f70cd9",
   "metadata": {},
   "source": [
    "## Part 2 "
   ]
  },
  {
   "cell_type": "code",
   "execution_count": 14,
   "id": "96fa57fb",
   "metadata": {},
   "outputs": [],
   "source": [
    "#call again\n",
    "# with this private func we can make a call so we can test new api's \n",
    "project_id = 9999\n",
    "layer_id = 0\n",
    "add = f\"/map/all/{project_id}/{layer_id}/features/\" # this is what has to be added to standard ->https://focus.sensingclues.org/api/\n",
    "output = api_call._api_call(\"post\", add, {}).json()"
   ]
  },
  {
   "cell_type": "code",
   "execution_count": 15,
   "id": "d1c1d4bf",
   "metadata": {},
   "outputs": [],
   "source": [
    "extr = dataExtractor(\"layer_details\")\n",
    "extr_output = extr.extr(output, nested_col_names=True)"
   ]
  },
  {
   "cell_type": "code",
   "execution_count": 16,
   "id": "76fb3124",
   "metadata": {},
   "outputs": [
    {
     "data": {
      "text/plain": [
       "{'type': 'Feature',\n",
       " 'id': '186060457',\n",
       " 'properties': {'DocId': '/GeoFeature/G9999-7265885820642820983-1.json',\n",
       "  'ShortId': '186060457',\n",
       "  'OBJECTID': '186060457',\n",
       "  'EntityId': 'G9999-7265885820642820983-1',\n",
       "  'NAME': None},\n",
       " 'geometry': {'type': 'Polygon',\n",
       "  'coordinates': [[[5.87116241455078, 51.8538062484514],\n",
       "    [5.88180541992188, 51.8646200195489],\n",
       "    [5.88180541992188, 51.8771268259966],\n",
       "    [5.84163665771484, 51.8894182626641],\n",
       "    [5.81039428710938, 51.8817894907091],\n",
       "    [5.8392333984375, 51.8622878573851],\n",
       "    [5.87116241455078, 51.8538062484514]]]}}"
      ]
     },
     "execution_count": 16,
     "metadata": {},
     "output_type": "execute_result"
    }
   ],
   "source": [
    "output[\"features\"][0]"
   ]
  },
  {
   "cell_type": "code",
   "execution_count": 17,
   "id": "bb280503",
   "metadata": {},
   "outputs": [
    {
     "data": {
      "text/html": [
       "<div>\n",
       "<style scoped>\n",
       "    .dataframe tbody tr th:only-of-type {\n",
       "        vertical-align: middle;\n",
       "    }\n",
       "\n",
       "    .dataframe tbody tr th {\n",
       "        vertical-align: top;\n",
       "    }\n",
       "\n",
       "    .dataframe thead th {\n",
       "        text-align: right;\n",
       "    }\n",
       "</style>\n",
       "<table border=\"1\" class=\"dataframe\">\n",
       "  <thead>\n",
       "    <tr style=\"text-align: right;\">\n",
       "      <th></th>\n",
       "      <th>_type</th>\n",
       "      <th>_Id</th>\n",
       "      <th>geometry_type</th>\n",
       "      <th>geometry_coordinates</th>\n",
       "      <th>properties_type</th>\n",
       "      <th>properties_coordinates</th>\n",
       "    </tr>\n",
       "  </thead>\n",
       "  <tbody>\n",
       "    <tr>\n",
       "      <th>0</th>\n",
       "      <td>Feature</td>\n",
       "      <td>False</td>\n",
       "      <td>Polygon</td>\n",
       "      <td>[[[5.87116241455078, 51.8538062484514], [5.881...</td>\n",
       "      <td>False</td>\n",
       "      <td>False</td>\n",
       "    </tr>\n",
       "    <tr>\n",
       "      <th>1</th>\n",
       "      <td>Feature</td>\n",
       "      <td>False</td>\n",
       "      <td>Polygon</td>\n",
       "      <td>[[[5.85983276367188, 51.8494588041788], [5.836...</td>\n",
       "      <td>False</td>\n",
       "      <td>False</td>\n",
       "    </tr>\n",
       "    <tr>\n",
       "      <th>2</th>\n",
       "      <td>Feature</td>\n",
       "      <td>False</td>\n",
       "      <td>Polygon</td>\n",
       "      <td>[[[4.87037658691406, 52.2530274427686], [4.801...</td>\n",
       "      <td>False</td>\n",
       "      <td>False</td>\n",
       "    </tr>\n",
       "    <tr>\n",
       "      <th>3</th>\n",
       "      <td>Feature</td>\n",
       "      <td>False</td>\n",
       "      <td>Polygon</td>\n",
       "      <td>[[[5.06778717041016, 52.0571349329375], [5.067...</td>\n",
       "      <td>False</td>\n",
       "      <td>False</td>\n",
       "    </tr>\n",
       "    <tr>\n",
       "      <th>4</th>\n",
       "      <td>Feature</td>\n",
       "      <td>False</td>\n",
       "      <td>Polygon</td>\n",
       "      <td>[[[5.48269271850586, 51.8294127159533], [5.463...</td>\n",
       "      <td>False</td>\n",
       "      <td>False</td>\n",
       "    </tr>\n",
       "  </tbody>\n",
       "</table>\n",
       "</div>"
      ],
      "text/plain": [
       "     _type    _Id geometry_type  \\\n",
       "0  Feature  False       Polygon   \n",
       "1  Feature  False       Polygon   \n",
       "2  Feature  False       Polygon   \n",
       "3  Feature  False       Polygon   \n",
       "4  Feature  False       Polygon   \n",
       "\n",
       "                                geometry_coordinates  properties_type  \\\n",
       "0  [[[5.87116241455078, 51.8538062484514], [5.881...            False   \n",
       "1  [[[5.85983276367188, 51.8494588041788], [5.836...            False   \n",
       "2  [[[4.87037658691406, 52.2530274427686], [4.801...            False   \n",
       "3  [[[5.06778717041016, 52.0571349329375], [5.067...            False   \n",
       "4  [[[5.48269271850586, 51.8294127159533], [5.463...            False   \n",
       "\n",
       "   properties_coordinates  \n",
       "0                   False  \n",
       "1                   False  \n",
       "2                   False  \n",
       "3                   False  \n",
       "4                   False  "
      ]
     },
     "execution_count": 17,
     "metadata": {},
     "output_type": "execute_result"
    }
   ],
   "source": [
    "pd.DataFrame(extr_output)"
   ]
  },
  {
   "cell_type": "code",
   "execution_count": null,
   "id": "12be601c",
   "metadata": {},
   "outputs": [],
   "source": []
  }
 ],
 "metadata": {
  "kernelspec": {
   "display_name": "Python 3 (ipykernel)",
   "language": "python",
   "name": "python3"
  },
  "language_info": {
   "codemirror_mode": {
    "name": "ipython",
    "version": 3
   },
   "file_extension": ".py",
   "mimetype": "text/x-python",
   "name": "python",
   "nbconvert_exporter": "python",
   "pygments_lexer": "ipython3",
   "version": "3.10.6"
  }
 },
 "nbformat": 4,
 "nbformat_minor": 5
}
