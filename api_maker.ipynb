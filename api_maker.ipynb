{
 "cells": [
  {
   "cell_type": "markdown",
   "id": "1f19cf4f",
   "metadata": {},
   "source": [
    "### How to make api "
   ]
  },
  {
   "cell_type": "code",
   "execution_count": 1,
   "id": "9672e85e",
   "metadata": {},
   "outputs": [],
   "source": [
    "from wildcatpy.api_calls import * "
   ]
  },
  {
   "cell_type": "code",
   "execution_count": 2,
   "id": "e04ad84b",
   "metadata": {},
   "outputs": [
    {
     "name": "stdout",
     "output_type": "stream",
     "text": [
      "Requirement already satisfied: python-dotenv in /usr/local/lib/python3.10/site-packages (0.21.0)\n",
      "\n",
      "\u001b[1m[\u001b[0m\u001b[34;49mnotice\u001b[0m\u001b[1;39;49m]\u001b[0m\u001b[39;49m A new release of pip available: \u001b[0m\u001b[31;49m22.2.2\u001b[0m\u001b[39;49m -> \u001b[0m\u001b[32;49m22.3.1\u001b[0m\n",
      "\u001b[1m[\u001b[0m\u001b[34;49mnotice\u001b[0m\u001b[1;39;49m]\u001b[0m\u001b[39;49m To update, run: \u001b[0m\u001b[32;49mpython3.10 -m pip install --upgrade pip\u001b[0m\n"
     ]
    }
   ],
   "source": [
    "!python3 -m pip install python-dotenv"
   ]
  },
  {
   "cell_type": "code",
   "execution_count": 3,
   "id": "8185d34d",
   "metadata": {},
   "outputs": [],
   "source": [
    "import os\n",
    "from dotenv import load_dotenv\n",
    "load_dotenv()\n",
    "\n",
    "username = os.getenv(\"USERNAME\") # you can also type your password here manually\n",
    "password = os.getenv('PASSWORD') # You can also type your username here manually\n"
   ]
  },
  {
   "cell_type": "code",
   "execution_count": 4,
   "id": "02217b48",
   "metadata": {},
   "outputs": [],
   "source": [
    "api_call = WildcatApi(username,password)"
   ]
  },
  {
   "cell_type": "code",
   "execution_count": 5,
   "id": "c7720139",
   "metadata": {},
   "outputs": [],
   "source": [
    "# with this private func we can make a call so we can test new api's \n",
    "\n",
    "add = \"/map/all/describe\" # this is what has to be added to standard ->https://focus.sensingclues.org/api/\n",
    "output = api_call._api_call(\"get\", add, {}).json()"
   ]
  },
  {
   "cell_type": "code",
   "execution_count": 6,
   "id": "5de814c1",
   "metadata": {},
   "outputs": [
    {
     "data": {
      "text/plain": [
       "{'cols_to_data': ['models'],\n",
       " 'extractor': {'default': {'extract_values': ['name'],\n",
       "   'layers': {'explode_values': ['id', 'description', 'geometryType']}},\n",
       "  'track': {'extract_values': ['name', 'id'],\n",
       "   'layers': {'explode_values': ['id', 'description', 'geometryType']}}}}"
      ]
     },
     "execution_count": 6,
     "metadata": {},
     "output_type": "execute_result"
    }
   ],
   "source": [
    "# this is the json file I made to extract the correct values \n",
    "# What it does it it goes deeper in the dict (models) and starts looping if possible\n",
    "# Per row it will extract the values in the extract_values argument\n",
    "# It will explode every row with values that are in the explode_values\n",
    "# What happens now it makes a new row for the default and for the tracks\n",
    "# But both are containing the extract_values \n",
    "# We fix this afterwards by filtering. Normally we don't want seperated rows when exploding muliple times\n",
    "{\n",
    "  \"cols_to_data\": [\n",
    "    \"models\"\n",
    "  ],\n",
    "  \"extractor\": {\n",
    "    \"default\": {\n",
    "      \"extract_values\": [\n",
    "        \"name\" # it will extract the name for values in default \n",
    "      ],\n",
    "      \"layers\": { \n",
    "        \"explode_values\": [ # means it will add a new row for every of those columns in the default\n",
    "          \"id\",\n",
    "          \"description\",\n",
    "          \"geometryType\"\n",
    "        ]\n",
    "      }\n",
    "    },\n",
    "    \"track\": {\n",
    "      \"extract_values\": [\n",
    "        \"name\",  # it will extract the name, id for values in track \n",
    "        \"id\"\n",
    "      ],\n",
    "      \"layers\": { \n",
    "        \"explode_values\": [ # means it will add a new row for every of those columns in the track\n",
    "          \"id\",\n",
    "          \"description\",\n",
    "          \"geometryType\"\n",
    "        ]\n",
    "      }\n",
    "    }\n",
    "  }\n",
    "}"
   ]
  },
  {
   "cell_type": "code",
   "execution_count": 7,
   "id": "84009efe",
   "metadata": {},
   "outputs": [
    {
     "data": {
      "text/plain": [
       "[{'default_name': 'default',\n",
       "  'track_name': 'track',\n",
       "  'track_id': 'track',\n",
       "  'default_layers_id': 0,\n",
       "  'default_layers_description': 'All Point geometries for Observations',\n",
       "  'default_layers_geometryType': 'Point'},\n",
       " {'default_name': 'default',\n",
       "  'track_name': 'track',\n",
       "  'track_id': 'track',\n",
       "  'default_layers_id': 1,\n",
       "  'default_layers_description': 'All Point geometries for Track',\n",
       "  'default_layers_geometryType': 'Point'},\n",
       " {'default_name': 'default',\n",
       "  'track_name': 'track',\n",
       "  'track_id': 'track',\n",
       "  'default_layers_id': 2,\n",
       "  'default_layers_description': 'All Point geometries for Agent',\n",
       "  'default_layers_geometryType': 'Point'},\n",
       " {'default_name': 'default',\n",
       "  'track_name': 'track',\n",
       "  'track_id': 'track',\n",
       "  'track_layers_id': 0,\n",
       "  'track_layers_description': 'All MultiPoint geometries for Track',\n",
       "  'track_layers_geometryType': 'MultiPoint'}]"
      ]
     },
     "execution_count": 7,
     "metadata": {},
     "output_type": "execute_result"
    }
   ],
   "source": [
    "extr = dataExtractor(\"all_layers\")\n",
    "extr.extr(output, nested_col_names=True)"
   ]
  },
  {
   "cell_type": "code",
   "execution_count": null,
   "id": "dbcc3178",
   "metadata": {},
   "outputs": [],
   "source": [
    "# this is a very simple one so we just make a standard private function in the class\n",
    "# This should be a private function because it is only used by other functions and not by the users\n",
    "# Private means that you start the function with a _  (also not visible in documenation by user then)\n",
    "\n",
    "# To test this new function we extend the WildcatAPi Class \n",
    "# Then we make the variable url_addition\n",
    "# Then use the _api_call function and provide the type request, url_addition and payload if needed\n",
    "# This function returns all the models\n",
    "# Normally we use an extraction but since this function returns almost everything it is not needed.\n",
    "# If the function works here you can implement it in the api_calls.py\n",
    "\n",
    "class testNewAPi(WildcatApi):\n",
    "    def _get_all_layers(self):\n",
    "        url_addition = \"/map/all/describe\"\n",
    "        r = self._api_call(\"get\", url_addition)\n",
    "        return r.json()[\"models\"]\n",
    "    \n",
    "\n"
   ]
  },
  {
   "cell_type": "code",
   "execution_count": null,
   "id": "f3541aaa",
   "metadata": {},
   "outputs": [],
   "source": [
    "et_layer_details <- function(session,cookie){\n",
    "   # get all layers\n",
    "   l = get_all_layers(session,cookie)\n",
    "   m = l$models\n",
    "   aoi=list()\n",
    "   # sequence along models\n",
    "   for (i in seq_along(m)) {\n",
    "     # parse model\n",
    "     for (j in seq_along(m[[i]]$layers)) {\n",
    "       # find layers in model\n",
    "       aoi[[length(aoi)+1]] <- list(m[[i]]$layers[[j]]$name, m[[i]]$layers[[j]]$id, m[[i]]$id, m[[i]]$layers[[j]]$geometryType) \n",
    "     }\n",
    "   }\n",
    "   df <- as.data.frame(do.call(rbind, aoi))  \n",
    "   names(df) <- c('layerName','lid','pid','geometryType')\n",
    "   # drop default and track layers\n",
    "   df <- df %>% filter(!pid %in% c('track','default'))\n",
    "   return(df)\n",
    " }"
   ]
  },
  {
   "cell_type": "code",
   "execution_count": null,
   "id": "94dc6e33",
   "metadata": {},
   "outputs": [],
   "source": [
    "x = testNewAPi(username, password)\n",
    "x._get_all_layers()"
   ]
  },
  {
   "cell_type": "code",
   "execution_count": null,
   "id": "4091cbff",
   "metadata": {},
   "outputs": [],
   "source": []
  },
  {
   "cell_type": "code",
   "execution_count": null,
   "id": "5d153482",
   "metadata": {},
   "outputs": [],
   "source": [
    "# api/map/all/describe\n",
    "get_all_layers <- function(session=session,\n",
    "                           URL = \"https://focus.sensingclues.org/\",\n",
    "                           cookie=cookie){\n",
    "  url = paste0(URL,'api/map/all/describe')\n",
    "  # initial call to get total and number of pages to get\n",
    "  handle_reset(URL)\n",
    "  result <- GET(url, set_cookies(focus2 = URLdecode(cookie$value)))\n",
    "  layers <- content(result)\n",
    "  return(layers)\n",
    "}\n",
    "\n",
    "# get layer details name pid and lid as dataframe\n",
    "get_layer_details <- function(session,URL = \"https://focus.sensingclues.org/\",cookie){\n",
    "  # get all layers\n",
    "  l = get_all_layers(session,URL,cookie)\n",
    "  m = l$models\n",
    "  aoi=list()\n",
    "  # sequence along models\n",
    "  for (i in seq_along(m)) {\n",
    "    # parse model\n",
    "    for (j in seq_along(m[[i]]$layers)) {\n",
    "      # find layers in model\n",
    "      aoi[[length(aoi)+1]] <- list(m[[i]]$layers[[j]]$name, m[[i]]$layers[[j]]$id, m[[i]]$id, m[[i]]$layers[[j]]$geometryType) \n",
    "    }\n",
    "  }\n",
    "  df <- as.data.frame(do.call(rbind, aoi))  \n",
    "  names(df) <- c('layerName','lid','pid','geometryType')\n",
    "  # drop default and track layers\n",
    "  df <- df %>% filter(!pid %in% c('track','default'))\n",
    "  return(df)\n",
    "}"
   ]
  }
 ],
 "metadata": {
  "kernelspec": {
   "display_name": "Python 3 (ipykernel)",
   "language": "python",
   "name": "python3"
  },
  "language_info": {
   "codemirror_mode": {
    "name": "ipython",
    "version": 3
   },
   "file_extension": ".py",
   "mimetype": "text/x-python",
   "name": "python",
   "nbconvert_exporter": "python",
   "pygments_lexer": "ipython3",
   "version": "3.10.6"
  }
 },
 "nbformat": 4,
 "nbformat_minor": 5
}
