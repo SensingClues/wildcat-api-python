{
 "cells": [
  {
   "cell_type": "markdown",
   "id": "1f19cf4f",
   "metadata": {},
   "source": [
    "# How to make api "
   ]
  },
  {
   "cell_type": "code",
   "execution_count": 1,
   "id": "9672e85e",
   "metadata": {},
   "outputs": [],
   "source": [
    "from wildcatpy.api_calls import * "
   ]
  },
  {
   "cell_type": "code",
   "execution_count": 2,
   "id": "8185d34d",
   "metadata": {},
   "outputs": [],
   "source": [
    "username = \"jobvancreij\"\n",
    "password = \"<password>\""
   ]
  },
  {
   "cell_type": "code",
   "execution_count": 3,
   "id": "02217b48",
   "metadata": {},
   "outputs": [],
   "source": [
    "api_call = WildcatApi(username,password)"
   ]
  },
  {
   "cell_type": "code",
   "execution_count": 5,
   "id": "c7720139",
   "metadata": {},
   "outputs": [],
   "source": [
    "# with this private func we can make a call so we can test new api's \n",
    "\n",
    "add = \"/map/all/describe\" # this is what has to be added to standard ->https://focus.sensingclues.org/api/\n",
    "output = api_call._api_call(\"get\", add, {})"
   ]
  },
  {
   "cell_type": "code",
   "execution_count": 16,
   "id": "380990d3",
   "metadata": {},
   "outputs": [
    {
     "name": "stdout",
     "output_type": "stream",
     "text": [
      "{'id': 'track', 'name': 'track', 'description': 'Track layers', 'layers': [{'id': 0, 'name': 'Tracks', 'description': 'All MultiPoint geometries for Track', 'geometryType': 'MultiPoint'}]}\n"
     ]
    }
   ],
   "source": [
    "print(output.json()[\"models\"][\"track\"])"
   ]
  },
  {
   "cell_type": "code",
   "execution_count": null,
   "id": "5d153482",
   "metadata": {},
   "outputs": [],
   "source": []
  }
 ],
 "metadata": {
  "kernelspec": {
   "display_name": "Python 3 (ipykernel)",
   "language": "python",
   "name": "python3"
  },
  "language_info": {
   "codemirror_mode": {
    "name": "ipython",
    "version": 3
   },
   "file_extension": ".py",
   "mimetype": "text/x-python",
   "name": "python",
   "nbconvert_exporter": "python",
   "pygments_lexer": "ipython3",
   "version": "3.10.6"
  }
 },
 "nbformat": 4,
 "nbformat_minor": 5
}
