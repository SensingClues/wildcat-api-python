{
 "cells": [
  {
   "cell_type": "markdown",
   "id": "bdcd1339",
   "metadata": {},
   "source": [
    "# Demo of developing a new method for Wildcat API\n",
    "\n",
    "This notebook shows an example of how to create a method for the Wildcat API: `get_all_layers`, a method which extracts an overview of available project layers from Focus. When running the example, you only see layers to which you have access.\n",
    "\n",
    "Note that this method is already part of the Wildcat python-package. You can create new methods in a similar fashion."
   ]
  },
  {
   "cell_type": "markdown",
   "id": "60cc055e",
   "metadata": {},
   "source": [
    "## Configuration"
   ]
  },
  {
   "cell_type": "code",
   "execution_count": null,
   "id": "47daaabb",
   "metadata": {},
   "outputs": [],
   "source": [
    "from wildcatpy.api_calls import WildcatApi\n",
    "from wildcatpy.src import DataExtractor\n",
    "\n",
    "import os\n",
    "import pandas as pd\n",
    "from dotenv import load_dotenv"
   ]
  },
  {
   "cell_type": "markdown",
   "id": "ec9840aa",
   "metadata": {},
   "source": [
    "### Login details\n",
    "\n",
    "The preferred approach to provide your Cluey login details is to:\n",
    "- create a file '.env' in the root of the wildcat-api-python-repository, containing:\n",
    "<br>`# Cluey credentials`\n",
    "<br>`USERNAME=your_username`\n",
    "<br>`PASSWORD=your_password`\n",
    "- call load_dotenv() from the *dotenv*-package (install via `!python3 -m pip install python-dotenv`)\n",
    "- read the username and password using the *os*-package.\n",
    "\n",
    "This prevents your login details from ending up in this notebook and even the repository. Alternatively, you can specify these details manually (not preferred)."
   ]
  },
  {
   "cell_type": "code",
   "execution_count": null,
   "id": "5255f8a5",
   "metadata": {},
   "outputs": [],
   "source": [
    "load_dotenv()"
   ]
  },
  {
   "cell_type": "code",
   "execution_count": null,
   "id": "a551fd76",
   "metadata": {},
   "outputs": [],
   "source": [
    "username = os.getenv(\"USERNAME\") # you can also type your username here manually\n",
    "password = os.getenv('PASSWORD') # You can also type your password here manually"
   ]
  },
  {
   "cell_type": "code",
   "execution_count": null,
   "id": "db14deaa",
   "metadata": {},
   "outputs": [],
   "source": [
    "# initialize API\n",
    "api_call = WildcatApi(username, password)"
   ]
  },
  {
   "cell_type": "markdown",
   "id": "fdd96c01",
   "metadata": {},
   "source": [
    "## 1. Create get_all_layers"
   ]
  },
  {
   "cell_type": "markdown",
   "id": "0ac09edc",
   "metadata": {},
   "source": [
    "### Check available content\n",
    "\n",
    "- You can use the private function `_api_call` to check information available for a certain url.\n",
    "- The base url is https://focus.sensingclues.org/api/. \n",
    "- To obtain information on layers, we add `\"/map/all/describe\"`."
   ]
  },
  {
   "cell_type": "code",
   "execution_count": null,
   "id": "ad644647",
   "metadata": {},
   "outputs": [],
   "source": [
    "add = \"/map/all/describe\" \n",
    "output = api_call._api_call(\"get\", add, {}).json()\n",
    "print(output)"
   ]
  },
  {
   "cell_type": "markdown",
   "id": "1ae77bc8",
   "metadata": {},
   "source": [
    "The above shows the elements available. The elements relevant to layer-information need to be placed in a new json-file, which is used by the DataExtractor-class to process the data."
   ]
  },
  {
   "cell_type": "code",
   "execution_count": null,
   "id": "2652d3b7",
   "metadata": {},
   "outputs": [],
   "source": [
    "# set the relevant part for the get_all_layers-method\n",
    "key_of_interest = 'models'"
   ]
  },
  {
   "cell_type": "markdown",
   "id": "5cdcb63c",
   "metadata": {},
   "source": [
    "### Create json-file for DataExtractor\n",
    "\n",
    "The content defined below should be placed in a json-file in *wildcatpy/extractors/*.\n",
    "\n",
    "#### Detailed notes on json-structure\n",
    "\n",
    "You can check the DataExtractor to understand how the nested elements in the json are being processed. In short:\n",
    "\n",
    "- cols_to_data is used to move deeper into a nested dict when needed. In this case this is not needed, as we need the models-key for get_all_layers, which already contains the layer overview.\n",
    "- Per row, it will extract the values in the extract_values argument\n",
    "- It will explode every row with values that are in the explode_values\n",
    "- For this particular case, we will also get rows for two projects called 'default' and 'track'. We fix this afterwards by filtering."
   ]
  },
  {
   "cell_type": "code",
   "execution_count": null,
   "id": "ecda8641",
   "metadata": {},
   "outputs": [],
   "source": [
    "# the content of this 'all_layers.json' is used for the get_all_layers-method.\n",
    "{\n",
    "  \"cols_to_data\": [],\n",
    "  \"extractor\": {\n",
    "    \"extract_values\": [\n",
    "      \"pid\"\n",
    "    ],\n",
    "    \"layers\": {\n",
    "      \"explode_values\": [\n",
    "        \"id\",\n",
    "        \"name\",\n",
    "        \"geometryType\"\n",
    "      ]\n",
    "    }\n",
    "  }\n",
    "}"
   ]
  },
  {
   "cell_type": "markdown",
   "id": "2c5ab9fc",
   "metadata": {},
   "source": [
    "### Apply DataExtractor to created json\n",
    "\n",
    "For get_all_layers, we need a small change to ensure the structure of output[key_of_interest] is the same as for other calls (consistency).\n",
    "\n",
    "#### Detailed notes\n",
    "\n",
    "The DataExtractor needs a list from which it can start extracting. The input data is a dict from which the key ('pid') provides a dict with the require dinformation. Therefore, we convert the dict to a list of dicts and add the pid as item in the list. "
   ]
  },
  {
   "cell_type": "code",
   "execution_count": null,
   "id": "006f8c06",
   "metadata": {
    "lines_to_next_cell": 2
   },
   "outputs": [],
   "source": [
    "output_pid = [{**{\"pid\": key}, **output[key_of_interest][key]} \n",
    "              for key in output[key_of_interest].keys()]"
   ]
  },
  {
   "cell_type": "code",
   "execution_count": null,
   "id": "7b1b517a",
   "metadata": {},
   "outputs": [],
   "source": [
    "extr = DataExtractor(\"all_layers\")\n",
    "extr_output = extr.extract_data(output_pid)"
   ]
  },
  {
   "cell_type": "code",
   "execution_count": null,
   "id": "bc6f9c14",
   "metadata": {
    "lines_to_next_cell": 2
   },
   "outputs": [],
   "source": [
    "# create a dataframe from the output of the DataExtractor\n",
    "col_trans = {\n",
    "    \"id\": \"lid\"\n",
    "}\n",
    "df = pd.DataFrame(extr_output)\\\n",
    "       .rename(columns=col_trans)\\\n",
    "       .query(\"pid != 'track' and pid != 'default'\")"
   ]
  },
  {
   "cell_type": "code",
   "execution_count": null,
   "id": "0d260dbc",
   "metadata": {},
   "outputs": [],
   "source": [
    "df.head()"
   ]
  },
  {
   "cell_type": "markdown",
   "id": "6b62405d",
   "metadata": {},
   "source": [
    "### Create and test method\n",
    "\n",
    "- Combine the steps above into the new method\n",
    "- Test the new function by extend the existing WildcatApi-class.\n",
    "- If the function works here, you can implement it in api_calls.py.\n",
    "\n",
    "Note: the `get_all_layers`-method is relatively simple, but we aim to illustrate the concept here."
   ]
  },
  {
   "cell_type": "code",
   "execution_count": null,
   "id": "b0694243",
   "metadata": {},
   "outputs": [],
   "source": [
    "DEFAULT_EXCLUDE_PIDS = ['track', 'default']\n",
    "\n",
    "\n",
    "class TestNewAPI(WildcatApi):\n",
    "    def get_all_layers(self, exclude_pids: list = None):\n",
    "        if not exclude_pids:\n",
    "            exclude_pids = DEFAULT_EXCLUDE_PIDS\n",
    "        else:\n",
    "            exclude_pids += DEFAULT_EXCLUDE_PIDS\n",
    "        exclude_pids = [str(x) for x in exclude_pids]\n",
    "\n",
    "        cols_to_rename = {\n",
    "            \"id\": \"lid\",\n",
    "            \"name\": \"layerName\"\n",
    "        }\n",
    "        url_addition = \"/map/all/describe\"\n",
    "\n",
    "        r = self._api_call(\"get\", url_addition)\n",
    "        output = r.json()\n",
    "\n",
    "        # key 'pid' is added to access layers in layer_feature_extractor.\n",
    "        layer_output = [{**{\"pid\": key}, **output[\"models\"][key]}\n",
    "                        for key in output[\"models\"].keys()]\n",
    "\n",
    "        extractor = DataExtractor(\"all_layers\")\n",
    "        extracted_output = extractor.extract_data(layer_output)\n",
    "        df = pd.DataFrame(extracted_output) \\\n",
    "               .rename(columns=cols_to_rename)\n",
    "\n",
    "        df = df.loc[~df['pid'].isin(exclude_pids)]\n",
    "        return df"
   ]
  },
  {
   "cell_type": "code",
   "execution_count": null,
   "id": "a1514a01",
   "metadata": {},
   "outputs": [],
   "source": [
    "# run test if it works\n",
    "# if so we can implement it \n",
    "test = TestNewAPI(username, password)\n",
    "df = test.get_all_layers()\n",
    "\n",
    "# a quick assertion on the output\n",
    "expected_cols = ['pid', 'lid', 'layerName', 'geometryType']\n",
    "assert [c in df.columns for c in expected_cols], 'Not all expected columns are in the output.'"
   ]
  },
  {
   "cell_type": "markdown",
   "id": "45048568",
   "metadata": {},
   "source": [
    "Success! (at least regarding the columns, that is).\n",
    "\n",
    "- You can develop new methods in a similar fashion. See the methods already available in *api_calls.py* for more examples how to extract the correct fields om Cluey/Focus.\n",
    "- Further, the R-library *wildcat-api-r* provides additional methods which could be created here as well (or you could experiment with using a conversion package like *rpy2*)."
   ]
  },
  {
   "cell_type": "code",
   "execution_count": null,
   "id": "07dcdaf9",
   "metadata": {},
   "outputs": [],
   "source": []
  }
 ],
 "metadata": {
  "jupytext": {
   "text_representation": {
    "extension": ".py",
    "format_name": "light",
    "format_version": "1.5",
    "jupytext_version": "1.14.1"
   }
  },
  "kernelspec": {
   "display_name": "Python 3 (ipykernel)",
   "language": "python",
   "name": "python3"
  }
 },
 "nbformat": 4,
 "nbformat_minor": 5
}
