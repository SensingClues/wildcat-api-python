{
 "cells": [
  {
   "cell_type": "markdown",
   "id": "ad6cfe3d",
   "metadata": {},
   "source": [
    "# Demo of developing a new method for Wildcat API\n",
    "\n",
    "This notebook shows an example of how to create a method for the Wildcat API: `get_all_layers`, a method which extracts an overview of available project layers from Focus. When running the example, you only see layers to which you have access.\n",
    "\n",
    "Note that this method is already part of the Wildcat python-package. You can create new methods in a similar fashion."
   ]
  },
  {
   "cell_type": "markdown",
   "id": "caea2123",
   "metadata": {},
   "source": [
    "## Configuration"
   ]
  },
  {
   "cell_type": "code",
   "execution_count": 1,
   "id": "78f98b69",
   "metadata": {},
   "outputs": [],
   "source": [
    "import os"
   ]
  },
  {
   "cell_type": "code",
   "execution_count": 2,
   "id": "d9b034d3",
   "metadata": {},
   "outputs": [],
   "source": [
    "import pandas as pd\n",
    "from dotenv import load_dotenv"
   ]
  },
  {
   "cell_type": "code",
   "execution_count": 3,
   "id": "b2e39e33",
   "metadata": {},
   "outputs": [],
   "source": [
    "from wildcatpy.api_calls import WildCATApi\n",
    "from wildcatpy.src import DataExtractor\n"
   ]
  },
  {
   "cell_type": "markdown",
   "id": "a8b4a13b",
   "metadata": {},
   "source": [
    "### Login details\n",
    "\n",
    "The preferred approach to provide your Cluey login details is to:\n",
    "- create a file '.env' in the root of the wildcat-api-python-repository, containing:\n",
    "<br>`# Cluey credentials`\n",
    "<br>`USERNAME=your_username`\n",
    "<br>`PASSWORD=your_password`\n",
    "- call load_dotenv() from the *dotenv*-package (install via `!python3 -m pip install python-dotenv`)\n",
    "- read the username and password using the *os*-package.\n",
    "\n",
    "This prevents your login details from ending up in this notebook and even the repository. Alternatively, you can specify these details manually (not preferred)."
   ]
  },
  {
   "cell_type": "code",
   "execution_count": 4,
   "id": "37be9fd5",
   "metadata": {},
   "outputs": [
    {
     "data": {
      "text/plain": [
       "True"
      ]
     },
     "execution_count": 4,
     "metadata": {},
     "output_type": "execute_result"
    }
   ],
   "source": [
    "load_dotenv()"
   ]
  },
  {
   "cell_type": "code",
   "execution_count": 5,
   "id": "083101a4",
   "metadata": {},
   "outputs": [],
   "source": [
    "username = os.getenv(\"USERNAME\")  # you can also type your username here manually\n",
    "password = os.getenv(\"PASSWORD\")  # You can also type your password here manually"
   ]
  },
  {
   "cell_type": "code",
   "execution_count": 6,
   "id": "0c02ff6b",
   "metadata": {},
   "outputs": [],
   "source": [
    "# initialize API\n",
    "api_call = WildCATApi(username, password)"
   ]
  },
  {
   "cell_type": "markdown",
   "id": "d0387099",
   "metadata": {},
   "source": [
    "## 1. Create get_all_layers"
   ]
  },
  {
   "cell_type": "markdown",
   "id": "f648a8f1",
   "metadata": {},
   "source": [
    "### Check available content\n",
    "\n",
    "- You can use the private function `_api_call` to check information available for a certain url.\n",
    "- The base url is https://focus.sensingclues.org/api/.\n",
    "- To obtain information on layers, we add `\"/map/all/describe\"`."
   ]
  },
  {
   "cell_type": "code",
   "execution_count": 7,
   "id": "9cca6353",
   "metadata": {},
   "outputs": [
    {
     "name": "stdout",
     "output_type": "stream",
     "text": [
      "{'$version': '1.3.3-beta', 'models': {'1234': {'id': '1234', 'name': '1234', 'description': 'Demo Upload', 'layers': [{'id': 0, 'name': 'test_multipolygon', 'description': 'All MultiPolygon geometries for layer test_multipolygon', 'geometryType': 'MultiPolygon'}, {'id': 1, 'name': 'test_polygon', 'description': 'All Polygon geometries for layer test_polygon', 'geometryType': 'Polygon'}]}, 'track': {'id': 'track', 'name': 'track', 'description': 'Track layers', 'layers': [{'id': 0, 'name': 'Tracks', 'description': 'All MultiPoint geometries for Track', 'geometryType': 'MultiPoint'}]}, 'default': {'id': 'default', 'name': 'default', 'description': 'Default Entity layers', 'layers': [{'id': 0, 'name': 'Observations', 'description': 'All Point geometries for Observations', 'geometryType': 'Point'}, {'id': 1, 'name': 'Tracks', 'description': 'All Point geometries for Track', 'geometryType': 'Point'}, {'id': 2, 'name': 'Agents', 'description': 'All Point geometries for Agent', 'geometryType': 'Point'}]}}}\n"
     ]
    }
   ],
   "source": [
    "add = \"/map/all/describe\"\n",
    "output = api_call._api_call(\"get\", add, {}).json()\n",
    "print(output)"
   ]
  },
  {
   "cell_type": "markdown",
   "id": "e91077fb",
   "metadata": {},
   "source": [
    "The above shows the elements available. The elements relevant to layer-information need to be placed in a new json-file, which is used by the DataExtractor-class to process the data."
   ]
  },
  {
   "cell_type": "code",
   "execution_count": 8,
   "id": "b3fe3b32",
   "metadata": {},
   "outputs": [],
   "source": [
    "# set the relevant part for the get_all_layers-method\n",
    "key_of_interest = \"models\""
   ]
  },
  {
   "cell_type": "markdown",
   "id": "3019c40a",
   "metadata": {},
   "source": [
    "### Create json-file for DataExtractor\n",
    "\n",
    "The content defined below should be placed in a json-file in *wildcatpy/extractors/*. In this example, the content below is stored as `wildcatpy/extractors/all_layers.json`.\n",
    "\n",
    "#### Detailed notes on json-structure\n",
    "\n",
    "You can check the DataExtractor to understand how the nested elements in the json are being processed. In short:\n",
    "\n",
    "- cols_to_data is used to move deeper into a nested dict when needed. In this case this is not needed, as we need the models-key for get_all_layers, which already contains the layer overview.\n",
    "- Per row, it will extract the values in the extract_values argument\n",
    "- It will explode every row with values that are in the explode_values\n",
    "- For this particular case, we will also get rows for two projects called 'default' and 'track'. We fix this afterwards by filtering."
   ]
  },
  {
   "cell_type": "code",
   "execution_count": 9,
   "id": "03e846d5",
   "metadata": {},
   "outputs": [
    {
     "data": {
      "text/plain": [
       "{'cols_to_data': [],\n",
       " 'extractor': {'extract_values': ['pid'],\n",
       "  'layers': {'explode_values': ['id', 'name', 'geometryType']}}}"
      ]
     },
     "execution_count": 9,
     "metadata": {},
     "output_type": "execute_result"
    }
   ],
   "source": [
    "# the content of this 'all_layers.json' is used for the get_all_layers-method.\n",
    "{\n",
    "    \"cols_to_data\": [],\n",
    "    \"extractor\": {\n",
    "        \"extract_values\": [\"pid\"],\n",
    "        \"layers\": {\"explode_values\": [\"id\", \"name\", \"geometryType\"]},\n",
    "    },\n",
    "}"
   ]
  },
  {
   "cell_type": "markdown",
   "id": "66e810eb",
   "metadata": {},
   "source": [
    "### Apply DataExtractor to created json\n",
    "\n",
    "To extract all available layers with the DataExtractor-class, we need to apply a small change to the output we received from `_api_call` above. This ensures that the structure of `output[key_of_interest]` in this case is consistent with other calls.\n",
    "\n",
    "#### Detailed notes\n",
    "\n",
    "The DataExtractor requires a list from which it can start extracting, while the content of `output[key_of_interest]` is a nested dict. Therefore, we convert the dict to a list of dicts and add the type of layer ('track' or 'default') as item in the list."
   ]
  },
  {
   "cell_type": "code",
   "execution_count": 10,
   "id": "e0c44423",
   "metadata": {
    "lines_to_next_cell": 2
   },
   "outputs": [],
   "source": [
    "output_pid = [\n",
    "    {**{\"pid\": key}, **output[key_of_interest][key]}\n",
    "    for key in output[key_of_interest].keys()\n",
    "]"
   ]
  },
  {
   "cell_type": "code",
   "execution_count": 11,
   "id": "e23ca47e",
   "metadata": {},
   "outputs": [
    {
     "data": {
      "text/plain": [
       "[{'pid': '1234',\n",
       "  'id': '1234',\n",
       "  'name': '1234',\n",
       "  'description': 'Demo Upload',\n",
       "  'layers': [{'id': 0,\n",
       "    'name': 'test_multipolygon',\n",
       "    'description': 'All MultiPolygon geometries for layer test_multipolygon',\n",
       "    'geometryType': 'MultiPolygon'},\n",
       "   {'id': 1,\n",
       "    'name': 'test_polygon',\n",
       "    'description': 'All Polygon geometries for layer test_polygon',\n",
       "    'geometryType': 'Polygon'}]},\n",
       " {'pid': 'track',\n",
       "  'id': 'track',\n",
       "  'name': 'track',\n",
       "  'description': 'Track layers',\n",
       "  'layers': [{'id': 0,\n",
       "    'name': 'Tracks',\n",
       "    'description': 'All MultiPoint geometries for Track',\n",
       "    'geometryType': 'MultiPoint'}]},\n",
       " {'pid': 'default',\n",
       "  'id': 'default',\n",
       "  'name': 'default',\n",
       "  'description': 'Default Entity layers',\n",
       "  'layers': [{'id': 0,\n",
       "    'name': 'Observations',\n",
       "    'description': 'All Point geometries for Observations',\n",
       "    'geometryType': 'Point'},\n",
       "   {'id': 1,\n",
       "    'name': 'Tracks',\n",
       "    'description': 'All Point geometries for Track',\n",
       "    'geometryType': 'Point'},\n",
       "   {'id': 2,\n",
       "    'name': 'Agents',\n",
       "    'description': 'All Point geometries for Agent',\n",
       "    'geometryType': 'Point'}]}]"
      ]
     },
     "execution_count": 11,
     "metadata": {},
     "output_type": "execute_result"
    }
   ],
   "source": [
    "output_pid"
   ]
  },
  {
   "cell_type": "code",
   "execution_count": 12,
   "id": "8721a73d",
   "metadata": {},
   "outputs": [],
   "source": [
    "extr = DataExtractor(\"all_layers\")\n",
    "extr_output = extr.extract_data(output_pid)"
   ]
  },
  {
   "cell_type": "code",
   "execution_count": 13,
   "id": "32fbb4ad",
   "metadata": {},
   "outputs": [
    {
     "data": {
      "text/plain": [
       "[{'pid': '1234',\n",
       "  'id': 0,\n",
       "  'name': 'test_multipolygon',\n",
       "  'description': 'All MultiPolygon geometries for layer test_multipolygon',\n",
       "  'geometryType': 'MultiPolygon'},\n",
       " {'pid': '1234',\n",
       "  'id': 1,\n",
       "  'name': 'test_polygon',\n",
       "  'description': 'All Polygon geometries for layer test_polygon',\n",
       "  'geometryType': 'Polygon'},\n",
       " {'pid': 'track',\n",
       "  'id': 0,\n",
       "  'name': 'Tracks',\n",
       "  'description': 'All MultiPoint geometries for Track',\n",
       "  'geometryType': 'MultiPoint'},\n",
       " {'pid': 'default',\n",
       "  'id': 0,\n",
       "  'name': 'Observations',\n",
       "  'description': 'All Point geometries for Observations',\n",
       "  'geometryType': 'Point'},\n",
       " {'pid': 'default',\n",
       "  'id': 1,\n",
       "  'name': 'Tracks',\n",
       "  'description': 'All Point geometries for Track',\n",
       "  'geometryType': 'Point'},\n",
       " {'pid': 'default',\n",
       "  'id': 2,\n",
       "  'name': 'Agents',\n",
       "  'description': 'All Point geometries for Agent',\n",
       "  'geometryType': 'Point'}]"
      ]
     },
     "execution_count": 13,
     "metadata": {},
     "output_type": "execute_result"
    }
   ],
   "source": [
    "extr_output"
   ]
  },
  {
   "cell_type": "code",
   "execution_count": 14,
   "id": "c6f28857",
   "metadata": {
    "lines_to_next_cell": 2
   },
   "outputs": [],
   "source": [
    "# create a dataframe from the output of the DataExtractor\n",
    "col_trans = {\"id\": \"lid\"}\n",
    "df = (\n",
    "    pd.DataFrame(extr_output)\n",
    "    .rename(columns=col_trans)\n",
    "    .query(\"pid != 'track' and pid != 'default'\")\n",
    ")"
   ]
  },
  {
   "cell_type": "code",
   "execution_count": 15,
   "id": "a1be3a94",
   "metadata": {},
   "outputs": [
    {
     "data": {
      "text/html": [
       "<div>\n",
       "<style scoped>\n",
       "    .dataframe tbody tr th:only-of-type {\n",
       "        vertical-align: middle;\n",
       "    }\n",
       "\n",
       "    .dataframe tbody tr th {\n",
       "        vertical-align: top;\n",
       "    }\n",
       "\n",
       "    .dataframe thead th {\n",
       "        text-align: right;\n",
       "    }\n",
       "</style>\n",
       "<table border=\"1\" class=\"dataframe\">\n",
       "  <thead>\n",
       "    <tr style=\"text-align: right;\">\n",
       "      <th></th>\n",
       "      <th>pid</th>\n",
       "      <th>lid</th>\n",
       "      <th>name</th>\n",
       "      <th>description</th>\n",
       "      <th>geometryType</th>\n",
       "    </tr>\n",
       "  </thead>\n",
       "  <tbody>\n",
       "    <tr>\n",
       "      <th>0</th>\n",
       "      <td>1234</td>\n",
       "      <td>0</td>\n",
       "      <td>test_multipolygon</td>\n",
       "      <td>All MultiPolygon geometries for layer test_mul...</td>\n",
       "      <td>MultiPolygon</td>\n",
       "    </tr>\n",
       "    <tr>\n",
       "      <th>1</th>\n",
       "      <td>1234</td>\n",
       "      <td>1</td>\n",
       "      <td>test_polygon</td>\n",
       "      <td>All Polygon geometries for layer test_polygon</td>\n",
       "      <td>Polygon</td>\n",
       "    </tr>\n",
       "  </tbody>\n",
       "</table>\n",
       "</div>"
      ],
      "text/plain": [
       "    pid  lid               name  \\\n",
       "0  1234    0  test_multipolygon   \n",
       "1  1234    1       test_polygon   \n",
       "\n",
       "                                         description  geometryType  \n",
       "0  All MultiPolygon geometries for layer test_mul...  MultiPolygon  \n",
       "1      All Polygon geometries for layer test_polygon       Polygon  "
      ]
     },
     "execution_count": 15,
     "metadata": {},
     "output_type": "execute_result"
    }
   ],
   "source": [
    "df.head()"
   ]
  },
  {
   "cell_type": "markdown",
   "id": "2f665f99",
   "metadata": {},
   "source": [
    "### Create and test method\n",
    "\n",
    "- Combine the steps above into the new method\n",
    "- Test the new function by extend the existing WildCATApi-class.\n",
    "- If the function works here, you can implement it in api_calls.py.\n",
    "\n",
    "Note: the `get_all_layers`-method is relatively simple, but we aim to illustrate the concept here."
   ]
  },
  {
   "cell_type": "code",
   "execution_count": 16,
   "id": "0ab80818",
   "metadata": {},
   "outputs": [],
   "source": [
    "DEFAULT_EXCLUDE_PIDS = [\"track\", \"default\"]\n",
    "\n",
    "\n",
    "class TestNewAPI(WildCATApi):\n",
    "    def get_all_layers(self, exclude_pids: list = None):\n",
    "        if not exclude_pids:\n",
    "            exclude_pids = DEFAULT_EXCLUDE_PIDS\n",
    "        else:\n",
    "            exclude_pids += DEFAULT_EXCLUDE_PIDS\n",
    "        exclude_pids = [str(x) for x in exclude_pids]\n",
    "\n",
    "        cols_to_rename = {\"id\": \"lid\", \"name\": \"layerName\"}\n",
    "        url_addition = \"/map/all/describe\"\n",
    "\n",
    "        r = self._api_call(\"get\", url_addition)\n",
    "        output = r.json()\n",
    "\n",
    "        # key 'pid' is added to access layers in layer_feature_extractor.\n",
    "        layer_output = [\n",
    "            {**{\"pid\": key}, **output[\"models\"][key]} for key in output[\"models\"].keys()\n",
    "        ]\n",
    "\n",
    "        extractor = DataExtractor(\"all_layers\")\n",
    "        extracted_output = extractor.extract_data(layer_output)\n",
    "        df = pd.DataFrame(extracted_output).rename(columns=cols_to_rename)\n",
    "\n",
    "        df = df.loc[~df[\"pid\"].isin(exclude_pids)]\n",
    "        return df"
   ]
  },
  {
   "cell_type": "code",
   "execution_count": 17,
   "id": "cd78b993",
   "metadata": {},
   "outputs": [],
   "source": [
    "# run test if it works\n",
    "# if so we can implement it\n",
    "test = TestNewAPI(username, password)\n",
    "df = test.get_all_layers()\n",
    "\n",
    "# a quick assertion on the output\n",
    "expected_cols = [\"pid\", \"lid\", \"layerName\", \"geometryType\"]\n",
    "assert [\n",
    "    c in df.columns for c in expected_cols\n",
    "], \"Not all expected columns are in the output.\""
   ]
  },
  {
   "cell_type": "markdown",
   "id": "da60449c",
   "metadata": {},
   "source": [
    "Success! (at least regarding the columns, that is).\n",
    "\n",
    "- You can develop new methods in a similar fashion. See the methods already available in *api_calls.py* for more examples how to extract the correct fields om Cluey/Focus.\n",
    "- Further, the R-library *wildcat-api-r* provides additional methods which could be created here as well (or you could experiment with using a conversion package like *rpy2*)."
   ]
  }
 ],
 "metadata": {
  "kernelspec": {
   "display_name": "Python 3 (ipykernel)",
   "language": "python",
   "name": "python3"
  },
  "language_info": {
   "codemirror_mode": {
    "name": "ipython",
    "version": 3
   },
   "file_extension": ".py",
   "mimetype": "text/x-python",
   "name": "python",
   "nbconvert_exporter": "python",
   "pygments_lexer": "ipython3",
   "version": "3.10.7"
  }
 },
 "nbformat": 4,
 "nbformat_minor": 5
}
