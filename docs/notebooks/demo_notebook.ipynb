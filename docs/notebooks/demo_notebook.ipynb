{
 "cells": [
  {
   "cell_type": "markdown",
   "id": "e66c5612",
   "metadata": {},
   "source": [
    "# Demo of functionality available in wildcat-api-python\n",
    "\n",
    "This demo shows the available functionality using default settings for parameters. For more detail on what you can configure as a user, see the documentation and description of individual methods in the WildCATApi-class.\n",
    "\n",
    "### Before you start\n",
    "\n",
    "To be able to run this notebook, you should:\n",
    "- install the wildcat-api-python package in a virtual environment (`pip install -e .` from the main directory of the repository).\n",
    "- install the requirements in requirements.txt (if not already installed automatically in the previous step).\n",
    "- create a file '.env' in the root of the wildcat-api-python-repository, containing your Cluey credentials. These will be read in this notebook to log in. The file should look like this:\n",
    "```\n",
    "# Cluey credentials\n",
    "USERNAME=your_username\n",
    "PASSWORD=your_password\n",
    "```"
   ]
  },
  {
   "cell_type": "markdown",
   "id": "088970c7",
   "metadata": {},
   "source": [
    "## Configuration"
   ]
  },
  {
   "cell_type": "code",
   "execution_count": 1,
   "id": "edca76a7",
   "metadata": {},
   "outputs": [],
   "source": [
    "import os"
   ]
  },
  {
   "cell_type": "code",
   "execution_count": 2,
   "id": "0811a631",
   "metadata": {},
   "outputs": [],
   "source": [
    "import matplotlib.pyplot as plt\n",
    "from dotenv import load_dotenv"
   ]
  },
  {
   "cell_type": "code",
   "execution_count": 3,
   "id": "7bcb02d6",
   "metadata": {},
   "outputs": [],
   "source": [
    "from wildcatpy import wclogging\n",
    "from wildcatpy.api_calls import WildCATApi\n",
    "from wildcatpy.src import helper_functions as helpers"
   ]
  },
  {
   "cell_type": "code",
   "execution_count": 4,
   "id": "c7771ad7",
   "metadata": {},
   "outputs": [],
   "source": [
    "logger = wclogging.get_wc_logger()\n",
    "wclogging.set_wc_log_level(\"DEBUG\")"
   ]
  },
  {
   "cell_type": "code",
   "execution_count": 5,
   "id": "514625d6",
   "metadata": {},
   "outputs": [],
   "source": [
    "plt.style.use(\"ggplot\")"
   ]
  },
  {
   "cell_type": "code",
   "execution_count": 6,
   "id": "102643a3",
   "metadata": {},
   "outputs": [
    {
     "data": {
      "text/plain": [
       "True"
      ]
     },
     "execution_count": 6,
     "metadata": {},
     "output_type": "execute_result"
    }
   ],
   "source": [
    "load_dotenv()"
   ]
  },
  {
   "cell_type": "code",
   "execution_count": 7,
   "id": "a1a643fe",
   "metadata": {},
   "outputs": [],
   "source": [
    "%load_ext autoreload\n",
    "%autoreload 2"
   ]
  },
  {
   "cell_type": "code",
   "execution_count": 8,
   "id": "321424e8",
   "metadata": {
    "lines_to_next_cell": 2
   },
   "outputs": [],
   "source": [
    "username = os.getenv(\"USERNAME\")  # you can also type your password here manually\n",
    "password = os.getenv(\"PASSWORD\")  # You can also type your username here manually"
   ]
  },
  {
   "cell_type": "markdown",
   "id": "18fe310c",
   "metadata": {},
   "source": [
    "## Demo-time, here we go!"
   ]
  },
  {
   "cell_type": "code",
   "execution_count": 9,
   "id": "78ccf378",
   "metadata": {},
   "outputs": [],
   "source": [
    "api_call = WildCATApi(username, password)"
   ]
  },
  {
   "cell_type": "markdown",
   "id": "cbe74396",
   "metadata": {},
   "source": [
    "### Login"
   ]
  },
  {
   "cell_type": "code",
   "execution_count": 10,
   "id": "2dfeebd0",
   "metadata": {},
   "outputs": [
    {
     "data": {
      "text/plain": [
       "<Response [200]>"
      ]
     },
     "execution_count": 10,
     "metadata": {},
     "output_type": "execute_result"
    }
   ],
   "source": [
    "# expected output if successful: '<Response [200]>'\n",
    "api_call.login(username, password)"
   ]
  },
  {
   "cell_type": "code",
   "execution_count": 11,
   "id": "0499a4ef",
   "metadata": {},
   "outputs": [],
   "source": [
    "# It is not necessary to log out, but you can do so by calling:\n",
    "# api_call.logout()"
   ]
  },
  {
   "cell_type": "markdown",
   "id": "636b81b6",
   "metadata": {},
   "source": [
    "### Obtain the groups you have access to"
   ]
  },
  {
   "cell_type": "code",
   "execution_count": 12,
   "id": "3a95b1d3",
   "metadata": {},
   "outputs": [],
   "source": [
    "info = api_call.get_groups()"
   ]
  },
  {
   "cell_type": "code",
   "execution_count": 13,
   "id": "741a0a2b",
   "metadata": {},
   "outputs": [
    {
     "data": {
      "text/html": [
       "<div>\n",
       "<style scoped>\n",
       "    .dataframe tbody tr th:only-of-type {\n",
       "        vertical-align: middle;\n",
       "    }\n",
       "\n",
       "    .dataframe tbody tr th {\n",
       "        vertical-align: top;\n",
       "    }\n",
       "\n",
       "    .dataframe thead th {\n",
       "        text-align: right;\n",
       "    }\n",
       "</style>\n",
       "<table border=\"1\" class=\"dataframe\">\n",
       "  <thead>\n",
       "    <tr style=\"text-align: right;\">\n",
       "      <th></th>\n",
       "      <th>name</th>\n",
       "      <th>description</th>\n",
       "      <th>n_records</th>\n",
       "    </tr>\n",
       "  </thead>\n",
       "  <tbody>\n",
       "    <tr>\n",
       "      <th>0</th>\n",
       "      <td>focus-project-2435800</td>\n",
       "      <td>3june2020</td>\n",
       "      <td>392</td>\n",
       "    </tr>\n",
       "    <tr>\n",
       "      <th>1</th>\n",
       "      <td>focus-project-7136973</td>\n",
       "      <td>Cluey Data Collector</td>\n",
       "      <td>621</td>\n",
       "    </tr>\n",
       "    <tr>\n",
       "      <th>2</th>\n",
       "      <td>focus-project-7811010</td>\n",
       "      <td>Creekish mountains</td>\n",
       "      <td>152</td>\n",
       "    </tr>\n",
       "    <tr>\n",
       "      <th>3</th>\n",
       "      <td>focus-project-1234</td>\n",
       "      <td>Demo Upload</td>\n",
       "      <td>1848</td>\n",
       "    </tr>\n",
       "    <tr>\n",
       "      <th>4</th>\n",
       "      <td>focus-project-GFW</td>\n",
       "      <td>GFW</td>\n",
       "      <td>41229</td>\n",
       "    </tr>\n",
       "  </tbody>\n",
       "</table>\n",
       "</div>"
      ],
      "text/plain": [
       "                    name           description  n_records\n",
       "0  focus-project-2435800             3june2020        392\n",
       "1  focus-project-7136973  Cluey Data Collector        621\n",
       "2  focus-project-7811010    Creekish mountains        152\n",
       "3     focus-project-1234           Demo Upload       1848\n",
       "4      focus-project-GFW                   GFW      41229"
      ]
     },
     "execution_count": 13,
     "metadata": {},
     "output_type": "execute_result"
    }
   ],
   "source": [
    "info.head()"
   ]
  },
  {
   "cell_type": "code",
   "execution_count": 14,
   "id": "98d08896",
   "metadata": {},
   "outputs": [],
   "source": [
    "# for other functionality, you can specify a group to extract data from\n",
    "groups = \"focus-project-1234\""
   ]
  },
  {
   "cell_type": "markdown",
   "id": "756131a0",
   "metadata": {},
   "source": [
    "### Get observations\n",
    "\n",
    "You can control the scope (e.g. coordinates) of these observations in more detail than done in this example.\n",
    "For reference: ~500 observations typically take ~1 minute to read.\n",
    "\n",
    "**NOTE:**\n",
    " Each observation may have multiple concepts (tags) associated with it,\n",
    " in which case the number of rows in the observations-dataframe is larger than\n",
    " the number of records of data type 'observations' mentioned by the logger.\n",
    "\n",
    "TODO: provide detailed instructions."
   ]
  },
  {
   "cell_type": "code",
   "execution_count": 15,
   "id": "2d57d233",
   "metadata": {},
   "outputs": [
    {
     "name": "stdout",
     "output_type": "stream",
     "text": [
      "2024-01-26 07:37:26 [api_calls.py:430] INFO - Group 'focus-project-1234' contains 1848 records for data type 'observations'.\n",
      "2024-01-26 07:37:26 [api_calls.py:444] INFO - Started reading available records.\n",
      "2024-01-26 07:38:38 [api_calls.py:454] INFO - Finished reading available records.\n"
     ]
    }
   ],
   "source": [
    "observations = api_call.get_observations(groups=groups, operator=[\"intersects\"])"
   ]
  },
  {
   "cell_type": "code",
   "execution_count": 16,
   "id": "a15db9de",
   "metadata": {},
   "outputs": [
    {
     "name": "stdout",
     "output_type": "stream",
     "text": [
      "<class 'pandas.core.frame.DataFrame'>\n",
      "RangeIndex: 3635 entries, 0 to 3634\n",
      "Data columns (total 11 columns):\n",
      " #   Column           Non-Null Count  Dtype \n",
      "---  ------           --------------  ----- \n",
      " 0   entityId         3635 non-null   object\n",
      " 1   entityType       3635 non-null   object\n",
      " 2   entityName       3635 non-null   object\n",
      " 3   projectId        3635 non-null   object\n",
      " 4   projectName      3635 non-null   object\n",
      " 5   observationType  3635 non-null   object\n",
      " 6   when             3635 non-null   object\n",
      " 7   where            3635 non-null   object\n",
      " 8   agentName        3635 non-null   object\n",
      " 9   conceptLabel     3609 non-null   object\n",
      " 10  conceptId        3609 non-null   object\n",
      "dtypes: object(11)\n",
      "memory usage: 312.5+ KB\n"
     ]
    }
   ],
   "source": [
    "observations.info()"
   ]
  },
  {
   "cell_type": "code",
   "execution_count": 17,
   "id": "f204def4",
   "metadata": {},
   "outputs": [
    {
     "data": {
      "text/html": [
       "<div>\n",
       "<style scoped>\n",
       "    .dataframe tbody tr th:only-of-type {\n",
       "        vertical-align: middle;\n",
       "    }\n",
       "\n",
       "    .dataframe tbody tr th {\n",
       "        vertical-align: top;\n",
       "    }\n",
       "\n",
       "    .dataframe thead th {\n",
       "        text-align: right;\n",
       "    }\n",
       "</style>\n",
       "<table border=\"1\" class=\"dataframe\">\n",
       "  <thead>\n",
       "    <tr style=\"text-align: right;\">\n",
       "      <th></th>\n",
       "      <th>entityId</th>\n",
       "      <th>entityType</th>\n",
       "      <th>entityName</th>\n",
       "      <th>projectId</th>\n",
       "      <th>projectName</th>\n",
       "      <th>observationType</th>\n",
       "      <th>when</th>\n",
       "      <th>where</th>\n",
       "      <th>agentName</th>\n",
       "      <th>conceptLabel</th>\n",
       "      <th>conceptId</th>\n",
       "    </tr>\n",
       "  </thead>\n",
       "  <tbody>\n",
       "    <tr>\n",
       "      <th>0</th>\n",
       "      <td>O1234-431049404128863518-178</td>\n",
       "      <td>animal</td>\n",
       "      <td>Observation</td>\n",
       "      <td>1234</td>\n",
       "      <td>Demo Upload</td>\n",
       "      <td>animal</td>\n",
       "      <td>2018-07-31T00:00:00+02:00</td>\n",
       "      <td>{'type': 'Point', 'coordinates': [16.46301901,...</td>\n",
       "      <td>#####</td>\n",
       "      <td>Female</td>\n",
       "      <td>https://sensingclues.poolparty.biz/SCCSSOntolo...</td>\n",
       "    </tr>\n",
       "    <tr>\n",
       "      <th>1</th>\n",
       "      <td>O1234-431049404128863518-178</td>\n",
       "      <td>animal</td>\n",
       "      <td>Observation</td>\n",
       "      <td>1234</td>\n",
       "      <td>Demo Upload</td>\n",
       "      <td>animal</td>\n",
       "      <td>2018-07-31T00:00:00+02:00</td>\n",
       "      <td>{'type': 'Point', 'coordinates': [16.46301901,...</td>\n",
       "      <td>#####</td>\n",
       "      <td>Gunshot</td>\n",
       "      <td>https://sensingclues.poolparty.biz/SCCSSOntolo...</td>\n",
       "    </tr>\n",
       "    <tr>\n",
       "      <th>2</th>\n",
       "      <td>O1234-431049404128863518-178</td>\n",
       "      <td>animal</td>\n",
       "      <td>Observation</td>\n",
       "      <td>1234</td>\n",
       "      <td>Demo Upload</td>\n",
       "      <td>animal</td>\n",
       "      <td>2018-07-31T00:00:00+02:00</td>\n",
       "      <td>{'type': 'Point', 'coordinates': [16.46301901,...</td>\n",
       "      <td>#####</td>\n",
       "      <td>_Missing</td>\n",
       "      <td>https://sensingclues.poolparty.biz/SCCSSOntolo...</td>\n",
       "    </tr>\n",
       "    <tr>\n",
       "      <th>3</th>\n",
       "      <td>O1234-431049404128863518-178</td>\n",
       "      <td>animal</td>\n",
       "      <td>Observation</td>\n",
       "      <td>1234</td>\n",
       "      <td>Demo Upload</td>\n",
       "      <td>animal</td>\n",
       "      <td>2018-07-31T00:00:00+02:00</td>\n",
       "      <td>{'type': 'Point', 'coordinates': [16.46301901,...</td>\n",
       "      <td>#####</td>\n",
       "      <td>Animal sighting</td>\n",
       "      <td>https://sensingclues.poolparty.biz/SCCSSOntolo...</td>\n",
       "    </tr>\n",
       "    <tr>\n",
       "      <th>4</th>\n",
       "      <td>O1234-8298573771345653336-2149</td>\n",
       "      <td>human activity</td>\n",
       "      <td>Observation</td>\n",
       "      <td>1234</td>\n",
       "      <td>Demo Upload</td>\n",
       "      <td>human activity</td>\n",
       "      <td>2018-07-31T00:00:00+02:00</td>\n",
       "      <td>{'type': 'Point', 'coordinates': [17.58417983,...</td>\n",
       "      <td>#####</td>\n",
       "      <td>Stone</td>\n",
       "      <td>https://sensingclues.poolparty.biz/SCCSSOntolo...</td>\n",
       "    </tr>\n",
       "  </tbody>\n",
       "</table>\n",
       "</div>"
      ],
      "text/plain": [
       "                         entityId      entityType   entityName projectId  \\\n",
       "0    O1234-431049404128863518-178          animal  Observation      1234   \n",
       "1    O1234-431049404128863518-178          animal  Observation      1234   \n",
       "2    O1234-431049404128863518-178          animal  Observation      1234   \n",
       "3    O1234-431049404128863518-178          animal  Observation      1234   \n",
       "4  O1234-8298573771345653336-2149  human activity  Observation      1234   \n",
       "\n",
       "   projectName observationType                       when  \\\n",
       "0  Demo Upload          animal  2018-07-31T00:00:00+02:00   \n",
       "1  Demo Upload          animal  2018-07-31T00:00:00+02:00   \n",
       "2  Demo Upload          animal  2018-07-31T00:00:00+02:00   \n",
       "3  Demo Upload          animal  2018-07-31T00:00:00+02:00   \n",
       "4  Demo Upload  human activity  2018-07-31T00:00:00+02:00   \n",
       "\n",
       "                                               where agentName  \\\n",
       "0  {'type': 'Point', 'coordinates': [16.46301901,...     #####   \n",
       "1  {'type': 'Point', 'coordinates': [16.46301901,...     #####   \n",
       "2  {'type': 'Point', 'coordinates': [16.46301901,...     #####   \n",
       "3  {'type': 'Point', 'coordinates': [16.46301901,...     #####   \n",
       "4  {'type': 'Point', 'coordinates': [17.58417983,...     #####   \n",
       "\n",
       "      conceptLabel                                          conceptId  \n",
       "0           Female  https://sensingclues.poolparty.biz/SCCSSOntolo...  \n",
       "1          Gunshot  https://sensingclues.poolparty.biz/SCCSSOntolo...  \n",
       "2         _Missing  https://sensingclues.poolparty.biz/SCCSSOntolo...  \n",
       "3  Animal sighting  https://sensingclues.poolparty.biz/SCCSSOntolo...  \n",
       "4            Stone  https://sensingclues.poolparty.biz/SCCSSOntolo...  "
      ]
     },
     "execution_count": 17,
     "metadata": {},
     "output_type": "execute_result"
    }
   ],
   "source": [
    "observations[\"agentName\"] = \"#####\"\n",
    "observations.head()"
   ]
  },
  {
   "cell_type": "markdown",
   "id": "8bec2414",
   "metadata": {},
   "source": [
    "### Get track metadata\n",
    "\n",
    "Note that you can control the scope (e.g. coordinates) of these observations in more detail than done here.\n",
    "\n",
    "TODO: provide detailed instructions."
   ]
  },
  {
   "cell_type": "code",
   "execution_count": 18,
   "id": "38552b48",
   "metadata": {},
   "outputs": [
    {
     "name": "stdout",
     "output_type": "stream",
     "text": [
      "2024-01-26 07:38:38 [api_calls.py:430] INFO - Group 'focus-project-1234' contains 0 records for data type 'tracks'.\n",
      "2024-01-26 07:38:38 [api_calls.py:456] WARNING - No data available for 'tracks', returning empty dataframe.\n"
     ]
    }
   ],
   "source": [
    "tracks = api_call.get_tracks(groups=groups, time_until=\"23:59:54-00:00\")"
   ]
  },
  {
   "cell_type": "code",
   "execution_count": 19,
   "id": "894ed393",
   "metadata": {},
   "outputs": [
    {
     "data": {
      "text/html": [
       "<div>\n",
       "<style scoped>\n",
       "    .dataframe tbody tr th:only-of-type {\n",
       "        vertical-align: middle;\n",
       "    }\n",
       "\n",
       "    .dataframe tbody tr th {\n",
       "        vertical-align: top;\n",
       "    }\n",
       "\n",
       "    .dataframe thead th {\n",
       "        text-align: right;\n",
       "    }\n",
       "</style>\n",
       "<table border=\"1\" class=\"dataframe\">\n",
       "  <thead>\n",
       "    <tr style=\"text-align: right;\">\n",
       "      <th></th>\n",
       "      <th>agentName</th>\n",
       "    </tr>\n",
       "  </thead>\n",
       "  <tbody>\n",
       "  </tbody>\n",
       "</table>\n",
       "</div>"
      ],
      "text/plain": [
       "Empty DataFrame\n",
       "Columns: [agentName]\n",
       "Index: []"
      ]
     },
     "execution_count": 19,
     "metadata": {},
     "output_type": "execute_result"
    }
   ],
   "source": [
    "tracks[\"agentName\"] = \"#####\"\n",
    "tracks.head()"
   ]
  },
  {
   "cell_type": "markdown",
   "id": "e8944e32",
   "metadata": {},
   "source": [
    "### Add geosjon-data to tracks\n",
    "\n",
    "Note that you can control the scope (e.g. coordinates) of these observations in more detail than done here.\n",
    "\n",
    "TODO: provide detailed instructions."
   ]
  },
  {
   "cell_type": "code",
   "execution_count": 20,
   "id": "112f887e",
   "metadata": {},
   "outputs": [
    {
     "name": "stdout",
     "output_type": "stream",
     "text": [
      "2024-01-26 07:38:38 [2456454027.py:7] WARNING - No tracks available for group focus-project-1234, cannot obtain geojson-data\n"
     ]
    }
   ],
   "source": [
    "if tracks.shape[0] > 0:\n",
    "    track_entities = tracks[\"entityId\"].unique().tolist()\n",
    "    tracks_geo = api_call.add_geojson_to_track(track_entities)\n",
    "    tracks_merged = tracks.merge(tracks_geo, how=\"left\", on=\"entityId\")\n",
    "    tracks_merged[\"agentName\"] = \"#####\"\n",
    "else:\n",
    "    logger.warning(\n",
    "        f\"No tracks available for group {groups}, \" f\"cannot obtain geojson-data\"\n",
    "    )\n",
    "    tracks_merged = tracks"
   ]
  },
  {
   "cell_type": "code",
   "execution_count": 21,
   "id": "c44f62dc",
   "metadata": {},
   "outputs": [
    {
     "data": {
      "text/html": [
       "<div>\n",
       "<style scoped>\n",
       "    .dataframe tbody tr th:only-of-type {\n",
       "        vertical-align: middle;\n",
       "    }\n",
       "\n",
       "    .dataframe tbody tr th {\n",
       "        vertical-align: top;\n",
       "    }\n",
       "\n",
       "    .dataframe thead th {\n",
       "        text-align: right;\n",
       "    }\n",
       "</style>\n",
       "<table border=\"1\" class=\"dataframe\">\n",
       "  <thead>\n",
       "    <tr style=\"text-align: right;\">\n",
       "      <th></th>\n",
       "      <th>agentName</th>\n",
       "    </tr>\n",
       "  </thead>\n",
       "  <tbody>\n",
       "  </tbody>\n",
       "</table>\n",
       "</div>"
      ],
      "text/plain": [
       "Empty DataFrame\n",
       "Columns: [agentName]\n",
       "Index: []"
      ]
     },
     "execution_count": 21,
     "metadata": {},
     "output_type": "execute_result"
    }
   ],
   "source": [
    "tracks_merged.head()"
   ]
  },
  {
   "cell_type": "markdown",
   "id": "9e2f5f0a",
   "metadata": {},
   "source": [
    "### Get all available layers (projects)"
   ]
  },
  {
   "cell_type": "code",
   "execution_count": 22,
   "id": "731be4ce",
   "metadata": {},
   "outputs": [],
   "source": [
    "layers = api_call.get_all_layers()"
   ]
  },
  {
   "cell_type": "code",
   "execution_count": 23,
   "id": "726ea968",
   "metadata": {},
   "outputs": [
    {
     "data": {
      "text/html": [
       "<div>\n",
       "<style scoped>\n",
       "    .dataframe tbody tr th:only-of-type {\n",
       "        vertical-align: middle;\n",
       "    }\n",
       "\n",
       "    .dataframe tbody tr th {\n",
       "        vertical-align: top;\n",
       "    }\n",
       "\n",
       "    .dataframe thead th {\n",
       "        text-align: right;\n",
       "    }\n",
       "</style>\n",
       "<table border=\"1\" class=\"dataframe\">\n",
       "  <thead>\n",
       "    <tr style=\"text-align: right;\">\n",
       "      <th></th>\n",
       "      <th>pid</th>\n",
       "      <th>lid</th>\n",
       "      <th>layerName</th>\n",
       "      <th>description</th>\n",
       "      <th>geometryType</th>\n",
       "    </tr>\n",
       "  </thead>\n",
       "  <tbody>\n",
       "    <tr>\n",
       "      <th>0</th>\n",
       "      <td>1234</td>\n",
       "      <td>0</td>\n",
       "      <td>test_multipolygon</td>\n",
       "      <td>All MultiPolygon geometries for layer test_mul...</td>\n",
       "      <td>MultiPolygon</td>\n",
       "    </tr>\n",
       "    <tr>\n",
       "      <th>1</th>\n",
       "      <td>1234</td>\n",
       "      <td>1</td>\n",
       "      <td>test_polygon</td>\n",
       "      <td>All Polygon geometries for layer test_polygon</td>\n",
       "      <td>Polygon</td>\n",
       "    </tr>\n",
       "  </tbody>\n",
       "</table>\n",
       "</div>"
      ],
      "text/plain": [
       "    pid  lid          layerName  \\\n",
       "0  1234    0  test_multipolygon   \n",
       "1  1234    1       test_polygon   \n",
       "\n",
       "                                         description  geometryType  \n",
       "0  All MultiPolygon geometries for layer test_mul...  MultiPolygon  \n",
       "1      All Polygon geometries for layer test_polygon       Polygon  "
      ]
     },
     "execution_count": 23,
     "metadata": {},
     "output_type": "execute_result"
    }
   ],
   "source": [
    "layers"
   ]
  },
  {
   "cell_type": "markdown",
   "id": "3d42c8c0",
   "metadata": {},
   "source": [
    "### Get details (features) for an individual layer"
   ]
  },
  {
   "cell_type": "code",
   "execution_count": 24,
   "id": "9e747cc5",
   "metadata": {},
   "outputs": [],
   "source": [
    "df = api_call.get_layer_features(layer_name=\"test_multipolygon\")"
   ]
  },
  {
   "cell_type": "markdown",
   "id": "b3047b40",
   "metadata": {},
   "source": [
    "#### [optional] Plot available geometries (requires Folium)"
   ]
  },
  {
   "cell_type": "code",
   "execution_count": 25,
   "id": "a4e6773c",
   "metadata": {},
   "outputs": [],
   "source": [
    "# !pip install folium"
   ]
  },
  {
   "cell_type": "code",
   "execution_count": 26,
   "id": "6c2c1246",
   "metadata": {},
   "outputs": [],
   "source": [
    "import folium"
   ]
  },
  {
   "cell_type": "code",
   "execution_count": 27,
   "id": "558db50c",
   "metadata": {
    "lines_to_next_cell": 2
   },
   "outputs": [
    {
     "data": {
      "text/html": [
       "<div style=\"width:100%;\"><div style=\"position:relative;width:100%;height:0;padding-bottom:60%;\"><span style=\"color:#565656\">Make this Notebook Trusted to load map: File -> Trust Notebook</span><iframe srcdoc=\"&lt;!DOCTYPE html&gt;\n",
       "&lt;html&gt;\n",
       "&lt;head&gt;\n",
       "    \n",
       "    &lt;meta http-equiv=&quot;content-type&quot; content=&quot;text/html; charset=UTF-8&quot; /&gt;\n",
       "    \n",
       "        &lt;script&gt;\n",
       "            L_NO_TOUCH = false;\n",
       "            L_DISABLE_3D = false;\n",
       "        &lt;/script&gt;\n",
       "    \n",
       "    &lt;style&gt;html, body {width: 100%;height: 100%;margin: 0;padding: 0;}&lt;/style&gt;\n",
       "    &lt;style&gt;#map {position:absolute;top:0;bottom:0;right:0;left:0;}&lt;/style&gt;\n",
       "    &lt;script src=&quot;https://cdn.jsdelivr.net/npm/leaflet@1.6.0/dist/leaflet.js&quot;&gt;&lt;/script&gt;\n",
       "    &lt;script src=&quot;https://code.jquery.com/jquery-1.12.4.min.js&quot;&gt;&lt;/script&gt;\n",
       "    &lt;script src=&quot;https://maxcdn.bootstrapcdn.com/bootstrap/3.2.0/js/bootstrap.min.js&quot;&gt;&lt;/script&gt;\n",
       "    &lt;script src=&quot;https://cdnjs.cloudflare.com/ajax/libs/Leaflet.awesome-markers/2.0.2/leaflet.awesome-markers.js&quot;&gt;&lt;/script&gt;\n",
       "    &lt;link rel=&quot;stylesheet&quot; href=&quot;https://cdn.jsdelivr.net/npm/leaflet@1.6.0/dist/leaflet.css&quot;/&gt;\n",
       "    &lt;link rel=&quot;stylesheet&quot; href=&quot;https://maxcdn.bootstrapcdn.com/bootstrap/3.2.0/css/bootstrap.min.css&quot;/&gt;\n",
       "    &lt;link rel=&quot;stylesheet&quot; href=&quot;https://maxcdn.bootstrapcdn.com/bootstrap/3.2.0/css/bootstrap-theme.min.css&quot;/&gt;\n",
       "    &lt;link rel=&quot;stylesheet&quot; href=&quot;https://maxcdn.bootstrapcdn.com/font-awesome/4.6.3/css/font-awesome.min.css&quot;/&gt;\n",
       "    &lt;link rel=&quot;stylesheet&quot; href=&quot;https://cdnjs.cloudflare.com/ajax/libs/Leaflet.awesome-markers/2.0.2/leaflet.awesome-markers.css&quot;/&gt;\n",
       "    &lt;link rel=&quot;stylesheet&quot; href=&quot;https://cdn.jsdelivr.net/gh/python-visualization/folium/folium/templates/leaflet.awesome.rotate.min.css&quot;/&gt;\n",
       "    \n",
       "            &lt;meta name=&quot;viewport&quot; content=&quot;width=device-width,\n",
       "                initial-scale=1.0, maximum-scale=1.0, user-scalable=no&quot; /&gt;\n",
       "            &lt;style&gt;\n",
       "                #map_bfb7ce202d64f011e87b81c53cdff954 {\n",
       "                    position: relative;\n",
       "                    width: 100.0%;\n",
       "                    height: 100.0%;\n",
       "                    left: 0.0%;\n",
       "                    top: 0.0%;\n",
       "                }\n",
       "            &lt;/style&gt;\n",
       "        \n",
       "&lt;/head&gt;\n",
       "&lt;body&gt;\n",
       "    \n",
       "    \n",
       "            &lt;div class=&quot;folium-map&quot; id=&quot;map_bfb7ce202d64f011e87b81c53cdff954&quot; &gt;&lt;/div&gt;\n",
       "        \n",
       "&lt;/body&gt;\n",
       "&lt;script&gt;\n",
       "    \n",
       "    \n",
       "            var map_bfb7ce202d64f011e87b81c53cdff954 = L.map(\n",
       "                &quot;map_bfb7ce202d64f011e87b81c53cdff954&quot;,\n",
       "                {\n",
       "                    center: [51.9244, 4.4777],\n",
       "                    crs: L.CRS.EPSG3857,\n",
       "                    zoom: 8,\n",
       "                    zoomControl: true,\n",
       "                    preferCanvas: false,\n",
       "                }\n",
       "            );\n",
       "\n",
       "            \n",
       "\n",
       "        \n",
       "    \n",
       "            var tile_layer_c35d9a2e430967e8bdaf46da7be0cb51 = L.tileLayer(\n",
       "                &quot;https://cartodb-basemaps-{s}.global.ssl.fastly.net/light_all/{z}/{x}/{y}.png&quot;,\n",
       "                {&quot;attribution&quot;: &quot;\\u0026copy; \\u003ca href=\\&quot;http://www.openstreetmap.org/copyright\\&quot;\\u003eOpenStreetMap\\u003c/a\\u003e contributors \\u0026copy; \\u003ca href=\\&quot;http://cartodb.com/attributions\\&quot;\\u003eCartoDB\\u003c/a\\u003e, CartoDB \\u003ca href =\\&quot;http://cartodb.com/attributions\\&quot;\\u003eattributions\\u003c/a\\u003e&quot;, &quot;detectRetina&quot;: false, &quot;maxNativeZoom&quot;: 18, &quot;maxZoom&quot;: 18, &quot;minZoom&quot;: 0, &quot;noWrap&quot;: false, &quot;opacity&quot;: 1, &quot;subdomains&quot;: &quot;abc&quot;, &quot;tms&quot;: false}\n",
       "            ).addTo(map_bfb7ce202d64f011e87b81c53cdff954);\n",
       "        \n",
       "    \n",
       "\n",
       "        function geo_json_d7eb15e190957d73797ae88a8f01dd96_onEachFeature(feature, layer) {\n",
       "            layer.on({\n",
       "            });\n",
       "        };\n",
       "        var geo_json_d7eb15e190957d73797ae88a8f01dd96 = L.geoJson(null, {\n",
       "                onEachFeature: geo_json_d7eb15e190957d73797ae88a8f01dd96_onEachFeature,\n",
       "            \n",
       "        });\n",
       "\n",
       "        function geo_json_d7eb15e190957d73797ae88a8f01dd96_add (data) {\n",
       "            geo_json_d7eb15e190957d73797ae88a8f01dd96\n",
       "                .addData(data)\n",
       "                .addTo(map_bfb7ce202d64f011e87b81c53cdff954);\n",
       "        }\n",
       "            geo_json_d7eb15e190957d73797ae88a8f01dd96_add({&quot;coordinates&quot;: [[[[4.87037658691406, 52.2530274427686], [4.80171203613281, 52.2269582377385], [4.81956481933594, 52.1775108703737], [4.88239288330078, 52.1617182125462], [4.96238708496094, 52.1823528290166], [4.98264312744141, 52.2235933538394], [4.95964050292969, 52.2530274427686], [4.87037658691406, 52.2530274427686]]]], &quot;type&quot;: &quot;MultiPolygon&quot;});\n",
       "\n",
       "        \n",
       "    \n",
       "\n",
       "        function geo_json_8d8f99ce118a40a62695400d3cf1d1ed_onEachFeature(feature, layer) {\n",
       "            layer.on({\n",
       "            });\n",
       "        };\n",
       "        var geo_json_8d8f99ce118a40a62695400d3cf1d1ed = L.geoJson(null, {\n",
       "                onEachFeature: geo_json_8d8f99ce118a40a62695400d3cf1d1ed_onEachFeature,\n",
       "            \n",
       "        });\n",
       "\n",
       "        function geo_json_8d8f99ce118a40a62695400d3cf1d1ed_add (data) {\n",
       "            geo_json_8d8f99ce118a40a62695400d3cf1d1ed\n",
       "                .addData(data)\n",
       "                .addTo(map_bfb7ce202d64f011e87b81c53cdff954);\n",
       "        }\n",
       "            geo_json_8d8f99ce118a40a62695400d3cf1d1ed_add({&quot;coordinates&quot;: [[[[5.06778717041016, 52.0571349329375], [5.06710052490234, 52.0265148428184], [5.07877349853516, 52.0068647079123], [5.10555267333984, 52.0106686334339], [5.11894226074219, 52.0484789655358], [5.09559631347656, 52.0586126134366], [5.06778717041016, 52.0571349329375]]], [[[5.48269271850586, 51.8294127159533], [5.46303749084473, 51.8282457375513], [5.44681549072266, 51.8127008240244], [5.45522689819336, 51.8110558265829], [5.47488212585449, 51.8164151135138], [5.48269271850586, 51.8294127159533]]]], &quot;type&quot;: &quot;MultiPolygon&quot;});\n",
       "\n",
       "        \n",
       "    \n",
       "\n",
       "        function geo_json_9eadbd99b5c1b56b27332c7539a7f970_onEachFeature(feature, layer) {\n",
       "            layer.on({\n",
       "            });\n",
       "        };\n",
       "        var geo_json_9eadbd99b5c1b56b27332c7539a7f970 = L.geoJson(null, {\n",
       "                onEachFeature: geo_json_9eadbd99b5c1b56b27332c7539a7f970_onEachFeature,\n",
       "            \n",
       "        });\n",
       "\n",
       "        function geo_json_9eadbd99b5c1b56b27332c7539a7f970_add (data) {\n",
       "            geo_json_9eadbd99b5c1b56b27332c7539a7f970\n",
       "                .addData(data)\n",
       "                .addTo(map_bfb7ce202d64f011e87b81c53cdff954);\n",
       "        }\n",
       "            geo_json_9eadbd99b5c1b56b27332c7539a7f970_add({&quot;coordinates&quot;: [[[[5.87116241455078, 51.8538062484514], [5.88180541992188, 51.8646200195489], [5.88180541992187, 51.8771268259966], [5.84163665771484, 51.8894182626641], [5.81039428710938, 51.8817894907091], [5.8392333984375, 51.8622878573851], [5.87116241455078, 51.8538062484514]]], [[[5.85983276367188, 51.8494588041788], [5.83648681640625, 51.8577291913154], [5.81382751464844, 51.8336560189022], [5.85433959960937, 51.8092515668002], [5.89433670043945, 51.8250629155031], [5.87888717651367, 51.8485044309302], [5.85983276367188, 51.8494588041788]]]], &quot;type&quot;: &quot;MultiPolygon&quot;});\n",
       "\n",
       "        \n",
       "    \n",
       "                var lat_lng_popup_44108c2162c1f7a3d3cfe19b30804ce7 = L.popup();\n",
       "                function latLngPop(e) {\n",
       "                    lat_lng_popup_44108c2162c1f7a3d3cfe19b30804ce7\n",
       "                        .setLatLng(e.latlng)\n",
       "                        .setContent(&quot;Latitude: &quot; + e.latlng.lat.toFixed(4) +\n",
       "                                    &quot;&lt;br&gt;Longitude: &quot; + e.latlng.lng.toFixed(4))\n",
       "                        .openOn(map_bfb7ce202d64f011e87b81c53cdff954);\n",
       "                    }\n",
       "                map_bfb7ce202d64f011e87b81c53cdff954.on(&#x27;click&#x27;, latLngPop);\n",
       "            \n",
       "&lt;/script&gt;\n",
       "&lt;/html&gt;\" style=\"position:absolute;width:100%;height:100%;left:0;top:0;border:none !important;\" allowfullscreen webkitallowfullscreen mozallowfullscreen></iframe></div></div>"
      ],
      "text/plain": [
       "<folium.folium.Map at 0x1443c1360>"
      ]
     },
     "execution_count": 27,
     "metadata": {},
     "output_type": "execute_result"
    }
   ],
   "source": [
    "poly_map = folium.Map([51.9244, 4.4777], zoom_start=8, tiles=\"cartodbpositron\")\n",
    "for _, geometry in df[\"geometry\"].items():\n",
    "    folium.GeoJson(geometry).add_to(poly_map)\n",
    "folium.LatLngPopup().add_to(poly_map)\n",
    "poly_map"
   ]
  },
  {
   "cell_type": "markdown",
   "id": "c712f0c7",
   "metadata": {},
   "source": [
    "### Get all available concepts and their hierarchy\n",
    "\n",
    "As shown later in this notebook, you can use this information to subsequently query:\n",
    "- the details for a specific concept\n",
    "- check the occurrence of each concept in the group(s) of observations you have access to."
   ]
  },
  {
   "cell_type": "code",
   "execution_count": 28,
   "id": "69d00b06",
   "metadata": {},
   "outputs": [],
   "source": [
    "hierarchy = api_call.get_hierarchy()"
   ]
  },
  {
   "cell_type": "code",
   "execution_count": 29,
   "id": "90f7fda8",
   "metadata": {},
   "outputs": [
    {
     "name": "stdout",
     "output_type": "stream",
     "text": [
      "<class 'pandas.core.frame.DataFrame'>\n",
      "RangeIndex: 1475 entries, 0 to 1474\n",
      "Data columns (total 6 columns):\n",
      " #   Column        Non-Null Count  Dtype \n",
      "---  ------        --------------  ----- \n",
      " 0   id            1475 non-null   object\n",
      " 1   parent        1475 non-null   object\n",
      " 2   label         1475 non-null   object\n",
      " 3   altLabels     726 non-null    object\n",
      " 4   children      154 non-null    object\n",
      " 5   isTopConcept  1475 non-null   bool  \n",
      "dtypes: bool(1), object(5)\n",
      "memory usage: 59.2+ KB\n"
     ]
    }
   ],
   "source": [
    "hierarchy.info()"
   ]
  },
  {
   "cell_type": "markdown",
   "id": "8072d121",
   "metadata": {},
   "source": [
    "### Get details for specific concepts in the hierarchy\n",
    "\n",
    "You can get information on children or the parents of a concept in the hierarchy by filtering on its label or id. Use the available helper functions to do so. For example, you could do the following for the concept of a \"Kite\" (oid = \"https://sensingclues.poolparty.biz/SCCSSOntology/222\"):\n",
    "\n",
    "```\n",
    "oid = \"https://sensingclues.poolparty.biz/SCCSSOntology/222\"\n",
    "helpers.get_children_for_id(hierarchy, oid)\n",
    "helpers.get_parent_for_id(hierarchy, oid)\n",
    "helpers.get_label_for_id(hierarchy, oid)\n",
    "```\n",
    "\n",
    "or, if filtering on the label itself:\n",
    "\n",
    "```\n",
    "label = 'Kite'\n",
    "helpers.get_children_for_label(hierarchy, label)\n",
    "helpers.get_parent_for_label(hierarchy, label)\n",
    "helpers.get_id_for_label(hierarchy, label)\n",
    "```\n",
    "\n",
    "N.B. Alternatively, you could directly filter the `hierarchy`-dataframe yourself of course."
   ]
  },
  {
   "cell_type": "markdown",
   "id": "7169a510",
   "metadata": {},
   "source": [
    "#### Tell me, what animal belongs to this concept id?"
   ]
  },
  {
   "cell_type": "code",
   "execution_count": 30,
   "id": "aeae8eb8",
   "metadata": {},
   "outputs": [
    {
     "data": {
      "text/plain": [
       "'Kite'"
      ]
     },
     "execution_count": 30,
     "metadata": {},
     "output_type": "execute_result"
    }
   ],
   "source": [
    "oid = \"https://sensingclues.poolparty.biz/SCCSSOntology/222\"\n",
    "helpers.get_label_for_id(hierarchy, oid)"
   ]
  },
  {
   "cell_type": "markdown",
   "id": "904d4bf9",
   "metadata": {},
   "source": [
    "#### Does this Kite have any children?"
   ]
  },
  {
   "cell_type": "code",
   "execution_count": 31,
   "id": "f920a6c5",
   "metadata": {
    "lines_to_next_cell": 2
   },
   "outputs": [
    {
     "data": {
      "text/plain": [
       "['https://sensingclues.poolparty.biz/SCCSSOntology/223',\n",
       " 'https://sensingclues.poolparty.biz/SCCSSOntology/224']"
      ]
     },
     "execution_count": 31,
     "metadata": {},
     "output_type": "execute_result"
    }
   ],
   "source": [
    "label = \"Kite\"\n",
    "children_label = helpers.get_children_for_label(hierarchy, label)\n",
    "children_label"
   ]
  },
  {
   "cell_type": "markdown",
   "id": "fbb9a3db",
   "metadata": {},
   "source": [
    "#### What are the details for these children?"
   ]
  },
  {
   "cell_type": "code",
   "execution_count": 32,
   "id": "5f3d0d7a",
   "metadata": {},
   "outputs": [
    {
     "data": {
      "text/html": [
       "<div>\n",
       "<style scoped>\n",
       "    .dataframe tbody tr th:only-of-type {\n",
       "        vertical-align: middle;\n",
       "    }\n",
       "\n",
       "    .dataframe tbody tr th {\n",
       "        vertical-align: top;\n",
       "    }\n",
       "\n",
       "    .dataframe thead th {\n",
       "        text-align: right;\n",
       "    }\n",
       "</style>\n",
       "<table border=\"1\" class=\"dataframe\">\n",
       "  <thead>\n",
       "    <tr style=\"text-align: right;\">\n",
       "      <th></th>\n",
       "      <th>id</th>\n",
       "      <th>parent</th>\n",
       "      <th>label</th>\n",
       "      <th>altLabels</th>\n",
       "      <th>children</th>\n",
       "      <th>isTopConcept</th>\n",
       "    </tr>\n",
       "  </thead>\n",
       "  <tbody>\n",
       "    <tr>\n",
       "      <th>605</th>\n",
       "      <td>https://sensingclues.poolparty.biz/SCCSSOntolo...</td>\n",
       "      <td>https://sensingclues.poolparty.biz/SCCSSOntolo...</td>\n",
       "      <td>Kite red</td>\n",
       "      <td>[red_kite, Milvus milvus, Kite_red, Milvus mil...</td>\n",
       "      <td>NaN</td>\n",
       "      <td>False</td>\n",
       "    </tr>\n",
       "    <tr>\n",
       "      <th>847</th>\n",
       "      <td>https://sensingclues.poolparty.biz/SCCSSOntolo...</td>\n",
       "      <td>https://sensingclues.poolparty.biz/SCCSSOntolo...</td>\n",
       "      <td>Kite black</td>\n",
       "      <td>[Kite_black, Black kite, Milvus migrans, Kite_...</td>\n",
       "      <td>NaN</td>\n",
       "      <td>False</td>\n",
       "    </tr>\n",
       "  </tbody>\n",
       "</table>\n",
       "</div>"
      ],
      "text/plain": [
       "                                                    id  \\\n",
       "605  https://sensingclues.poolparty.biz/SCCSSOntolo...   \n",
       "847  https://sensingclues.poolparty.biz/SCCSSOntolo...   \n",
       "\n",
       "                                                parent       label  \\\n",
       "605  https://sensingclues.poolparty.biz/SCCSSOntolo...    Kite red   \n",
       "847  https://sensingclues.poolparty.biz/SCCSSOntolo...  Kite black   \n",
       "\n",
       "                                             altLabels children  isTopConcept  \n",
       "605  [red_kite, Milvus milvus, Kite_red, Milvus mil...      NaN         False  \n",
       "847  [Kite_black, Black kite, Milvus migrans, Kite_...      NaN         False  "
      ]
     },
     "execution_count": 32,
     "metadata": {},
     "output_type": "execute_result"
    }
   ],
   "source": [
    "hierarchy.loc[hierarchy[\"id\"].isin(children_label)]"
   ]
  },
  {
   "cell_type": "markdown",
   "id": "0310bb83",
   "metadata": {},
   "source": [
    "### Count concepts related to observations\n",
    "\n",
    "Get the number of observations per concept in the ontology (hierarchy),\n",
    "e.g. the number of observations listed as a \"Kite\" (\"https://sensingclues.poolparty.biz/SCCSSOntology/222\").\n",
    "\n",
    "You can filter on for instance:\n",
    "- `date_from` and `date_until`.\n",
    "- A list of child concepts, e.g. by extracting children for the label \"Animal sighting\" from hierarchy (see example below).\n",
    "- Note that specifying a range of coordinates (via `coord`) currently does **not** work as a filter."
   ]
  },
  {
   "cell_type": "code",
   "execution_count": 33,
   "id": "1dc260ea",
   "metadata": {},
   "outputs": [
    {
     "data": {
      "text/html": [
       "<div>\n",
       "<style scoped>\n",
       "    .dataframe tbody tr th:only-of-type {\n",
       "        vertical-align: middle;\n",
       "    }\n",
       "\n",
       "    .dataframe tbody tr th {\n",
       "        vertical-align: top;\n",
       "    }\n",
       "\n",
       "    .dataframe thead th {\n",
       "        text-align: right;\n",
       "    }\n",
       "</style>\n",
       "<table border=\"1\" class=\"dataframe\">\n",
       "  <thead>\n",
       "    <tr style=\"text-align: right;\">\n",
       "      <th></th>\n",
       "      <th>frequency</th>\n",
       "      <th>_value</th>\n",
       "    </tr>\n",
       "  </thead>\n",
       "  <tbody>\n",
       "    <tr>\n",
       "      <th>0</th>\n",
       "      <td>98</td>\n",
       "      <td>https://sensingclues.poolparty.biz/SCCSSOntolo...</td>\n",
       "    </tr>\n",
       "    <tr>\n",
       "      <th>1</th>\n",
       "      <td>97</td>\n",
       "      <td>https://sensingclues.poolparty.biz/SCCSSOntolo...</td>\n",
       "    </tr>\n",
       "    <tr>\n",
       "      <th>2</th>\n",
       "      <td>1</td>\n",
       "      <td>https://sensingclues.poolparty.biz/SCCSSOntolo...</td>\n",
       "    </tr>\n",
       "    <tr>\n",
       "      <th>3</th>\n",
       "      <td>1</td>\n",
       "      <td>https://sensingclues.poolparty.biz/SCCSSOntolo...</td>\n",
       "    </tr>\n",
       "    <tr>\n",
       "      <th>4</th>\n",
       "      <td>12</td>\n",
       "      <td>https://sensingclues.poolparty.biz/SCCSSOntolo...</td>\n",
       "    </tr>\n",
       "  </tbody>\n",
       "</table>\n",
       "</div>"
      ],
      "text/plain": [
       "   frequency                                             _value\n",
       "0         98  https://sensingclues.poolparty.biz/SCCSSOntolo...\n",
       "1         97  https://sensingclues.poolparty.biz/SCCSSOntolo...\n",
       "2          1  https://sensingclues.poolparty.biz/SCCSSOntolo...\n",
       "3          1  https://sensingclues.poolparty.biz/SCCSSOntolo...\n",
       "4         12  https://sensingclues.poolparty.biz/SCCSSOntolo..."
      ]
     },
     "execution_count": 33,
     "metadata": {},
     "output_type": "execute_result"
    }
   ],
   "source": [
    "date_from = \"2010-01-01\"\n",
    "date_until = \"2024-01-01\"\n",
    "label = \"Animal sighting\"\n",
    "children_label = helpers.get_children_for_label(hierarchy, label)\n",
    "concept_counts = api_call.get_concept_counts(\n",
    "    groups, date_from=date_from, date_until=date_until, concepts=children_label\n",
    ")\n",
    "concept_counts.head()"
   ]
  },
  {
   "cell_type": "markdown",
   "id": "c1c2c8d3",
   "metadata": {},
   "source": [
    "#### Example: visualize concept counts\n",
    "\n",
    "To make the visualization intelligible, you can add information on labels from the `hierarchy`-dataframe."
   ]
  },
  {
   "cell_type": "code",
   "execution_count": 34,
   "id": "be3cfdad",
   "metadata": {},
   "outputs": [
    {
     "data": {
      "image/png": "[encoded data removed]",
      "text/plain": [
       "<Figure size 640x480 with 1 Axes>"
      ]
     },
     "metadata": {},
     "output_type": "display_data"
    }
   ],
   "source": [
    "min_freq = 10\n",
    "if not concept_counts.empty:\n",
    "    concept_freq = concept_counts.merge(\n",
    "        hierarchy, left_on=\"_value\", right_on=\"id\", how=\"left\"\n",
    "    )\n",
    "    concept_freq[\"label\"] = concept_freq[\"label\"].fillna(concept_freq[\"_value\"])\n",
    "    concept_freq = concept_freq.set_index(\"label\")[\"frequency\"].sort_values(\n",
    "        ascending=True\n",
    "    )\n",
    "\n",
    "    concept_freq.loc[concept_freq >= min_freq].plot(kind=\"barh\")\n",
    "    plt.title(\n",
    "        f\"Number of observations per concept in group(s)\\n'{groups}' for label '{label}'\\n\"\n",
    "        f\"[{date_from} to {date_until} and minimum frequency {min_freq}]\",\n",
    "        fontsize=12,\n",
    "    )\n",
    "    plt.xlabel(\"Number of observations per concept label\")\n",
    "    plt.ylabel(\"Label of concept\")"
   ]
  }
 ],
 "metadata": {
  "kernelspec": {
   "display_name": "Python 3 (ipykernel)",
   "language": "python",
   "name": "python3"
  },
  "language_info": {
   "codemirror_mode": {
    "name": "ipython",
    "version": 3
   },
   "file_extension": ".py",
   "mimetype": "text/x-python",
   "name": "python",
   "nbconvert_exporter": "python",
   "pygments_lexer": "ipython3",
   "version": "3.10.7"
  }
 },
 "nbformat": 4,
 "nbformat_minor": 5
}
