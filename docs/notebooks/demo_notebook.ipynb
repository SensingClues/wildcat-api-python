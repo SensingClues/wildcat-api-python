{
 "cells": [
  {
   "cell_type": "markdown",
   "id": "b374aaaa",
   "metadata": {},
   "source": [
    "# Demo of functionality available in wildcat-api-python\n",
    "\n",
    "This demo shows the available functionality using default settings for parameters. For more detail on what you can configure as a user, see the documentation and description of individual methods in the WildcatApi-class.\n",
    "\n",
    "### Before you start\n",
    "\n",
    "To be able to run this notebook, you should:\n",
    "- install the wildcat-api-python package in a virtual environment (`pip install -e .` from the main directory of the repository).\n",
    "- install the requirements in requirements.txt (if not already installed automatically in the previous step).\n",
    "- create a file '.env' in the root of the wildcat-api-python-repository, containing your Cluey credentials. These will be read in this notebook to log in. The file should look like this:\n",
    "```\n",
    "# Cluey credentials\n",
    "USERNAME=your_username\n",
    "PASSWORD=your_password\n",
    "```"
   ]
  },
  {
   "cell_type": "markdown",
   "id": "3be3b1d0",
   "metadata": {},
   "source": [
    "## Configuration"
   ]
  },
  {
   "cell_type": "code",
   "execution_count": 1,
   "id": "da28b43a",
   "metadata": {},
   "outputs": [],
   "source": [
    "from wildcatpy.api_calls import WildcatApi\n",
    "from wildcatpy.src import helper_functions as helpers\n",
    "from dotenv import load_dotenv\n",
    "import matplotlib.pyplot as plt\n",
    "import json\n",
    "import os\n",
    "import pandas as pd"
   ]
  },
  {
   "cell_type": "code",
   "execution_count": 2,
   "id": "394a6d9d",
   "metadata": {},
   "outputs": [],
   "source": [
    "plt.style.use('ggplot')"
   ]
  },
  {
   "cell_type": "code",
   "execution_count": 3,
   "id": "f58cc76e",
   "metadata": {},
   "outputs": [
    {
     "data": {
      "text/plain": [
       "True"
      ]
     },
     "execution_count": 3,
     "metadata": {},
     "output_type": "execute_result"
    }
   ],
   "source": [
    "load_dotenv()"
   ]
  },
  {
   "cell_type": "code",
   "execution_count": 4,
   "id": "06931eea",
   "metadata": {},
   "outputs": [],
   "source": [
    "%load_ext autoreload\n",
    "%autoreload 2"
   ]
  },
  {
   "cell_type": "code",
   "execution_count": 5,
   "id": "6cee3adb",
   "metadata": {
    "lines_to_next_cell": 2
   },
   "outputs": [],
   "source": [
    "username = os.getenv(\"USERNAME\") # you can also type your password here manually\n",
    "password = os.getenv('PASSWORD') # You can also type your username here manually"
   ]
  },
  {
   "cell_type": "markdown",
   "id": "12fb5cd7",
   "metadata": {},
   "source": [
    "## Demo-time, here we go!"
   ]
  },
  {
   "cell_type": "code",
   "execution_count": 6,
   "id": "580166ed",
   "metadata": {},
   "outputs": [],
   "source": [
    "api_call = WildcatApi(username, password)"
   ]
  },
  {
   "cell_type": "markdown",
   "id": "b5282fab",
   "metadata": {},
   "source": [
    "### Login "
   ]
  },
  {
   "cell_type": "code",
   "execution_count": 7,
   "id": "e94234b4",
   "metadata": {},
   "outputs": [
    {
     "data": {
      "text/plain": [
       "<Response [200]>"
      ]
     },
     "execution_count": 7,
     "metadata": {},
     "output_type": "execute_result"
    }
   ],
   "source": [
    "# expected output if successful: '<Response [200]>'\n",
    "api_call.login(username, password)"
   ]
  },
  {
   "cell_type": "code",
   "execution_count": 8,
   "id": "1573537d",
   "metadata": {},
   "outputs": [],
   "source": [
    "# It is not necessary to log out, but you can do so by calling:\n",
    "# api_call.logout()"
   ]
  },
  {
   "cell_type": "markdown",
   "id": "d03ee7c3",
   "metadata": {},
   "source": [
    "### Obtain the groups you have access to"
   ]
  },
  {
   "cell_type": "code",
   "execution_count": 9,
   "id": "6d75c15a",
   "metadata": {},
   "outputs": [],
   "source": [
    "info = api_call.get_groups()"
   ]
  },
  {
   "cell_type": "code",
   "execution_count": 10,
   "id": "35c6ae19",
   "metadata": {},
   "outputs": [
    {
     "data": {
      "text/html": [
       "<div>\n",
       "<style scoped>\n",
       "    .dataframe tbody tr th:only-of-type {\n",
       "        vertical-align: middle;\n",
       "    }\n",
       "\n",
       "    .dataframe tbody tr th {\n",
       "        vertical-align: top;\n",
       "    }\n",
       "\n",
       "    .dataframe thead th {\n",
       "        text-align: right;\n",
       "    }\n",
       "</style>\n",
       "<table border=\"1\" class=\"dataframe\">\n",
       "  <thead>\n",
       "    <tr style=\"text-align: right;\">\n",
       "      <th></th>\n",
       "      <th>name</th>\n",
       "      <th>description</th>\n",
       "      <th>n_records</th>\n",
       "    </tr>\n",
       "  </thead>\n",
       "  <tbody>\n",
       "    <tr>\n",
       "      <th>0</th>\n",
       "      <td>focus-project-2435800</td>\n",
       "      <td>3june2020</td>\n",
       "      <td>253</td>\n",
       "    </tr>\n",
       "    <tr>\n",
       "      <th>1</th>\n",
       "      <td>focus-project-7136973</td>\n",
       "      <td>Cluey Data Collector</td>\n",
       "      <td>543</td>\n",
       "    </tr>\n",
       "    <tr>\n",
       "      <th>2</th>\n",
       "      <td>focus-project-7811010</td>\n",
       "      <td>Creekish mountains</td>\n",
       "      <td>124</td>\n",
       "    </tr>\n",
       "  </tbody>\n",
       "</table>\n",
       "</div>"
      ],
      "text/plain": [
       "                    name           description  n_records\n",
       "0  focus-project-2435800             3june2020        253\n",
       "1  focus-project-7136973  Cluey Data Collector        543\n",
       "2  focus-project-7811010    Creekish mountains        124"
      ]
     },
     "execution_count": 10,
     "metadata": {},
     "output_type": "execute_result"
    }
   ],
   "source": [
    "info.head()"
   ]
  },
  {
   "cell_type": "code",
   "execution_count": 11,
   "id": "4f6e018a",
   "metadata": {},
   "outputs": [],
   "source": [
    "# for other functionality, you can specify a group to extract data from\n",
    "groups = \"focus-project-7136973\""
   ]
  },
  {
   "cell_type": "markdown",
   "id": "c900d308",
   "metadata": {
    "lines_to_next_cell": 2
   },
   "source": [
    "### Get observations\n",
    "\n",
    "Note that you can control the scope (e.g. coordinates) of these observations in more detail than done here.\n",
    "\n",
    "TODO: provide detailed instructions."
   ]
  },
  {
   "cell_type": "code",
   "execution_count": 12,
   "id": "9fa7b43d",
   "metadata": {},
   "outputs": [],
   "source": [
    "observations = api_call.observation_extractor(groups=groups, operator=[\"intersects\"])"
   ]
  },
  {
   "cell_type": "code",
   "execution_count": 13,
   "id": "965bbec3",
   "metadata": {},
   "outputs": [
    {
     "name": "stdout",
     "output_type": "stream",
     "text": [
      "<class 'pandas.core.frame.DataFrame'>\n",
      "RangeIndex: 855 entries, 0 to 854\n",
      "Data columns (total 11 columns):\n",
      " #   Column           Non-Null Count  Dtype \n",
      "---  ------           --------------  ----- \n",
      " 0   entityId         855 non-null    object\n",
      " 1   entityType       855 non-null    object\n",
      " 2   entityName       855 non-null    object\n",
      " 3   projectId        855 non-null    object\n",
      " 4   projectName      855 non-null    object\n",
      " 5   observationType  855 non-null    object\n",
      " 6   when             855 non-null    object\n",
      " 7   where            855 non-null    object\n",
      " 8   agentName        855 non-null    object\n",
      " 9   conceptLabel     825 non-null    object\n",
      " 10  conceptId        832 non-null    object\n",
      "dtypes: object(11)\n",
      "memory usage: 73.6+ KB\n"
     ]
    }
   ],
   "source": [
    "observations.info()"
   ]
  },
  {
   "cell_type": "code",
   "execution_count": 14,
   "id": "bac699ff",
   "metadata": {},
   "outputs": [
    {
     "data": {
      "text/html": [
       "<div>\n",
       "<style scoped>\n",
       "    .dataframe tbody tr th:only-of-type {\n",
       "        vertical-align: middle;\n",
       "    }\n",
       "\n",
       "    .dataframe tbody tr th {\n",
       "        vertical-align: top;\n",
       "    }\n",
       "\n",
       "    .dataframe thead th {\n",
       "        text-align: right;\n",
       "    }\n",
       "</style>\n",
       "<table border=\"1\" class=\"dataframe\">\n",
       "  <thead>\n",
       "    <tr style=\"text-align: right;\">\n",
       "      <th></th>\n",
       "      <th>entityId</th>\n",
       "      <th>entityType</th>\n",
       "      <th>entityName</th>\n",
       "      <th>projectId</th>\n",
       "      <th>projectName</th>\n",
       "      <th>observationType</th>\n",
       "      <th>when</th>\n",
       "      <th>where</th>\n",
       "      <th>agentName</th>\n",
       "      <th>conceptLabel</th>\n",
       "      <th>conceptId</th>\n",
       "    </tr>\n",
       "  </thead>\n",
       "  <tbody>\n",
       "    <tr>\n",
       "      <th>0</th>\n",
       "      <td>O7136973-n3f836bf15b0b5df5</td>\n",
       "      <td>infrastructure</td>\n",
       "      <td>Observation</td>\n",
       "      <td>7136973</td>\n",
       "      <td>Cluey Data Collector</td>\n",
       "      <td>infrastructure</td>\n",
       "      <td>2023-03-09T16:55:40+0200</td>\n",
       "      <td>{'coordinates': [30.8177338, -24.2150175], 'ty...</td>\n",
       "      <td>#####</td>\n",
       "      <td>Point of Interest</td>\n",
       "      <td>https://sensingclues.poolparty.biz/SCCSSOntolo...</td>\n",
       "    </tr>\n",
       "    <tr>\n",
       "      <th>1</th>\n",
       "      <td>O7136973-n3f836bf15b0b5df5</td>\n",
       "      <td>infrastructure</td>\n",
       "      <td>Observation</td>\n",
       "      <td>7136973</td>\n",
       "      <td>Cluey Data Collector</td>\n",
       "      <td>infrastructure</td>\n",
       "      <td>2023-03-09T16:55:40+0200</td>\n",
       "      <td>{'coordinates': [30.8177338, -24.2150175], 'ty...</td>\n",
       "      <td>#####</td>\n",
       "      <td>Chili-fence</td>\n",
       "      <td>https://sensingclues.poolparty.biz/SCCSSOntolo...</td>\n",
       "    </tr>\n",
       "    <tr>\n",
       "      <th>2</th>\n",
       "      <td>O7136973-nc754e01c51f0962</td>\n",
       "      <td>offence</td>\n",
       "      <td>Observation</td>\n",
       "      <td>7136973</td>\n",
       "      <td>Cluey Data Collector</td>\n",
       "      <td>offence</td>\n",
       "      <td>2023-03-09T09:53:23+0200</td>\n",
       "      <td>{'coordinates': [30.8179859141918, -24.2148380...</td>\n",
       "      <td>#####</td>\n",
       "      <td>Illegal</td>\n",
       "      <td>https://sensingclues.poolparty.biz/SCCSSOntolo...</td>\n",
       "    </tr>\n",
       "    <tr>\n",
       "      <th>3</th>\n",
       "      <td>O7136973-nc754e01c51f0962</td>\n",
       "      <td>offence</td>\n",
       "      <td>Observation</td>\n",
       "      <td>7136973</td>\n",
       "      <td>Cluey Data Collector</td>\n",
       "      <td>offence</td>\n",
       "      <td>2023-03-09T09:53:23+0200</td>\n",
       "      <td>{'coordinates': [30.8179859141918, -24.2148380...</td>\n",
       "      <td>#####</td>\n",
       "      <td>Snare</td>\n",
       "      <td>https://sensingclues.poolparty.biz/SCCSSOntolo...</td>\n",
       "    </tr>\n",
       "    <tr>\n",
       "      <th>4</th>\n",
       "      <td>O7136973-nc754e01c51f0962</td>\n",
       "      <td>offence</td>\n",
       "      <td>Observation</td>\n",
       "      <td>7136973</td>\n",
       "      <td>Cluey Data Collector</td>\n",
       "      <td>offence</td>\n",
       "      <td>2023-03-09T09:53:23+0200</td>\n",
       "      <td>{'coordinates': [30.8179859141918, -24.2148380...</td>\n",
       "      <td>#####</td>\n",
       "      <td>De-snared</td>\n",
       "      <td>https://sensingclues.poolparty.biz/SCCSSOntolo...</td>\n",
       "    </tr>\n",
       "  </tbody>\n",
       "</table>\n",
       "</div>"
      ],
      "text/plain": [
       "                     entityId      entityType   entityName projectId  \\\n",
       "0  O7136973-n3f836bf15b0b5df5  infrastructure  Observation   7136973   \n",
       "1  O7136973-n3f836bf15b0b5df5  infrastructure  Observation   7136973   \n",
       "2   O7136973-nc754e01c51f0962         offence  Observation   7136973   \n",
       "3   O7136973-nc754e01c51f0962         offence  Observation   7136973   \n",
       "4   O7136973-nc754e01c51f0962         offence  Observation   7136973   \n",
       "\n",
       "            projectName observationType                      when  \\\n",
       "0  Cluey Data Collector  infrastructure  2023-03-09T16:55:40+0200   \n",
       "1  Cluey Data Collector  infrastructure  2023-03-09T16:55:40+0200   \n",
       "2  Cluey Data Collector         offence  2023-03-09T09:53:23+0200   \n",
       "3  Cluey Data Collector         offence  2023-03-09T09:53:23+0200   \n",
       "4  Cluey Data Collector         offence  2023-03-09T09:53:23+0200   \n",
       "\n",
       "                                               where agentName  \\\n",
       "0  {'coordinates': [30.8177338, -24.2150175], 'ty...     #####   \n",
       "1  {'coordinates': [30.8177338, -24.2150175], 'ty...     #####   \n",
       "2  {'coordinates': [30.8179859141918, -24.2148380...     #####   \n",
       "3  {'coordinates': [30.8179859141918, -24.2148380...     #####   \n",
       "4  {'coordinates': [30.8179859141918, -24.2148380...     #####   \n",
       "\n",
       "        conceptLabel                                          conceptId  \n",
       "0  Point of Interest  https://sensingclues.poolparty.biz/SCCSSOntolo...  \n",
       "1        Chili-fence  https://sensingclues.poolparty.biz/SCCSSOntolo...  \n",
       "2            Illegal  https://sensingclues.poolparty.biz/SCCSSOntolo...  \n",
       "3              Snare  https://sensingclues.poolparty.biz/SCCSSOntolo...  \n",
       "4          De-snared  https://sensingclues.poolparty.biz/SCCSSOntolo...  "
      ]
     },
     "execution_count": 14,
     "metadata": {},
     "output_type": "execute_result"
    }
   ],
   "source": [
    "observations['agentName'] = '#####'\n",
    "observations.head()"
   ]
  },
  {
   "cell_type": "markdown",
   "id": "a97abed3",
   "metadata": {},
   "source": [
    "### Get track metadata\n",
    "\n",
    "Note that you can control the scope (e.g. coordinates) of these observations in more detail than done here.\n",
    "\n",
    "TODO: provide detailed instructions."
   ]
  },
  {
   "cell_type": "code",
   "execution_count": 15,
   "id": "a0db92a2",
   "metadata": {},
   "outputs": [],
   "source": [
    "tracks = api_call.track_extractor(groups=groups, time_until=\"23:59:54-00:00\")"
   ]
  },
  {
   "cell_type": "code",
   "execution_count": 16,
   "id": "e95cd188",
   "metadata": {},
   "outputs": [
    {
     "data": {
      "text/html": [
       "<div>\n",
       "<style scoped>\n",
       "    .dataframe tbody tr th:only-of-type {\n",
       "        vertical-align: middle;\n",
       "    }\n",
       "\n",
       "    .dataframe tbody tr th {\n",
       "        vertical-align: top;\n",
       "    }\n",
       "\n",
       "    .dataframe thead th {\n",
       "        text-align: right;\n",
       "    }\n",
       "</style>\n",
       "<table border=\"1\" class=\"dataframe\">\n",
       "  <thead>\n",
       "    <tr style=\"text-align: right;\">\n",
       "      <th></th>\n",
       "      <th>entityId</th>\n",
       "      <th>entityType</th>\n",
       "      <th>projectId</th>\n",
       "      <th>projectName</th>\n",
       "      <th>featureType</th>\n",
       "      <th>length</th>\n",
       "      <th>startWhen</th>\n",
       "      <th>endWhen</th>\n",
       "      <th>agentName</th>\n",
       "    </tr>\n",
       "  </thead>\n",
       "  <tbody>\n",
       "    <tr>\n",
       "      <th>0</th>\n",
       "      <td>G7136973-58131b11-c62e-45e6-86f8-4dc58dca12d7</td>\n",
       "      <td>track</td>\n",
       "      <td>7136973</td>\n",
       "      <td>Cluey Data Collector</td>\n",
       "      <td>track/onSnareSweep</td>\n",
       "      <td>0.025799</td>\n",
       "      <td>2023-03-10T06:48:06+0200</td>\n",
       "      <td>2023-03-10T06:48:17+0200</td>\n",
       "      <td>#####</td>\n",
       "    </tr>\n",
       "    <tr>\n",
       "      <th>1</th>\n",
       "      <td>G7136973-d82a6180-3060-4f45-8fec-c51118f18703</td>\n",
       "      <td>track</td>\n",
       "      <td>7136973</td>\n",
       "      <td>Cluey Data Collector</td>\n",
       "      <td>track/onDuty</td>\n",
       "      <td>1.132286</td>\n",
       "      <td>2023-02-23T13:24:39+0200</td>\n",
       "      <td>2023-02-23T13:45:36+0200</td>\n",
       "      <td>#####</td>\n",
       "    </tr>\n",
       "    <tr>\n",
       "      <th>2</th>\n",
       "      <td>G7136973-916c161e-5b60-45d7-a1a9-d323b6cc80d2</td>\n",
       "      <td>track</td>\n",
       "      <td>7136973</td>\n",
       "      <td>Cluey Data Collector</td>\n",
       "      <td>track/onCensus</td>\n",
       "      <td>0.065548</td>\n",
       "      <td>2023-02-22T13:01:52+0200</td>\n",
       "      <td>2023-02-22T13:02:34+0200</td>\n",
       "      <td>#####</td>\n",
       "    </tr>\n",
       "    <tr>\n",
       "      <th>3</th>\n",
       "      <td>G7136973-2e1a50ef-34cc-430a-b1be-f29d373210de</td>\n",
       "      <td>track</td>\n",
       "      <td>7136973</td>\n",
       "      <td>Cluey Data Collector</td>\n",
       "      <td>track/onCensus</td>\n",
       "      <td>0.077187</td>\n",
       "      <td>2023-02-21T15:54:30+0200</td>\n",
       "      <td>2023-02-21T19:19:36+0200</td>\n",
       "      <td>#####</td>\n",
       "    </tr>\n",
       "    <tr>\n",
       "      <th>4</th>\n",
       "      <td>G7136973-1cd7b14a-09fd-4531-875c-08baeeeed2a2</td>\n",
       "      <td>track</td>\n",
       "      <td>7136973</td>\n",
       "      <td>Cluey Data Collector</td>\n",
       "      <td>track/onSafari</td>\n",
       "      <td>0.134567</td>\n",
       "      <td>2023-02-03T00:00:17+0200</td>\n",
       "      <td>2023-02-03T05:47:42+0200</td>\n",
       "      <td>#####</td>\n",
       "    </tr>\n",
       "  </tbody>\n",
       "</table>\n",
       "</div>"
      ],
      "text/plain": [
       "                                        entityId entityType projectId  \\\n",
       "0  G7136973-58131b11-c62e-45e6-86f8-4dc58dca12d7      track   7136973   \n",
       "1  G7136973-d82a6180-3060-4f45-8fec-c51118f18703      track   7136973   \n",
       "2  G7136973-916c161e-5b60-45d7-a1a9-d323b6cc80d2      track   7136973   \n",
       "3  G7136973-2e1a50ef-34cc-430a-b1be-f29d373210de      track   7136973   \n",
       "4  G7136973-1cd7b14a-09fd-4531-875c-08baeeeed2a2      track   7136973   \n",
       "\n",
       "            projectName         featureType    length  \\\n",
       "0  Cluey Data Collector  track/onSnareSweep  0.025799   \n",
       "1  Cluey Data Collector        track/onDuty  1.132286   \n",
       "2  Cluey Data Collector      track/onCensus  0.065548   \n",
       "3  Cluey Data Collector      track/onCensus  0.077187   \n",
       "4  Cluey Data Collector      track/onSafari  0.134567   \n",
       "\n",
       "                  startWhen                   endWhen agentName  \n",
       "0  2023-03-10T06:48:06+0200  2023-03-10T06:48:17+0200     #####  \n",
       "1  2023-02-23T13:24:39+0200  2023-02-23T13:45:36+0200     #####  \n",
       "2  2023-02-22T13:01:52+0200  2023-02-22T13:02:34+0200     #####  \n",
       "3  2023-02-21T15:54:30+0200  2023-02-21T19:19:36+0200     #####  \n",
       "4  2023-02-03T00:00:17+0200  2023-02-03T05:47:42+0200     #####  "
      ]
     },
     "execution_count": 16,
     "metadata": {},
     "output_type": "execute_result"
    }
   ],
   "source": [
    "tracks['agentName'] = '#####'\n",
    "tracks.head()"
   ]
  },
  {
   "cell_type": "markdown",
   "id": "133c16a0",
   "metadata": {},
   "source": [
    "### Add geosjon to track\n",
    "\n",
    "Note that you can control the scope (e.g. coordinates) of these observations in more detail than done here.\n",
    "\n",
    "TODO: provide detailed instructions."
   ]
  },
  {
   "cell_type": "code",
   "execution_count": 17,
   "id": "0a726ae4",
   "metadata": {},
   "outputs": [],
   "source": [
    "tracks_geo = api_call.add_geojson_to_track(tracks)"
   ]
  },
  {
   "cell_type": "code",
   "execution_count": 18,
   "id": "b572664d",
   "metadata": {},
   "outputs": [
    {
     "data": {
      "text/html": [
       "<div>\n",
       "<style scoped>\n",
       "    .dataframe tbody tr th:only-of-type {\n",
       "        vertical-align: middle;\n",
       "    }\n",
       "\n",
       "    .dataframe tbody tr th {\n",
       "        vertical-align: top;\n",
       "    }\n",
       "\n",
       "    .dataframe thead th {\n",
       "        text-align: right;\n",
       "    }\n",
       "</style>\n",
       "<table border=\"1\" class=\"dataframe\">\n",
       "  <thead>\n",
       "    <tr style=\"text-align: right;\">\n",
       "      <th></th>\n",
       "      <th>entityId</th>\n",
       "      <th>entityType</th>\n",
       "      <th>projectId</th>\n",
       "      <th>projectName</th>\n",
       "      <th>featureType</th>\n",
       "      <th>length</th>\n",
       "      <th>startWhen</th>\n",
       "      <th>endWhen</th>\n",
       "      <th>agentName</th>\n",
       "      <th>patrolDuration</th>\n",
       "      <th>...</th>\n",
       "      <th>EntityId</th>\n",
       "      <th>EntityClass</th>\n",
       "      <th>EntityType</th>\n",
       "      <th>AgentRef</th>\n",
       "      <th>GroupRef</th>\n",
       "      <th>Name</th>\n",
       "      <th>Description</th>\n",
       "      <th>DateTimes</th>\n",
       "      <th>Tags</th>\n",
       "      <th>geometry</th>\n",
       "    </tr>\n",
       "  </thead>\n",
       "  <tbody>\n",
       "    <tr>\n",
       "      <th>0</th>\n",
       "      <td>G7136973-58131b11-c62e-45e6-86f8-4dc58dca12d7</td>\n",
       "      <td>track</td>\n",
       "      <td>7136973</td>\n",
       "      <td>Cluey Data Collector</td>\n",
       "      <td>track/onSnareSweep</td>\n",
       "      <td>0.026</td>\n",
       "      <td>2023-03-10 06:48:06+02:00</td>\n",
       "      <td>2023-03-10 06:48:17+02:00</td>\n",
       "      <td>#####</td>\n",
       "      <td>0.003</td>\n",
       "      <td>...</td>\n",
       "      <td>G7136973-58131b11-c62e-45e6-86f8-4dc58dca12d7</td>\n",
       "      <td>NaN</td>\n",
       "      <td>track/onSnareSweep</td>\n",
       "      <td>A7131207983971604413</td>\n",
       "      <td>7136973</td>\n",
       "      <td>58131b11-c62e-45e6-86f8-4dc58dca12d7</td>\n",
       "      <td>onSnareSweep, whatever , 5</td>\n",
       "      <td>2023-03-10 06:48:17+02:00</td>\n",
       "      <td>onSnareSweep</td>\n",
       "      <td>None</td>\n",
       "    </tr>\n",
       "    <tr>\n",
       "      <th>1</th>\n",
       "      <td>G7136973-d82a6180-3060-4f45-8fec-c51118f18703</td>\n",
       "      <td>track</td>\n",
       "      <td>7136973</td>\n",
       "      <td>Cluey Data Collector</td>\n",
       "      <td>track/onDuty</td>\n",
       "      <td>1.132</td>\n",
       "      <td>2023-02-23 13:24:39+02:00</td>\n",
       "      <td>2023-02-23 13:45:36+02:00</td>\n",
       "      <td>#####</td>\n",
       "      <td>0.349</td>\n",
       "      <td>...</td>\n",
       "      <td>G7136973-d82a6180-3060-4f45-8fec-c51118f18703</td>\n",
       "      <td>NaN</td>\n",
       "      <td>track/onDuty</td>\n",
       "      <td>A952187958042535052</td>\n",
       "      <td>7136973</td>\n",
       "      <td>d82a6180-3060-4f45-8fec-c51118f18703</td>\n",
       "      <td>onDuty, 3</td>\n",
       "      <td>2023-02-23 13:45:36+02:00</td>\n",
       "      <td>onDuty</td>\n",
       "      <td>None</td>\n",
       "    </tr>\n",
       "    <tr>\n",
       "      <th>2</th>\n",
       "      <td>G7136973-916c161e-5b60-45d7-a1a9-d323b6cc80d2</td>\n",
       "      <td>track</td>\n",
       "      <td>7136973</td>\n",
       "      <td>Cluey Data Collector</td>\n",
       "      <td>track/onCensus</td>\n",
       "      <td>0.066</td>\n",
       "      <td>2023-02-22 13:01:52+02:00</td>\n",
       "      <td>2023-02-22 13:02:34+02:00</td>\n",
       "      <td>#####</td>\n",
       "      <td>0.012</td>\n",
       "      <td>...</td>\n",
       "      <td>G7136973-916c161e-5b60-45d7-a1a9-d323b6cc80d2</td>\n",
       "      <td>NaN</td>\n",
       "      <td>track/onCensus</td>\n",
       "      <td>A7131207983971604413</td>\n",
       "      <td>7136973</td>\n",
       "      <td>916c161e-5b60-45d7-a1a9-d323b6cc80d2</td>\n",
       "      <td>onCensus, CSI team case zero, 3</td>\n",
       "      <td>2023-02-22 13:02:34+02:00</td>\n",
       "      <td>onCensus</td>\n",
       "      <td>None</td>\n",
       "    </tr>\n",
       "    <tr>\n",
       "      <th>3</th>\n",
       "      <td>G7136973-2e1a50ef-34cc-430a-b1be-f29d373210de</td>\n",
       "      <td>track</td>\n",
       "      <td>7136973</td>\n",
       "      <td>Cluey Data Collector</td>\n",
       "      <td>track/onCensus</td>\n",
       "      <td>0.077</td>\n",
       "      <td>2023-02-21 15:54:30+02:00</td>\n",
       "      <td>2023-02-21 19:19:36+02:00</td>\n",
       "      <td>#####</td>\n",
       "      <td>3.418</td>\n",
       "      <td>...</td>\n",
       "      <td>G7136973-2e1a50ef-34cc-430a-b1be-f29d373210de</td>\n",
       "      <td>NaN</td>\n",
       "      <td>track/onCensus</td>\n",
       "      <td>A7131207983971604413</td>\n",
       "      <td>7136973</td>\n",
       "      <td>2e1a50ef-34cc-430a-b1be-f29d373210de</td>\n",
       "      <td>onCensus, CSI team case zero, 3</td>\n",
       "      <td>2023-02-21 19:19:36+02:00</td>\n",
       "      <td>onCensus</td>\n",
       "      <td>None</td>\n",
       "    </tr>\n",
       "    <tr>\n",
       "      <th>4</th>\n",
       "      <td>G7136973-1cd7b14a-09fd-4531-875c-08baeeeed2a2</td>\n",
       "      <td>track</td>\n",
       "      <td>7136973</td>\n",
       "      <td>Cluey Data Collector</td>\n",
       "      <td>track/onSafari</td>\n",
       "      <td>0.135</td>\n",
       "      <td>2023-02-03 00:00:17+02:00</td>\n",
       "      <td>2023-02-03 05:47:42+02:00</td>\n",
       "      <td>#####</td>\n",
       "      <td>5.790</td>\n",
       "      <td>...</td>\n",
       "      <td>G7136973-1cd7b14a-09fd-4531-875c-08baeeeed2a2</td>\n",
       "      <td>NaN</td>\n",
       "      <td>track/onSafari</td>\n",
       "      <td>A7131207983971604413</td>\n",
       "      <td>7136973</td>\n",
       "      <td>1cd7b14a-09fd-4531-875c-08baeeeed2a2</td>\n",
       "      <td>onSafari, morning , 6</td>\n",
       "      <td>2023-02-03 05:47:42+02:00</td>\n",
       "      <td>onSafari</td>\n",
       "      <td>None</td>\n",
       "    </tr>\n",
       "  </tbody>\n",
       "</table>\n",
       "<p>5 rows × 24 columns</p>\n",
       "</div>"
      ],
      "text/plain": [
       "                                        entityId entityType projectId  \\\n",
       "0  G7136973-58131b11-c62e-45e6-86f8-4dc58dca12d7      track   7136973   \n",
       "1  G7136973-d82a6180-3060-4f45-8fec-c51118f18703      track   7136973   \n",
       "2  G7136973-916c161e-5b60-45d7-a1a9-d323b6cc80d2      track   7136973   \n",
       "3  G7136973-2e1a50ef-34cc-430a-b1be-f29d373210de      track   7136973   \n",
       "4  G7136973-1cd7b14a-09fd-4531-875c-08baeeeed2a2      track   7136973   \n",
       "\n",
       "            projectName         featureType  length  \\\n",
       "0  Cluey Data Collector  track/onSnareSweep   0.026   \n",
       "1  Cluey Data Collector        track/onDuty   1.132   \n",
       "2  Cluey Data Collector      track/onCensus   0.066   \n",
       "3  Cluey Data Collector      track/onCensus   0.077   \n",
       "4  Cluey Data Collector      track/onSafari   0.135   \n",
       "\n",
       "                   startWhen                    endWhen agentName  \\\n",
       "0  2023-03-10 06:48:06+02:00  2023-03-10 06:48:17+02:00     #####   \n",
       "1  2023-02-23 13:24:39+02:00  2023-02-23 13:45:36+02:00     #####   \n",
       "2  2023-02-22 13:01:52+02:00  2023-02-22 13:02:34+02:00     #####   \n",
       "3  2023-02-21 15:54:30+02:00  2023-02-21 19:19:36+02:00     #####   \n",
       "4  2023-02-03 00:00:17+02:00  2023-02-03 05:47:42+02:00     #####   \n",
       "\n",
       "   patrolDuration  ...                                       EntityId  \\\n",
       "0           0.003  ...  G7136973-58131b11-c62e-45e6-86f8-4dc58dca12d7   \n",
       "1           0.349  ...  G7136973-d82a6180-3060-4f45-8fec-c51118f18703   \n",
       "2           0.012  ...  G7136973-916c161e-5b60-45d7-a1a9-d323b6cc80d2   \n",
       "3           3.418  ...  G7136973-2e1a50ef-34cc-430a-b1be-f29d373210de   \n",
       "4           5.790  ...  G7136973-1cd7b14a-09fd-4531-875c-08baeeeed2a2   \n",
       "\n",
       "  EntityClass          EntityType              AgentRef GroupRef  \\\n",
       "0         NaN  track/onSnareSweep  A7131207983971604413  7136973   \n",
       "1         NaN        track/onDuty   A952187958042535052  7136973   \n",
       "2         NaN      track/onCensus  A7131207983971604413  7136973   \n",
       "3         NaN      track/onCensus  A7131207983971604413  7136973   \n",
       "4         NaN      track/onSafari  A7131207983971604413  7136973   \n",
       "\n",
       "                                   Name                      Description  \\\n",
       "0  58131b11-c62e-45e6-86f8-4dc58dca12d7       onSnareSweep, whatever , 5   \n",
       "1  d82a6180-3060-4f45-8fec-c51118f18703                        onDuty, 3   \n",
       "2  916c161e-5b60-45d7-a1a9-d323b6cc80d2  onCensus, CSI team case zero, 3   \n",
       "3  2e1a50ef-34cc-430a-b1be-f29d373210de  onCensus, CSI team case zero, 3   \n",
       "4  1cd7b14a-09fd-4531-875c-08baeeeed2a2            onSafari, morning , 6   \n",
       "\n",
       "                   DateTimes          Tags geometry  \n",
       "0  2023-03-10 06:48:17+02:00  onSnareSweep     None  \n",
       "1  2023-02-23 13:45:36+02:00        onDuty     None  \n",
       "2  2023-02-22 13:02:34+02:00      onCensus     None  \n",
       "3  2023-02-21 19:19:36+02:00      onCensus     None  \n",
       "4  2023-02-03 05:47:42+02:00      onSafari     None  \n",
       "\n",
       "[5 rows x 24 columns]"
      ]
     },
     "execution_count": 18,
     "metadata": {},
     "output_type": "execute_result"
    }
   ],
   "source": [
    "tracks_geo['agentName'] = '#####'\n",
    "tracks_geo.head()"
   ]
  },
  {
   "cell_type": "markdown",
   "id": "1cbd87c0",
   "metadata": {},
   "source": [
    "### Get all available layers (projects)"
   ]
  },
  {
   "cell_type": "code",
   "execution_count": 19,
   "id": "08eee81f",
   "metadata": {},
   "outputs": [],
   "source": [
    "layers = api_call.get_all_layers()"
   ]
  },
  {
   "cell_type": "code",
   "execution_count": 20,
   "id": "792977f3",
   "metadata": {},
   "outputs": [
    {
     "data": {
      "text/html": [
       "<div>\n",
       "<style scoped>\n",
       "    .dataframe tbody tr th:only-of-type {\n",
       "        vertical-align: middle;\n",
       "    }\n",
       "\n",
       "    .dataframe tbody tr th {\n",
       "        vertical-align: top;\n",
       "    }\n",
       "\n",
       "    .dataframe thead th {\n",
       "        text-align: right;\n",
       "    }\n",
       "</style>\n",
       "<table border=\"1\" class=\"dataframe\">\n",
       "  <thead>\n",
       "    <tr style=\"text-align: right;\">\n",
       "      <th></th>\n",
       "      <th>pid</th>\n",
       "      <th>lid</th>\n",
       "      <th>layerName</th>\n",
       "      <th>description</th>\n",
       "      <th>geometryType</th>\n",
       "    </tr>\n",
       "  </thead>\n",
       "  <tbody>\n",
       "  </tbody>\n",
       "</table>\n",
       "</div>"
      ],
      "text/plain": [
       "Empty DataFrame\n",
       "Columns: [pid, lid, layerName, description, geometryType]\n",
       "Index: []"
      ]
     },
     "execution_count": 20,
     "metadata": {},
     "output_type": "execute_result"
    }
   ],
   "source": [
    "layers"
   ]
  },
  {
   "cell_type": "markdown",
   "id": "77b9b234",
   "metadata": {},
   "source": [
    "### Get details (features) for an individual layer"
   ]
  },
  {
   "cell_type": "code",
   "execution_count": 21,
   "id": "7e5f2bf7",
   "metadata": {},
   "outputs": [],
   "source": [
    "df = api_call.layer_feature_extractor(project_name='test_polygon')"
   ]
  },
  {
   "cell_type": "markdown",
   "id": "271f5f70",
   "metadata": {},
   "source": [
    "#### [optional] Plot available geometries (requires Folium)"
   ]
  },
  {
   "cell_type": "code",
   "execution_count": 22,
   "id": "9c90b729",
   "metadata": {},
   "outputs": [],
   "source": [
    "# !pip install folium"
   ]
  },
  {
   "cell_type": "code",
   "execution_count": 23,
   "id": "144502c3",
   "metadata": {},
   "outputs": [],
   "source": [
    "import folium"
   ]
  },
  {
   "cell_type": "code",
   "execution_count": null,
   "id": "a9f0ef0a",
   "metadata": {
    "lines_to_next_cell": 2
   },
   "outputs": [],
   "source": [
    "poly_map = folium.Map([51.9244, 4.4777], zoom_start=8, tiles='cartodbpositron')\n",
    "for _, geometry in df['geometry'].items():\n",
    "    folium.GeoJson(geometry).add_to(poly_map)\n",
    "folium.LatLngPopup().add_to(poly_map)\n",
    "poly_map"
   ]
  },
  {
   "cell_type": "markdown",
   "id": "9f213aea",
   "metadata": {},
   "source": [
    "### Get all available concepts and their hierarchy\n",
    "\n",
    "As shown later in this notebook, you can use this information to subsequently query:\n",
    "- the details for a specific concept\n",
    "- check the occurrence of each concept in the group(s) of observations you have access to."
   ]
  },
  {
   "cell_type": "code",
   "execution_count": 25,
   "id": "9ca59a0e",
   "metadata": {},
   "outputs": [],
   "source": [
    "hierarchy = api_call.get_hierarchy()"
   ]
  },
  {
   "cell_type": "code",
   "execution_count": 26,
   "id": "d5ea5dd1",
   "metadata": {},
   "outputs": [
    {
     "name": "stdout",
     "output_type": "stream",
     "text": [
      "<class 'pandas.core.frame.DataFrame'>\n",
      "RangeIndex: 885 entries, 0 to 884\n",
      "Data columns (total 6 columns):\n",
      " #   Column        Non-Null Count  Dtype \n",
      "---  ------        --------------  ----- \n",
      " 0   id            885 non-null    object\n",
      " 1   parent        885 non-null    object\n",
      " 2   label         885 non-null    object\n",
      " 3   altLabels     566 non-null    object\n",
      " 4   children      128 non-null    object\n",
      " 5   isTopConcept  885 non-null    bool  \n",
      "dtypes: bool(1), object(5)\n",
      "memory usage: 35.6+ KB\n"
     ]
    }
   ],
   "source": [
    "hierarchy.info()"
   ]
  },
  {
   "cell_type": "markdown",
   "id": "05ea707b",
   "metadata": {},
   "source": [
    "### Get details for specific concepts in the hierarchy\n",
    "\n",
    "You can get information on children or the parents of a concept in the hierarchy by filtering on its label or id. Use the available helper functions to do so. For example, you could do the following for the concept of a \"Kite\" (oid = \"https://sensingclues.poolparty.biz/SCCSSOntology/222\"):\n",
    "\n",
    "```\n",
    "oid = \"https://sensingclues.poolparty.biz/SCCSSOntology/222\"\n",
    "helpers.get_children_for_id(hierarchy, oid)\n",
    "helpers.get_parent_for_id(hierarchy, oid)\n",
    "helpers.get_label_for_id(hierarchy, oid)\n",
    "```\n",
    "\n",
    "or, if filtering on the label itself:\n",
    "\n",
    "```\n",
    "label = 'Kite'\n",
    "helpers.get_children_for_label(hierarchy, label)\n",
    "helpers.get_parent_for_label(hierarchy, label)\n",
    "helpers.get_id_for_label(hierarchy, label)\n",
    "```\n",
    "\n",
    "N.B. Alternatively, you could directly filter the `hierarchy`-dataframe yourself of course."
   ]
  },
  {
   "cell_type": "markdown",
   "id": "f791fe40",
   "metadata": {},
   "source": [
    "#### Tell me, what animal belongs to this concept id?"
   ]
  },
  {
   "cell_type": "code",
   "execution_count": 27,
   "id": "d5b766cf",
   "metadata": {},
   "outputs": [
    {
     "data": {
      "text/plain": [
       "'Kite'"
      ]
     },
     "execution_count": 27,
     "metadata": {},
     "output_type": "execute_result"
    }
   ],
   "source": [
    "oid = \"https://sensingclues.poolparty.biz/SCCSSOntology/222\"\n",
    "helpers.get_label_for_id(hierarchy, oid)"
   ]
  },
  {
   "cell_type": "markdown",
   "id": "20e70a45",
   "metadata": {},
   "source": [
    "#### Does this Kite have any children?"
   ]
  },
  {
   "cell_type": "code",
   "execution_count": 28,
   "id": "51b35d57",
   "metadata": {
    "lines_to_next_cell": 2
   },
   "outputs": [
    {
     "data": {
      "text/plain": [
       "['https://sensingclues.poolparty.biz/SCCSSOntology/223',\n",
       " 'https://sensingclues.poolparty.biz/SCCSSOntology/224']"
      ]
     },
     "execution_count": 28,
     "metadata": {},
     "output_type": "execute_result"
    }
   ],
   "source": [
    "label = 'Kite'\n",
    "children_label = helpers.get_children_for_label(hierarchy, label)\n",
    "children_label"
   ]
  },
  {
   "cell_type": "markdown",
   "id": "68acb1db",
   "metadata": {},
   "source": [
    "#### What are the details for these children?"
   ]
  },
  {
   "cell_type": "code",
   "execution_count": 29,
   "id": "224a3335",
   "metadata": {},
   "outputs": [
    {
     "data": {
      "text/html": [
       "<div>\n",
       "<style scoped>\n",
       "    .dataframe tbody tr th:only-of-type {\n",
       "        vertical-align: middle;\n",
       "    }\n",
       "\n",
       "    .dataframe tbody tr th {\n",
       "        vertical-align: top;\n",
       "    }\n",
       "\n",
       "    .dataframe thead th {\n",
       "        text-align: right;\n",
       "    }\n",
       "</style>\n",
       "<table border=\"1\" class=\"dataframe\">\n",
       "  <thead>\n",
       "    <tr style=\"text-align: right;\">\n",
       "      <th></th>\n",
       "      <th>id</th>\n",
       "      <th>parent</th>\n",
       "      <th>label</th>\n",
       "      <th>altLabels</th>\n",
       "      <th>children</th>\n",
       "      <th>isTopConcept</th>\n",
       "    </tr>\n",
       "  </thead>\n",
       "  <tbody>\n",
       "    <tr>\n",
       "      <th>372</th>\n",
       "      <td>https://sensingclues.poolparty.biz/SCCSSOntolo...</td>\n",
       "      <td>https://sensingclues.poolparty.biz/SCCSSOntolo...</td>\n",
       "      <td>Kite red</td>\n",
       "      <td>[Milvus milvus, Kite_red, red_kite, red_kite, ...</td>\n",
       "      <td>NaN</td>\n",
       "      <td>False</td>\n",
       "    </tr>\n",
       "    <tr>\n",
       "      <th>508</th>\n",
       "      <td>https://sensingclues.poolparty.biz/SCCSSOntolo...</td>\n",
       "      <td>https://sensingclues.poolparty.biz/SCCSSOntolo...</td>\n",
       "      <td>Kite black</td>\n",
       "      <td>[Milvus migrans, Kite_black, Black kite, Black...</td>\n",
       "      <td>NaN</td>\n",
       "      <td>False</td>\n",
       "    </tr>\n",
       "  </tbody>\n",
       "</table>\n",
       "</div>"
      ],
      "text/plain": [
       "                                                    id  \\\n",
       "372  https://sensingclues.poolparty.biz/SCCSSOntolo...   \n",
       "508  https://sensingclues.poolparty.biz/SCCSSOntolo...   \n",
       "\n",
       "                                                parent       label  \\\n",
       "372  https://sensingclues.poolparty.biz/SCCSSOntolo...    Kite red   \n",
       "508  https://sensingclues.poolparty.biz/SCCSSOntolo...  Kite black   \n",
       "\n",
       "                                             altLabels children  isTopConcept  \n",
       "372  [Milvus milvus, Kite_red, red_kite, red_kite, ...      NaN         False  \n",
       "508  [Milvus migrans, Kite_black, Black kite, Black...      NaN         False  "
      ]
     },
     "execution_count": 29,
     "metadata": {},
     "output_type": "execute_result"
    }
   ],
   "source": [
    "hierarchy.loc[hierarchy['id'].isin(children_label)]"
   ]
  },
  {
   "cell_type": "markdown",
   "id": "ea3862e0",
   "metadata": {},
   "source": [
    "### Count concepts related to observations\n",
    "\n",
    "Get the number of observations per concept in the ontology (hierarchy), e.g. the number of observations listed as a \"Kite\" (\"https://sensingclues.poolparty.biz/SCCSSOntology/222\").\n",
    "\n",
    "You can filter on for instance:\n",
    "- `date_from` and `date_until`. \n",
    "- A list of child concepts, e.g. by extracting children for the label \"Animal sighting\" from hierarchy (see example below).\n",
    "- Note that specifying a range of coordinates (via `coord`) currently does **not** work as a filter."
   ]
  },
  {
   "cell_type": "code",
   "execution_count": 30,
   "id": "36e81dcb",
   "metadata": {},
   "outputs": [
    {
     "data": {
      "text/html": [
       "<div>\n",
       "<style scoped>\n",
       "    .dataframe tbody tr th:only-of-type {\n",
       "        vertical-align: middle;\n",
       "    }\n",
       "\n",
       "    .dataframe tbody tr th {\n",
       "        vertical-align: top;\n",
       "    }\n",
       "\n",
       "    .dataframe thead th {\n",
       "        text-align: right;\n",
       "    }\n",
       "</style>\n",
       "<table border=\"1\" class=\"dataframe\">\n",
       "  <thead>\n",
       "    <tr style=\"text-align: right;\">\n",
       "      <th></th>\n",
       "      <th>frequency</th>\n",
       "      <th>_value</th>\n",
       "    </tr>\n",
       "  </thead>\n",
       "  <tbody>\n",
       "    <tr>\n",
       "      <th>0</th>\n",
       "      <td>76</td>\n",
       "      <td>https://sensingclues.poolparty.biz/SCCSSOntolo...</td>\n",
       "    </tr>\n",
       "    <tr>\n",
       "      <th>1</th>\n",
       "      <td>3</td>\n",
       "      <td>https://sensingclues.poolparty.biz/SCCSSOntolo...</td>\n",
       "    </tr>\n",
       "    <tr>\n",
       "      <th>2</th>\n",
       "      <td>7</td>\n",
       "      <td>https://sensingclues.poolparty.biz/SCCSSOntolo...</td>\n",
       "    </tr>\n",
       "    <tr>\n",
       "      <th>3</th>\n",
       "      <td>5</td>\n",
       "      <td>https://sensingclues.poolparty.biz/SCCSSOntolo...</td>\n",
       "    </tr>\n",
       "    <tr>\n",
       "      <th>4</th>\n",
       "      <td>1</td>\n",
       "      <td>https://sensingclues.poolparty.biz/SCCSSOntolo...</td>\n",
       "    </tr>\n",
       "    <tr>\n",
       "      <th>...</th>\n",
       "      <td>...</td>\n",
       "      <td>...</td>\n",
       "    </tr>\n",
       "    <tr>\n",
       "      <th>75</th>\n",
       "      <td>1</td>\n",
       "      <td>https://sensingclues.poolparty.biz/SCCSSOntolo...</td>\n",
       "    </tr>\n",
       "    <tr>\n",
       "      <th>76</th>\n",
       "      <td>3</td>\n",
       "      <td>https://sensingclues.poolparty.biz/SCCSSOntolo...</td>\n",
       "    </tr>\n",
       "    <tr>\n",
       "      <th>77</th>\n",
       "      <td>1</td>\n",
       "      <td>https://sensingclues.poolparty.biz/SCCSSOntolo...</td>\n",
       "    </tr>\n",
       "    <tr>\n",
       "      <th>78</th>\n",
       "      <td>76</td>\n",
       "      <td>https://sensingclues.poolparty.biz/SCCSSOntolo...</td>\n",
       "    </tr>\n",
       "    <tr>\n",
       "      <th>79</th>\n",
       "      <td>2</td>\n",
       "      <td>https://sensingclues.poolparty.biz/SCCSSOntolo...</td>\n",
       "    </tr>\n",
       "  </tbody>\n",
       "</table>\n",
       "<p>80 rows × 2 columns</p>\n",
       "</div>"
      ],
      "text/plain": [
       "    frequency                                             _value\n",
       "0          76  https://sensingclues.poolparty.biz/SCCSSOntolo...\n",
       "1           3  https://sensingclues.poolparty.biz/SCCSSOntolo...\n",
       "2           7  https://sensingclues.poolparty.biz/SCCSSOntolo...\n",
       "3           5  https://sensingclues.poolparty.biz/SCCSSOntolo...\n",
       "4           1  https://sensingclues.poolparty.biz/SCCSSOntolo...\n",
       "..        ...                                                ...\n",
       "75          1  https://sensingclues.poolparty.biz/SCCSSOntolo...\n",
       "76          3  https://sensingclues.poolparty.biz/SCCSSOntolo...\n",
       "77          1  https://sensingclues.poolparty.biz/SCCSSOntolo...\n",
       "78         76  https://sensingclues.poolparty.biz/SCCSSOntolo...\n",
       "79          2  https://sensingclues.poolparty.biz/SCCSSOntolo...\n",
       "\n",
       "[80 rows x 2 columns]"
      ]
     },
     "execution_count": 30,
     "metadata": {},
     "output_type": "execute_result"
    }
   ],
   "source": [
    "date_from = '2022-01-01'\n",
    "date_until = '2023-01-01'\n",
    "label = 'Animal sighting'\n",
    "children_label = helpers.get_children_for_label(hierarchy, label)\n",
    "concept_counts = api_call.get_concept_counts(groups, \n",
    "                                             date_from=date_from, date_until=date_until,\n",
    "                                             concepts=children_label)\n",
    "concept_counts"
   ]
  },
  {
   "cell_type": "markdown",
   "id": "ffb3c480",
   "metadata": {},
   "source": [
    "#### Example: visualize concept counts\n",
    "\n",
    "To make the visualization intelligible, you can add information on labels from the `hierarchy`-dataframe."
   ]
  },
  {
   "cell_type": "code",
   "execution_count": null,
   "id": "afe54461",
   "metadata": {},
   "outputs": [],
   "source": [
    "min_freq = 5\n",
    "concept_freq = concept_counts.merge(hierarchy, left_on='_value', right_on='id', how='left')\n",
    "concept_freq['label'] = concept_freq['label'].fillna(concept_freq['_value'])\n",
    "concept_freq = concept_freq.set_index('label')['frequency'].sort_values(ascending=True)\n",
    "concept_freq.loc[concept_freq >= min_freq].plot(kind='barh');\n",
    "plt.title(f\"Number of observations per concept in group(s)\\n'{groups}' for label '{label}'\\n\"\n",
    "          f\"[{date_from} to {date_until} and minimum frequency {min_freq}]\", \n",
    "          fontsize=12);\n",
    "plt.xlabel('Number of observations per concept label');\n",
    "plt.ylabel('Label of concept');"
   ]
  },
  {
   "cell_type": "code",
   "execution_count": null,
   "id": "17fa537d",
   "metadata": {},
   "outputs": [],
   "source": []
  }
 ],
 "metadata": {
  "kernelspec": {
   "display_name": "Python 3 (ipykernel)",
   "language": "python",
   "name": "python3"
  },
  "language_info": {
   "codemirror_mode": {
    "name": "ipython",
    "version": 3
   },
   "file_extension": ".py",
   "mimetype": "text/x-python",
   "name": "python",
   "nbconvert_exporter": "python",
   "pygments_lexer": "ipython3",
   "version": "3.10.7"
  }
 },
 "nbformat": 4,
 "nbformat_minor": 5
}
